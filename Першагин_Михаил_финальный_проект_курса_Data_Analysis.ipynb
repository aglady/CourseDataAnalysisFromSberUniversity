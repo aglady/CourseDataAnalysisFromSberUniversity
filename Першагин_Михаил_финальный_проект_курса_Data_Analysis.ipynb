{
  "nbformat": 4,
  "nbformat_minor": 0,
  "metadata": {
    "colab": {
      "provenance": [],
      "collapsed_sections": []
    },
    "kernelspec": {
      "name": "python3",
      "display_name": "Python 3"
    }
  },
  "cells": [
    {
      "cell_type": "markdown",
      "metadata": {
        "id": "andh5kd4ZQy7"
      },
      "source": [
        "# TLC Trip Record Data\n",
        "Полное описание данных доступно [здесь](https://www1.nyc.gov/site/tlc/about/tlc-trip-record-data.page). Оригинальное описание полей [тут](https://www1.nyc.gov/assets/tlc/downloads/pdf/data_dictionary_trip_records_yellow.pdf)\n",
        "\n",
        "Записи включают поля, в которых указываются даты / время посадки и высадки, места посадки и высадки, расстояния поездки, подробные тарифы, типы тарифов, типы оплаты и количество пассажиров, указанное водителем. Данные, использованные в прилагаемых наборах данных, были собраны и предоставлены в Комиссию по такси и лимузинам Нью-Йорка (TLC) поставщиками технологий, уполномоченными в соответствии с программами повышения качества обслуживания пассажиров такси и ливреи (TPEP / LPEP). Данные поездки не были созданы TLC, и TLC не делает никаких заявлений относительно точности этих данных.\n",
        "\n",
        "Перед вами набор данных о поездках желтых такси в Нью Йорке за январь 2019 года.\n",
        "\n",
        "Нам доступны следующие метаданные:\n",
        "1. VendorID — оператор такси. 1 = Creative Mobile Technologies, 2 = VeriFone Inc. 4 = ?\n",
        "2. tpep_pickup_datetime — дата и время включения счетчика \n",
        "3. tpep_dropoff_datetime — дата и время выключения счетчика\n",
        "4. Passenger_count — кол-во пассажиров (вводится водителем)\n",
        "5. Trip_distance — прошедшее расстояние в милях, указанное таксометром\n",
        "6. PULocationID — Идентификатор зоны в которой счетчик был включен\n",
        "7. DOLocationID — Идентификатор зоны в которой счетчик был выключен\n",
        "8. RateCodeID — тариф в конце поездки\n",
        "\n",
        "1 = Стандартный тариф\n",
        "\n",
        "2 = Аэропорт JFK\n",
        "\n",
        "3 = Ньюарк\n",
        "\n",
        "4 = Нассау или Вестчестер\n",
        "\n",
        "5 = Договорной тариф\n",
        "\n",
        "6 = Групповая поездка\n",
        "\n",
        "9. Store_and_fwd_flag — Этот флаг показывает хранились ли данные о поездке \"внутри машины\", если не было соединения с сервером.\n",
        "10. Payment_type — Код, обозначающий тип оплаты\n",
        "\n",
        "1 = Кредитка\n",
        "\n",
        "2 = Наличные\n",
        "\n",
        "3 = Бесплатно или не было оплаты\n",
        "\n",
        "4 = Спор (диспут)\n",
        "\n",
        "5 = Неизвестно\n",
        "\n",
        "6 = Аннулированная поездка\n",
        "11. Fare_amount — время-дистанция, посчитанная счетчиком (что-то вроде нормированной длины поездки с учетом времени и дистанции, безразмерная величина)\n",
        "12. Extra — Разные прибавки и доплаты. В данный момент включает в себя только 0.5\\$ и 1\\$ в час пик и ночная оплата\n",
        "13. MTA_tax — Metropolitan commuter transportation mobility tax. Налог, выставляемый автоматически по пробегу\n",
        "14. Improvement_surcharge — надбавка за благоустройство 0.30\\$ (появилась в 2015)\n",
        "15. Tip_amount — чаевые, заполняется автоматически для кредитных карт, наличные не считаются\n",
        "16. Tolls_amount — Общая сумма всех сборов за поездку (налоговых и проч)\n",
        "17. Total_amount — Суммарная стоимость\n",
        "18. congestion_surcharge — сбор за пробки\n",
        "\n",
        "FYI\n",
        "[Разница между желтым и зеленым такси](https://freetoursbyfoot.com/taxi-guide-hailing-cab-nyc/) и еще [тут](https://en.wikipedia.org/wiki/Boro_taxi)"
      ]
    },
    {
      "cell_type": "markdown",
      "metadata": {
        "id": "4c7W8_hStTym"
      },
      "source": [
        "# Задание\n",
        "1. Проведите ABC анализ по стартовым-конечным локациям поездок. Существенно ли результаты анализа различаются в разбивке по операторам такси?\n",
        "2. Проведите XYZ анализ по стартовым-конечным локациям поездок. Существенно ли результаты анализа различаются в разбивке по операторам такси?\n",
        "3. Для нескольких одинаковых зон посадки и высадки (штук 5) сравните средние значения длительности поездки для операторов 1 и 2. Проверьте истинность гипотезы о равенстве среднего времени для выбранных маршрутов с помощью t критерия и pvalue ([модуль stats](https://docs.scipy.org/doc/scipy/reference/generated/scipy.stats.ttest_ind.html))\n",
        "4. В базе student_x создайте таблицу для загрузки этого набора данных. Загрузите набор данных в созданную таблицу, и затем в redash постройте дэшборд отражающий кол-во поездок каждый день в разбивке по операторам такси, а также общую сумму выручки за вычетом налогов."
      ]
    },
    {
      "cell_type": "markdown",
      "metadata": {
        "id": "_9dMmhQWtZw2"
      },
      "source": [
        "Загрузить данные можно по аналогии, для этого нужно \"подсоединить\" свой гугл драйв к ноутбуку\n",
        "https://drive.google.com/file/d/1xWbT8jYI-YrrOD991NODC9zRlzmQAoQ3/view?usp=sharing \n",
        "\n",
        "Предварительно нужно скопировать данные себе на гугл драйв. Самый простой способ это \"создать ярлык\", чтобы не скачивать, а потом не загружать 600мб данных\n",
        "https://drive.google.com/file/d/1eIQC77qhkAdzoigmXR6jo2jLBCISx3vP/view?usp=sharing"
      ]
    },
    {
      "cell_type": "code",
      "metadata": {
        "colab": {
          "base_uri": "https://localhost:8080/"
        },
        "id": "qUC3pA_sA5af",
        "outputId": "de749d1d-edce-44f6-823c-3b5c22227c50"
      },
      "source": [
        "from google.colab import drive\n",
        "drive.mount('/content/drive')"
      ],
      "execution_count": null,
      "outputs": [
        {
          "output_type": "stream",
          "text": [
            "Drive already mounted at /content/drive; to attempt to forcibly remount, call drive.mount(\"/content/drive\", force_remount=True).\n"
          ],
          "name": "stdout"
        }
      ]
    },
    {
      "cell_type": "code",
      "metadata": {
        "id": "3iUtPU6jZav6",
        "colab": {
          "base_uri": "https://localhost:8080/",
          "height": 223
        },
        "outputId": "a8a70448-7487-4b56-82bc-41b07b1377f8"
      },
      "source": [
        "import numpy as np\n",
        "import pandas as pd\n",
        "from matplotlib import pyplot as plt\n",
        "\n",
        "data = pd.read_csv('/content/drive/My Drive/yellow_tripdata_2019-01.csv')\n",
        "data.head(5)"
      ],
      "execution_count": null,
      "outputs": [
        {
          "output_type": "execute_result",
          "data": {
            "text/html": [
              "<div>\n",
              "<style scoped>\n",
              "    .dataframe tbody tr th:only-of-type {\n",
              "        vertical-align: middle;\n",
              "    }\n",
              "\n",
              "    .dataframe tbody tr th {\n",
              "        vertical-align: top;\n",
              "    }\n",
              "\n",
              "    .dataframe thead th {\n",
              "        text-align: right;\n",
              "    }\n",
              "</style>\n",
              "<table border=\"1\" class=\"dataframe\">\n",
              "  <thead>\n",
              "    <tr style=\"text-align: right;\">\n",
              "      <th></th>\n",
              "      <th>VendorID</th>\n",
              "      <th>tpep_pickup_datetime</th>\n",
              "      <th>tpep_dropoff_datetime</th>\n",
              "      <th>passenger_count</th>\n",
              "      <th>trip_distance</th>\n",
              "      <th>RatecodeID</th>\n",
              "      <th>store_and_fwd_flag</th>\n",
              "      <th>PULocationID</th>\n",
              "      <th>DOLocationID</th>\n",
              "      <th>payment_type</th>\n",
              "      <th>fare_amount</th>\n",
              "      <th>extra</th>\n",
              "      <th>mta_tax</th>\n",
              "      <th>tip_amount</th>\n",
              "      <th>tolls_amount</th>\n",
              "      <th>improvement_surcharge</th>\n",
              "      <th>total_amount</th>\n",
              "      <th>congestion_surcharge</th>\n",
              "    </tr>\n",
              "  </thead>\n",
              "  <tbody>\n",
              "    <tr>\n",
              "      <th>0</th>\n",
              "      <td>1</td>\n",
              "      <td>2019-01-01 00:46:40</td>\n",
              "      <td>2019-01-01 00:53:20</td>\n",
              "      <td>1</td>\n",
              "      <td>1.5</td>\n",
              "      <td>1</td>\n",
              "      <td>N</td>\n",
              "      <td>151</td>\n",
              "      <td>239</td>\n",
              "      <td>1</td>\n",
              "      <td>7.0</td>\n",
              "      <td>0.5</td>\n",
              "      <td>0.5</td>\n",
              "      <td>1.65</td>\n",
              "      <td>0.0</td>\n",
              "      <td>0.3</td>\n",
              "      <td>9.95</td>\n",
              "      <td>NaN</td>\n",
              "    </tr>\n",
              "    <tr>\n",
              "      <th>1</th>\n",
              "      <td>1</td>\n",
              "      <td>2019-01-01 00:59:47</td>\n",
              "      <td>2019-01-01 01:18:59</td>\n",
              "      <td>1</td>\n",
              "      <td>2.6</td>\n",
              "      <td>1</td>\n",
              "      <td>N</td>\n",
              "      <td>239</td>\n",
              "      <td>246</td>\n",
              "      <td>1</td>\n",
              "      <td>14.0</td>\n",
              "      <td>0.5</td>\n",
              "      <td>0.5</td>\n",
              "      <td>1.00</td>\n",
              "      <td>0.0</td>\n",
              "      <td>0.3</td>\n",
              "      <td>16.30</td>\n",
              "      <td>NaN</td>\n",
              "    </tr>\n",
              "    <tr>\n",
              "      <th>2</th>\n",
              "      <td>2</td>\n",
              "      <td>2018-12-21 13:48:30</td>\n",
              "      <td>2018-12-21 13:52:40</td>\n",
              "      <td>3</td>\n",
              "      <td>0.0</td>\n",
              "      <td>1</td>\n",
              "      <td>N</td>\n",
              "      <td>236</td>\n",
              "      <td>236</td>\n",
              "      <td>1</td>\n",
              "      <td>4.5</td>\n",
              "      <td>0.5</td>\n",
              "      <td>0.5</td>\n",
              "      <td>0.00</td>\n",
              "      <td>0.0</td>\n",
              "      <td>0.3</td>\n",
              "      <td>5.80</td>\n",
              "      <td>NaN</td>\n",
              "    </tr>\n",
              "    <tr>\n",
              "      <th>3</th>\n",
              "      <td>2</td>\n",
              "      <td>2018-11-28 15:52:25</td>\n",
              "      <td>2018-11-28 15:55:45</td>\n",
              "      <td>5</td>\n",
              "      <td>0.0</td>\n",
              "      <td>1</td>\n",
              "      <td>N</td>\n",
              "      <td>193</td>\n",
              "      <td>193</td>\n",
              "      <td>2</td>\n",
              "      <td>3.5</td>\n",
              "      <td>0.5</td>\n",
              "      <td>0.5</td>\n",
              "      <td>0.00</td>\n",
              "      <td>0.0</td>\n",
              "      <td>0.3</td>\n",
              "      <td>7.55</td>\n",
              "      <td>NaN</td>\n",
              "    </tr>\n",
              "    <tr>\n",
              "      <th>4</th>\n",
              "      <td>2</td>\n",
              "      <td>2018-11-28 15:56:57</td>\n",
              "      <td>2018-11-28 15:58:33</td>\n",
              "      <td>5</td>\n",
              "      <td>0.0</td>\n",
              "      <td>2</td>\n",
              "      <td>N</td>\n",
              "      <td>193</td>\n",
              "      <td>193</td>\n",
              "      <td>2</td>\n",
              "      <td>52.0</td>\n",
              "      <td>0.0</td>\n",
              "      <td>0.5</td>\n",
              "      <td>0.00</td>\n",
              "      <td>0.0</td>\n",
              "      <td>0.3</td>\n",
              "      <td>55.55</td>\n",
              "      <td>NaN</td>\n",
              "    </tr>\n",
              "  </tbody>\n",
              "</table>\n",
              "</div>"
            ],
            "text/plain": [
              "   VendorID tpep_pickup_datetime  ... total_amount  congestion_surcharge\n",
              "0         1  2019-01-01 00:46:40  ...         9.95                   NaN\n",
              "1         1  2019-01-01 00:59:47  ...        16.30                   NaN\n",
              "2         2  2018-12-21 13:48:30  ...         5.80                   NaN\n",
              "3         2  2018-11-28 15:52:25  ...         7.55                   NaN\n",
              "4         2  2018-11-28 15:56:57  ...        55.55                   NaN\n",
              "\n",
              "[5 rows x 18 columns]"
            ]
          },
          "metadata": {
            "tags": []
          },
          "execution_count": 3
        }
      ]
    },
    {
      "cell_type": "code",
      "metadata": {
        "id": "HP4IIoB2wbIQ"
      },
      "source": [
        "# ваш код начинается здесь"
      ],
      "execution_count": null,
      "outputs": []
    },
    {
      "cell_type": "markdown",
      "metadata": {
        "id": "R6X1HWoJqKPw"
      },
      "source": [
        "Оценим исходные данные, \n",
        "\n",
        "удалим проблемные значения"
      ]
    },
    {
      "cell_type": "code",
      "metadata": {
        "colab": {
          "base_uri": "https://localhost:8080/"
        },
        "id": "UON9kN2BDNyN",
        "outputId": "8a5b97f6-36f6-4ca7-f956-4a6b62cf42d4"
      },
      "source": [
        "data.shape"
      ],
      "execution_count": null,
      "outputs": [
        {
          "output_type": "execute_result",
          "data": {
            "text/plain": [
              "(7667792, 18)"
            ]
          },
          "metadata": {
            "tags": []
          },
          "execution_count": 4
        }
      ]
    },
    {
      "cell_type": "code",
      "metadata": {
        "colab": {
          "base_uri": "https://localhost:8080/",
          "height": 332
        },
        "id": "K6jtZxVDD61a",
        "outputId": "459f5189-1038-4b63-f347-77713b1392c2"
      },
      "source": [
        "data.describe()"
      ],
      "execution_count": null,
      "outputs": [
        {
          "output_type": "execute_result",
          "data": {
            "text/html": [
              "<div>\n",
              "<style scoped>\n",
              "    .dataframe tbody tr th:only-of-type {\n",
              "        vertical-align: middle;\n",
              "    }\n",
              "\n",
              "    .dataframe tbody tr th {\n",
              "        vertical-align: top;\n",
              "    }\n",
              "\n",
              "    .dataframe thead th {\n",
              "        text-align: right;\n",
              "    }\n",
              "</style>\n",
              "<table border=\"1\" class=\"dataframe\">\n",
              "  <thead>\n",
              "    <tr style=\"text-align: right;\">\n",
              "      <th></th>\n",
              "      <th>VendorID</th>\n",
              "      <th>passenger_count</th>\n",
              "      <th>trip_distance</th>\n",
              "      <th>RatecodeID</th>\n",
              "      <th>PULocationID</th>\n",
              "      <th>DOLocationID</th>\n",
              "      <th>payment_type</th>\n",
              "      <th>fare_amount</th>\n",
              "      <th>extra</th>\n",
              "      <th>mta_tax</th>\n",
              "      <th>tip_amount</th>\n",
              "      <th>tolls_amount</th>\n",
              "      <th>improvement_surcharge</th>\n",
              "      <th>total_amount</th>\n",
              "      <th>congestion_surcharge</th>\n",
              "    </tr>\n",
              "  </thead>\n",
              "  <tbody>\n",
              "    <tr>\n",
              "      <th>count</th>\n",
              "      <td>7.667792e+06</td>\n",
              "      <td>7.667792e+06</td>\n",
              "      <td>7.667792e+06</td>\n",
              "      <td>7.667792e+06</td>\n",
              "      <td>7.667792e+06</td>\n",
              "      <td>7.667792e+06</td>\n",
              "      <td>7.667792e+06</td>\n",
              "      <td>7.667792e+06</td>\n",
              "      <td>7.667792e+06</td>\n",
              "      <td>7.667792e+06</td>\n",
              "      <td>7.667792e+06</td>\n",
              "      <td>7.667792e+06</td>\n",
              "      <td>7.667792e+06</td>\n",
              "      <td>7.667792e+06</td>\n",
              "      <td>2.811814e+06</td>\n",
              "    </tr>\n",
              "    <tr>\n",
              "      <th>mean</th>\n",
              "      <td>1.636775e+00</td>\n",
              "      <td>1.567078e+00</td>\n",
              "      <td>2.801084e+00</td>\n",
              "      <td>1.058371e+00</td>\n",
              "      <td>1.655009e+02</td>\n",
              "      <td>1.637529e+02</td>\n",
              "      <td>1.291776e+00</td>\n",
              "      <td>1.240941e+01</td>\n",
              "      <td>3.280394e-01</td>\n",
              "      <td>4.968458e-01</td>\n",
              "      <td>1.827367e+00</td>\n",
              "      <td>3.169187e-01</td>\n",
              "      <td>2.993382e-01</td>\n",
              "      <td>1.568222e+01</td>\n",
              "      <td>3.289691e-05</td>\n",
              "    </tr>\n",
              "    <tr>\n",
              "      <th>std</th>\n",
              "      <td>5.398204e-01</td>\n",
              "      <td>1.224431e+00</td>\n",
              "      <td>3.737529e+00</td>\n",
              "      <td>6.780889e-01</td>\n",
              "      <td>6.639180e+01</td>\n",
              "      <td>7.036445e+01</td>\n",
              "      <td>4.733229e-01</td>\n",
              "      <td>2.620721e+02</td>\n",
              "      <td>5.074789e-01</td>\n",
              "      <td>5.337843e-02</td>\n",
              "      <td>2.501213e+00</td>\n",
              "      <td>2.023665e+00</td>\n",
              "      <td>1.911711e-02</td>\n",
              "      <td>2.622932e+02</td>\n",
              "      <td>9.068695e-03</td>\n",
              "    </tr>\n",
              "    <tr>\n",
              "      <th>min</th>\n",
              "      <td>1.000000e+00</td>\n",
              "      <td>0.000000e+00</td>\n",
              "      <td>0.000000e+00</td>\n",
              "      <td>1.000000e+00</td>\n",
              "      <td>1.000000e+00</td>\n",
              "      <td>1.000000e+00</td>\n",
              "      <td>1.000000e+00</td>\n",
              "      <td>-3.620000e+02</td>\n",
              "      <td>-6.000000e+01</td>\n",
              "      <td>-5.000000e-01</td>\n",
              "      <td>-6.350000e+01</td>\n",
              "      <td>-7.000000e+01</td>\n",
              "      <td>-3.000000e-01</td>\n",
              "      <td>-3.628000e+02</td>\n",
              "      <td>0.000000e+00</td>\n",
              "    </tr>\n",
              "    <tr>\n",
              "      <th>25%</th>\n",
              "      <td>1.000000e+00</td>\n",
              "      <td>1.000000e+00</td>\n",
              "      <td>9.000000e-01</td>\n",
              "      <td>1.000000e+00</td>\n",
              "      <td>1.300000e+02</td>\n",
              "      <td>1.130000e+02</td>\n",
              "      <td>1.000000e+00</td>\n",
              "      <td>6.000000e+00</td>\n",
              "      <td>0.000000e+00</td>\n",
              "      <td>5.000000e-01</td>\n",
              "      <td>0.000000e+00</td>\n",
              "      <td>0.000000e+00</td>\n",
              "      <td>3.000000e-01</td>\n",
              "      <td>8.190000e+00</td>\n",
              "      <td>0.000000e+00</td>\n",
              "    </tr>\n",
              "    <tr>\n",
              "      <th>50%</th>\n",
              "      <td>2.000000e+00</td>\n",
              "      <td>1.000000e+00</td>\n",
              "      <td>1.530000e+00</td>\n",
              "      <td>1.000000e+00</td>\n",
              "      <td>1.620000e+02</td>\n",
              "      <td>1.620000e+02</td>\n",
              "      <td>1.000000e+00</td>\n",
              "      <td>8.500000e+00</td>\n",
              "      <td>0.000000e+00</td>\n",
              "      <td>5.000000e-01</td>\n",
              "      <td>1.430000e+00</td>\n",
              "      <td>0.000000e+00</td>\n",
              "      <td>3.000000e-01</td>\n",
              "      <td>1.127000e+01</td>\n",
              "      <td>0.000000e+00</td>\n",
              "    </tr>\n",
              "    <tr>\n",
              "      <th>75%</th>\n",
              "      <td>2.000000e+00</td>\n",
              "      <td>2.000000e+00</td>\n",
              "      <td>2.800000e+00</td>\n",
              "      <td>1.000000e+00</td>\n",
              "      <td>2.340000e+02</td>\n",
              "      <td>2.340000e+02</td>\n",
              "      <td>2.000000e+00</td>\n",
              "      <td>1.350000e+01</td>\n",
              "      <td>5.000000e-01</td>\n",
              "      <td>5.000000e-01</td>\n",
              "      <td>2.330000e+00</td>\n",
              "      <td>0.000000e+00</td>\n",
              "      <td>3.000000e-01</td>\n",
              "      <td>1.656000e+01</td>\n",
              "      <td>0.000000e+00</td>\n",
              "    </tr>\n",
              "    <tr>\n",
              "      <th>max</th>\n",
              "      <td>4.000000e+00</td>\n",
              "      <td>9.000000e+00</td>\n",
              "      <td>8.318000e+02</td>\n",
              "      <td>9.900000e+01</td>\n",
              "      <td>2.650000e+02</td>\n",
              "      <td>2.650000e+02</td>\n",
              "      <td>4.000000e+00</td>\n",
              "      <td>6.232599e+05</td>\n",
              "      <td>5.353800e+02</td>\n",
              "      <td>6.080000e+01</td>\n",
              "      <td>7.872500e+02</td>\n",
              "      <td>3.288000e+03</td>\n",
              "      <td>6.000000e-01</td>\n",
              "      <td>6.232617e+05</td>\n",
              "      <td>2.500000e+00</td>\n",
              "    </tr>\n",
              "  </tbody>\n",
              "</table>\n",
              "</div>"
            ],
            "text/plain": [
              "           VendorID  passenger_count  ...  total_amount  congestion_surcharge\n",
              "count  7.667792e+06     7.667792e+06  ...  7.667792e+06          2.811814e+06\n",
              "mean   1.636775e+00     1.567078e+00  ...  1.568222e+01          3.289691e-05\n",
              "std    5.398204e-01     1.224431e+00  ...  2.622932e+02          9.068695e-03\n",
              "min    1.000000e+00     0.000000e+00  ... -3.628000e+02          0.000000e+00\n",
              "25%    1.000000e+00     1.000000e+00  ...  8.190000e+00          0.000000e+00\n",
              "50%    2.000000e+00     1.000000e+00  ...  1.127000e+01          0.000000e+00\n",
              "75%    2.000000e+00     2.000000e+00  ...  1.656000e+01          0.000000e+00\n",
              "max    4.000000e+00     9.000000e+00  ...  6.232617e+05          2.500000e+00\n",
              "\n",
              "[8 rows x 15 columns]"
            ]
          },
          "metadata": {
            "tags": []
          },
          "execution_count": 76
        }
      ]
    },
    {
      "cell_type": "code",
      "metadata": {
        "colab": {
          "base_uri": "https://localhost:8080/"
        },
        "id": "mGUANNNSEAMT",
        "outputId": "8d0a6909-a6de-4b7f-b875-dd7c5fbe4c67"
      },
      "source": [
        "data.info()"
      ],
      "execution_count": null,
      "outputs": [
        {
          "output_type": "stream",
          "text": [
            "<class 'pandas.core.frame.DataFrame'>\n",
            "RangeIndex: 7667792 entries, 0 to 7667791\n",
            "Data columns (total 18 columns):\n",
            " #   Column                 Dtype  \n",
            "---  ------                 -----  \n",
            " 0   VendorID               int64  \n",
            " 1   tpep_pickup_datetime   object \n",
            " 2   tpep_dropoff_datetime  object \n",
            " 3   passenger_count        int64  \n",
            " 4   trip_distance          float64\n",
            " 5   RatecodeID             int64  \n",
            " 6   store_and_fwd_flag     object \n",
            " 7   PULocationID           int64  \n",
            " 8   DOLocationID           int64  \n",
            " 9   payment_type           int64  \n",
            " 10  fare_amount            float64\n",
            " 11  extra                  float64\n",
            " 12  mta_tax                float64\n",
            " 13  tip_amount             float64\n",
            " 14  tolls_amount           float64\n",
            " 15  improvement_surcharge  float64\n",
            " 16  total_amount           float64\n",
            " 17  congestion_surcharge   float64\n",
            "dtypes: float64(9), int64(6), object(3)\n",
            "memory usage: 1.0+ GB\n"
          ],
          "name": "stdout"
        }
      ]
    },
    {
      "cell_type": "code",
      "metadata": {
        "colab": {
          "base_uri": "https://localhost:8080/",
          "height": 437
        },
        "id": "ilIDANoMEgfj",
        "outputId": "8fb7699e-09df-437f-c00e-a7426aa945cf"
      },
      "source": [
        "data[data['total_amount']<=0]"
      ],
      "execution_count": null,
      "outputs": [
        {
          "output_type": "execute_result",
          "data": {
            "text/html": [
              "<div>\n",
              "<style scoped>\n",
              "    .dataframe tbody tr th:only-of-type {\n",
              "        vertical-align: middle;\n",
              "    }\n",
              "\n",
              "    .dataframe tbody tr th {\n",
              "        vertical-align: top;\n",
              "    }\n",
              "\n",
              "    .dataframe thead th {\n",
              "        text-align: right;\n",
              "    }\n",
              "</style>\n",
              "<table border=\"1\" class=\"dataframe\">\n",
              "  <thead>\n",
              "    <tr style=\"text-align: right;\">\n",
              "      <th></th>\n",
              "      <th>VendorID</th>\n",
              "      <th>tpep_pickup_datetime</th>\n",
              "      <th>tpep_dropoff_datetime</th>\n",
              "      <th>passenger_count</th>\n",
              "      <th>trip_distance</th>\n",
              "      <th>RatecodeID</th>\n",
              "      <th>store_and_fwd_flag</th>\n",
              "      <th>PULocationID</th>\n",
              "      <th>DOLocationID</th>\n",
              "      <th>payment_type</th>\n",
              "      <th>fare_amount</th>\n",
              "      <th>extra</th>\n",
              "      <th>mta_tax</th>\n",
              "      <th>tip_amount</th>\n",
              "      <th>tolls_amount</th>\n",
              "      <th>improvement_surcharge</th>\n",
              "      <th>total_amount</th>\n",
              "      <th>congestion_surcharge</th>\n",
              "    </tr>\n",
              "  </thead>\n",
              "  <tbody>\n",
              "    <tr>\n",
              "      <th>663</th>\n",
              "      <td>2</td>\n",
              "      <td>2019-01-01 00:32:56</td>\n",
              "      <td>2019-01-01 00:33:35</td>\n",
              "      <td>2</td>\n",
              "      <td>0.10</td>\n",
              "      <td>1</td>\n",
              "      <td>N</td>\n",
              "      <td>148</td>\n",
              "      <td>148</td>\n",
              "      <td>3</td>\n",
              "      <td>-2.5</td>\n",
              "      <td>-0.5</td>\n",
              "      <td>-0.5</td>\n",
              "      <td>0.0</td>\n",
              "      <td>0.0</td>\n",
              "      <td>-0.3</td>\n",
              "      <td>-3.8</td>\n",
              "      <td>NaN</td>\n",
              "    </tr>\n",
              "    <tr>\n",
              "      <th>2402</th>\n",
              "      <td>2</td>\n",
              "      <td>2019-01-01 00:14:18</td>\n",
              "      <td>2019-01-01 00:40:55</td>\n",
              "      <td>1</td>\n",
              "      <td>4.13</td>\n",
              "      <td>1</td>\n",
              "      <td>N</td>\n",
              "      <td>170</td>\n",
              "      <td>238</td>\n",
              "      <td>4</td>\n",
              "      <td>-19.0</td>\n",
              "      <td>-0.5</td>\n",
              "      <td>-0.5</td>\n",
              "      <td>0.0</td>\n",
              "      <td>0.0</td>\n",
              "      <td>-0.3</td>\n",
              "      <td>-20.3</td>\n",
              "      <td>NaN</td>\n",
              "    </tr>\n",
              "    <tr>\n",
              "      <th>2541</th>\n",
              "      <td>2</td>\n",
              "      <td>2019-01-01 00:31:27</td>\n",
              "      <td>2019-01-01 00:42:39</td>\n",
              "      <td>1</td>\n",
              "      <td>1.35</td>\n",
              "      <td>1</td>\n",
              "      <td>N</td>\n",
              "      <td>162</td>\n",
              "      <td>234</td>\n",
              "      <td>4</td>\n",
              "      <td>-8.5</td>\n",
              "      <td>-0.5</td>\n",
              "      <td>-0.5</td>\n",
              "      <td>0.0</td>\n",
              "      <td>0.0</td>\n",
              "      <td>-0.3</td>\n",
              "      <td>-9.8</td>\n",
              "      <td>NaN</td>\n",
              "    </tr>\n",
              "    <tr>\n",
              "      <th>2544</th>\n",
              "      <td>2</td>\n",
              "      <td>2019-01-01 00:45:57</td>\n",
              "      <td>2019-01-01 00:46:07</td>\n",
              "      <td>1</td>\n",
              "      <td>0.00</td>\n",
              "      <td>1</td>\n",
              "      <td>N</td>\n",
              "      <td>234</td>\n",
              "      <td>234</td>\n",
              "      <td>4</td>\n",
              "      <td>-2.5</td>\n",
              "      <td>-0.5</td>\n",
              "      <td>-0.5</td>\n",
              "      <td>0.0</td>\n",
              "      <td>0.0</td>\n",
              "      <td>-0.3</td>\n",
              "      <td>-3.8</td>\n",
              "      <td>NaN</td>\n",
              "    </tr>\n",
              "    <tr>\n",
              "      <th>2547</th>\n",
              "      <td>2</td>\n",
              "      <td>2019-01-01 00:48:35</td>\n",
              "      <td>2019-01-01 00:49:59</td>\n",
              "      <td>1</td>\n",
              "      <td>0.16</td>\n",
              "      <td>1</td>\n",
              "      <td>N</td>\n",
              "      <td>234</td>\n",
              "      <td>234</td>\n",
              "      <td>4</td>\n",
              "      <td>-3.0</td>\n",
              "      <td>-0.5</td>\n",
              "      <td>-0.5</td>\n",
              "      <td>0.0</td>\n",
              "      <td>0.0</td>\n",
              "      <td>-0.3</td>\n",
              "      <td>-4.3</td>\n",
              "      <td>NaN</td>\n",
              "    </tr>\n",
              "    <tr>\n",
              "      <th>...</th>\n",
              "      <td>...</td>\n",
              "      <td>...</td>\n",
              "      <td>...</td>\n",
              "      <td>...</td>\n",
              "      <td>...</td>\n",
              "      <td>...</td>\n",
              "      <td>...</td>\n",
              "      <td>...</td>\n",
              "      <td>...</td>\n",
              "      <td>...</td>\n",
              "      <td>...</td>\n",
              "      <td>...</td>\n",
              "      <td>...</td>\n",
              "      <td>...</td>\n",
              "      <td>...</td>\n",
              "      <td>...</td>\n",
              "      <td>...</td>\n",
              "      <td>...</td>\n",
              "    </tr>\n",
              "    <tr>\n",
              "      <th>7667014</th>\n",
              "      <td>2</td>\n",
              "      <td>2019-01-31 23:52:30</td>\n",
              "      <td>2019-01-31 23:53:26</td>\n",
              "      <td>1</td>\n",
              "      <td>0.09</td>\n",
              "      <td>1</td>\n",
              "      <td>N</td>\n",
              "      <td>170</td>\n",
              "      <td>233</td>\n",
              "      <td>3</td>\n",
              "      <td>-2.5</td>\n",
              "      <td>-0.5</td>\n",
              "      <td>-0.5</td>\n",
              "      <td>0.0</td>\n",
              "      <td>0.0</td>\n",
              "      <td>-0.3</td>\n",
              "      <td>-3.8</td>\n",
              "      <td>0.0</td>\n",
              "    </tr>\n",
              "    <tr>\n",
              "      <th>7667788</th>\n",
              "      <td>2</td>\n",
              "      <td>2019-01-31 23:32:03</td>\n",
              "      <td>2019-01-31 23:33:11</td>\n",
              "      <td>1</td>\n",
              "      <td>0.00</td>\n",
              "      <td>1</td>\n",
              "      <td>N</td>\n",
              "      <td>193</td>\n",
              "      <td>193</td>\n",
              "      <td>1</td>\n",
              "      <td>0.0</td>\n",
              "      <td>0.0</td>\n",
              "      <td>0.0</td>\n",
              "      <td>0.0</td>\n",
              "      <td>0.0</td>\n",
              "      <td>0.0</td>\n",
              "      <td>0.0</td>\n",
              "      <td>0.0</td>\n",
              "    </tr>\n",
              "    <tr>\n",
              "      <th>7667789</th>\n",
              "      <td>2</td>\n",
              "      <td>2019-01-31 23:36:36</td>\n",
              "      <td>2019-01-31 23:36:40</td>\n",
              "      <td>1</td>\n",
              "      <td>0.00</td>\n",
              "      <td>1</td>\n",
              "      <td>N</td>\n",
              "      <td>264</td>\n",
              "      <td>264</td>\n",
              "      <td>1</td>\n",
              "      <td>0.0</td>\n",
              "      <td>0.0</td>\n",
              "      <td>0.0</td>\n",
              "      <td>0.0</td>\n",
              "      <td>0.0</td>\n",
              "      <td>0.0</td>\n",
              "      <td>0.0</td>\n",
              "      <td>0.0</td>\n",
              "    </tr>\n",
              "    <tr>\n",
              "      <th>7667790</th>\n",
              "      <td>2</td>\n",
              "      <td>2019-01-31 23:14:53</td>\n",
              "      <td>2019-01-31 23:15:20</td>\n",
              "      <td>1</td>\n",
              "      <td>0.00</td>\n",
              "      <td>1</td>\n",
              "      <td>N</td>\n",
              "      <td>264</td>\n",
              "      <td>7</td>\n",
              "      <td>1</td>\n",
              "      <td>0.0</td>\n",
              "      <td>0.0</td>\n",
              "      <td>0.0</td>\n",
              "      <td>0.0</td>\n",
              "      <td>0.0</td>\n",
              "      <td>0.0</td>\n",
              "      <td>0.0</td>\n",
              "      <td>0.0</td>\n",
              "    </tr>\n",
              "    <tr>\n",
              "      <th>7667791</th>\n",
              "      <td>2</td>\n",
              "      <td>2019-01-31 23:12:49</td>\n",
              "      <td>2019-01-31 23:14:08</td>\n",
              "      <td>1</td>\n",
              "      <td>0.00</td>\n",
              "      <td>1</td>\n",
              "      <td>N</td>\n",
              "      <td>193</td>\n",
              "      <td>193</td>\n",
              "      <td>1</td>\n",
              "      <td>0.0</td>\n",
              "      <td>0.0</td>\n",
              "      <td>0.0</td>\n",
              "      <td>0.0</td>\n",
              "      <td>0.0</td>\n",
              "      <td>0.0</td>\n",
              "      <td>0.0</td>\n",
              "      <td>0.0</td>\n",
              "    </tr>\n",
              "  </tbody>\n",
              "</table>\n",
              "<p>8545 rows × 18 columns</p>\n",
              "</div>"
            ],
            "text/plain": [
              "         VendorID tpep_pickup_datetime  ... total_amount  congestion_surcharge\n",
              "663             2  2019-01-01 00:32:56  ...         -3.8                   NaN\n",
              "2402            2  2019-01-01 00:14:18  ...        -20.3                   NaN\n",
              "2541            2  2019-01-01 00:31:27  ...         -9.8                   NaN\n",
              "2544            2  2019-01-01 00:45:57  ...         -3.8                   NaN\n",
              "2547            2  2019-01-01 00:48:35  ...         -4.3                   NaN\n",
              "...           ...                  ...  ...          ...                   ...\n",
              "7667014         2  2019-01-31 23:52:30  ...         -3.8                   0.0\n",
              "7667788         2  2019-01-31 23:32:03  ...          0.0                   0.0\n",
              "7667789         2  2019-01-31 23:36:36  ...          0.0                   0.0\n",
              "7667790         2  2019-01-31 23:14:53  ...          0.0                   0.0\n",
              "7667791         2  2019-01-31 23:12:49  ...          0.0                   0.0\n",
              "\n",
              "[8545 rows x 18 columns]"
            ]
          },
          "metadata": {
            "tags": []
          },
          "execution_count": 78
        }
      ]
    },
    {
      "cell_type": "code",
      "metadata": {
        "colab": {
          "base_uri": "https://localhost:8080/",
          "height": 437
        },
        "id": "EcEBeBSzIN6k",
        "outputId": "90ef09ab-2023-48e9-c6dd-1db7761c8482"
      },
      "source": [
        "data = data.drop(data[data['total_amount']<=0].index)\n",
        "data"
      ],
      "execution_count": null,
      "outputs": [
        {
          "output_type": "execute_result",
          "data": {
            "text/html": [
              "<div>\n",
              "<style scoped>\n",
              "    .dataframe tbody tr th:only-of-type {\n",
              "        vertical-align: middle;\n",
              "    }\n",
              "\n",
              "    .dataframe tbody tr th {\n",
              "        vertical-align: top;\n",
              "    }\n",
              "\n",
              "    .dataframe thead th {\n",
              "        text-align: right;\n",
              "    }\n",
              "</style>\n",
              "<table border=\"1\" class=\"dataframe\">\n",
              "  <thead>\n",
              "    <tr style=\"text-align: right;\">\n",
              "      <th></th>\n",
              "      <th>VendorID</th>\n",
              "      <th>tpep_pickup_datetime</th>\n",
              "      <th>tpep_dropoff_datetime</th>\n",
              "      <th>passenger_count</th>\n",
              "      <th>trip_distance</th>\n",
              "      <th>RatecodeID</th>\n",
              "      <th>store_and_fwd_flag</th>\n",
              "      <th>PULocationID</th>\n",
              "      <th>DOLocationID</th>\n",
              "      <th>payment_type</th>\n",
              "      <th>fare_amount</th>\n",
              "      <th>extra</th>\n",
              "      <th>mta_tax</th>\n",
              "      <th>tip_amount</th>\n",
              "      <th>tolls_amount</th>\n",
              "      <th>improvement_surcharge</th>\n",
              "      <th>total_amount</th>\n",
              "      <th>congestion_surcharge</th>\n",
              "    </tr>\n",
              "  </thead>\n",
              "  <tbody>\n",
              "    <tr>\n",
              "      <th>0</th>\n",
              "      <td>1</td>\n",
              "      <td>2019-01-01 00:46:40</td>\n",
              "      <td>2019-01-01 00:53:20</td>\n",
              "      <td>1</td>\n",
              "      <td>1.50</td>\n",
              "      <td>1</td>\n",
              "      <td>N</td>\n",
              "      <td>151</td>\n",
              "      <td>239</td>\n",
              "      <td>1</td>\n",
              "      <td>7.0</td>\n",
              "      <td>0.5</td>\n",
              "      <td>0.5</td>\n",
              "      <td>1.65</td>\n",
              "      <td>0.0</td>\n",
              "      <td>0.3</td>\n",
              "      <td>9.95</td>\n",
              "      <td>NaN</td>\n",
              "    </tr>\n",
              "    <tr>\n",
              "      <th>1</th>\n",
              "      <td>1</td>\n",
              "      <td>2019-01-01 00:59:47</td>\n",
              "      <td>2019-01-01 01:18:59</td>\n",
              "      <td>1</td>\n",
              "      <td>2.60</td>\n",
              "      <td>1</td>\n",
              "      <td>N</td>\n",
              "      <td>239</td>\n",
              "      <td>246</td>\n",
              "      <td>1</td>\n",
              "      <td>14.0</td>\n",
              "      <td>0.5</td>\n",
              "      <td>0.5</td>\n",
              "      <td>1.00</td>\n",
              "      <td>0.0</td>\n",
              "      <td>0.3</td>\n",
              "      <td>16.30</td>\n",
              "      <td>NaN</td>\n",
              "    </tr>\n",
              "    <tr>\n",
              "      <th>2</th>\n",
              "      <td>2</td>\n",
              "      <td>2018-12-21 13:48:30</td>\n",
              "      <td>2018-12-21 13:52:40</td>\n",
              "      <td>3</td>\n",
              "      <td>0.00</td>\n",
              "      <td>1</td>\n",
              "      <td>N</td>\n",
              "      <td>236</td>\n",
              "      <td>236</td>\n",
              "      <td>1</td>\n",
              "      <td>4.5</td>\n",
              "      <td>0.5</td>\n",
              "      <td>0.5</td>\n",
              "      <td>0.00</td>\n",
              "      <td>0.0</td>\n",
              "      <td>0.3</td>\n",
              "      <td>5.80</td>\n",
              "      <td>NaN</td>\n",
              "    </tr>\n",
              "    <tr>\n",
              "      <th>3</th>\n",
              "      <td>2</td>\n",
              "      <td>2018-11-28 15:52:25</td>\n",
              "      <td>2018-11-28 15:55:45</td>\n",
              "      <td>5</td>\n",
              "      <td>0.00</td>\n",
              "      <td>1</td>\n",
              "      <td>N</td>\n",
              "      <td>193</td>\n",
              "      <td>193</td>\n",
              "      <td>2</td>\n",
              "      <td>3.5</td>\n",
              "      <td>0.5</td>\n",
              "      <td>0.5</td>\n",
              "      <td>0.00</td>\n",
              "      <td>0.0</td>\n",
              "      <td>0.3</td>\n",
              "      <td>7.55</td>\n",
              "      <td>NaN</td>\n",
              "    </tr>\n",
              "    <tr>\n",
              "      <th>4</th>\n",
              "      <td>2</td>\n",
              "      <td>2018-11-28 15:56:57</td>\n",
              "      <td>2018-11-28 15:58:33</td>\n",
              "      <td>5</td>\n",
              "      <td>0.00</td>\n",
              "      <td>2</td>\n",
              "      <td>N</td>\n",
              "      <td>193</td>\n",
              "      <td>193</td>\n",
              "      <td>2</td>\n",
              "      <td>52.0</td>\n",
              "      <td>0.0</td>\n",
              "      <td>0.5</td>\n",
              "      <td>0.00</td>\n",
              "      <td>0.0</td>\n",
              "      <td>0.3</td>\n",
              "      <td>55.55</td>\n",
              "      <td>NaN</td>\n",
              "    </tr>\n",
              "    <tr>\n",
              "      <th>...</th>\n",
              "      <td>...</td>\n",
              "      <td>...</td>\n",
              "      <td>...</td>\n",
              "      <td>...</td>\n",
              "      <td>...</td>\n",
              "      <td>...</td>\n",
              "      <td>...</td>\n",
              "      <td>...</td>\n",
              "      <td>...</td>\n",
              "      <td>...</td>\n",
              "      <td>...</td>\n",
              "      <td>...</td>\n",
              "      <td>...</td>\n",
              "      <td>...</td>\n",
              "      <td>...</td>\n",
              "      <td>...</td>\n",
              "      <td>...</td>\n",
              "      <td>...</td>\n",
              "    </tr>\n",
              "    <tr>\n",
              "      <th>7667783</th>\n",
              "      <td>2</td>\n",
              "      <td>2019-01-31 23:04:25</td>\n",
              "      <td>2019-01-31 23:17:09</td>\n",
              "      <td>2</td>\n",
              "      <td>4.15</td>\n",
              "      <td>1</td>\n",
              "      <td>N</td>\n",
              "      <td>186</td>\n",
              "      <td>13</td>\n",
              "      <td>2</td>\n",
              "      <td>14.5</td>\n",
              "      <td>0.5</td>\n",
              "      <td>0.5</td>\n",
              "      <td>0.00</td>\n",
              "      <td>0.0</td>\n",
              "      <td>0.3</td>\n",
              "      <td>15.80</td>\n",
              "      <td>0.0</td>\n",
              "    </tr>\n",
              "    <tr>\n",
              "      <th>7667784</th>\n",
              "      <td>2</td>\n",
              "      <td>2019-01-31 23:32:34</td>\n",
              "      <td>2019-01-31 23:41:40</td>\n",
              "      <td>1</td>\n",
              "      <td>1.34</td>\n",
              "      <td>1</td>\n",
              "      <td>N</td>\n",
              "      <td>68</td>\n",
              "      <td>233</td>\n",
              "      <td>2</td>\n",
              "      <td>8.0</td>\n",
              "      <td>0.5</td>\n",
              "      <td>0.5</td>\n",
              "      <td>0.00</td>\n",
              "      <td>0.0</td>\n",
              "      <td>0.3</td>\n",
              "      <td>9.30</td>\n",
              "      <td>0.0</td>\n",
              "    </tr>\n",
              "    <tr>\n",
              "      <th>7667785</th>\n",
              "      <td>2</td>\n",
              "      <td>2019-01-31 23:47:48</td>\n",
              "      <td>2019-02-01 00:01:08</td>\n",
              "      <td>1</td>\n",
              "      <td>1.45</td>\n",
              "      <td>1</td>\n",
              "      <td>N</td>\n",
              "      <td>161</td>\n",
              "      <td>229</td>\n",
              "      <td>1</td>\n",
              "      <td>10.5</td>\n",
              "      <td>0.5</td>\n",
              "      <td>0.5</td>\n",
              "      <td>2.36</td>\n",
              "      <td>0.0</td>\n",
              "      <td>0.3</td>\n",
              "      <td>14.16</td>\n",
              "      <td>0.0</td>\n",
              "    </tr>\n",
              "    <tr>\n",
              "      <th>7667786</th>\n",
              "      <td>2</td>\n",
              "      <td>2019-01-31 23:31:54</td>\n",
              "      <td>2019-01-31 23:50:36</td>\n",
              "      <td>2</td>\n",
              "      <td>4.28</td>\n",
              "      <td>1</td>\n",
              "      <td>N</td>\n",
              "      <td>186</td>\n",
              "      <td>262</td>\n",
              "      <td>1</td>\n",
              "      <td>17.0</td>\n",
              "      <td>0.5</td>\n",
              "      <td>0.5</td>\n",
              "      <td>3.66</td>\n",
              "      <td>0.0</td>\n",
              "      <td>0.3</td>\n",
              "      <td>21.96</td>\n",
              "      <td>0.0</td>\n",
              "    </tr>\n",
              "    <tr>\n",
              "      <th>7667787</th>\n",
              "      <td>2</td>\n",
              "      <td>2019-01-31 23:57:36</td>\n",
              "      <td>2019-02-01 00:18:39</td>\n",
              "      <td>1</td>\n",
              "      <td>4.79</td>\n",
              "      <td>1</td>\n",
              "      <td>N</td>\n",
              "      <td>263</td>\n",
              "      <td>4</td>\n",
              "      <td>1</td>\n",
              "      <td>18.0</td>\n",
              "      <td>0.5</td>\n",
              "      <td>0.5</td>\n",
              "      <td>3.86</td>\n",
              "      <td>0.0</td>\n",
              "      <td>0.3</td>\n",
              "      <td>23.16</td>\n",
              "      <td>0.0</td>\n",
              "    </tr>\n",
              "  </tbody>\n",
              "</table>\n",
              "<p>7659247 rows × 18 columns</p>\n",
              "</div>"
            ],
            "text/plain": [
              "         VendorID tpep_pickup_datetime  ... total_amount  congestion_surcharge\n",
              "0               1  2019-01-01 00:46:40  ...         9.95                   NaN\n",
              "1               1  2019-01-01 00:59:47  ...        16.30                   NaN\n",
              "2               2  2018-12-21 13:48:30  ...         5.80                   NaN\n",
              "3               2  2018-11-28 15:52:25  ...         7.55                   NaN\n",
              "4               2  2018-11-28 15:56:57  ...        55.55                   NaN\n",
              "...           ...                  ...  ...          ...                   ...\n",
              "7667783         2  2019-01-31 23:04:25  ...        15.80                   0.0\n",
              "7667784         2  2019-01-31 23:32:34  ...         9.30                   0.0\n",
              "7667785         2  2019-01-31 23:47:48  ...        14.16                   0.0\n",
              "7667786         2  2019-01-31 23:31:54  ...        21.96                   0.0\n",
              "7667787         2  2019-01-31 23:57:36  ...        23.16                   0.0\n",
              "\n",
              "[7659247 rows x 18 columns]"
            ]
          },
          "metadata": {
            "tags": []
          },
          "execution_count": 6
        }
      ]
    },
    {
      "cell_type": "code",
      "metadata": {
        "colab": {
          "base_uri": "https://localhost:8080/",
          "height": 315
        },
        "id": "OHHNjHKVJXg5",
        "outputId": "c5dff106-3bab-411f-8370-30d1cc999861"
      },
      "source": [
        "data.describe()"
      ],
      "execution_count": null,
      "outputs": [
        {
          "output_type": "execute_result",
          "data": {
            "text/html": [
              "<div>\n",
              "<style scoped>\n",
              "    .dataframe tbody tr th:only-of-type {\n",
              "        vertical-align: middle;\n",
              "    }\n",
              "\n",
              "    .dataframe tbody tr th {\n",
              "        vertical-align: top;\n",
              "    }\n",
              "\n",
              "    .dataframe thead th {\n",
              "        text-align: right;\n",
              "    }\n",
              "</style>\n",
              "<table border=\"1\" class=\"dataframe\">\n",
              "  <thead>\n",
              "    <tr style=\"text-align: right;\">\n",
              "      <th></th>\n",
              "      <th>VendorID</th>\n",
              "      <th>passenger_count</th>\n",
              "      <th>trip_distance</th>\n",
              "      <th>RatecodeID</th>\n",
              "      <th>PULocationID</th>\n",
              "      <th>DOLocationID</th>\n",
              "      <th>payment_type</th>\n",
              "      <th>fare_amount</th>\n",
              "      <th>extra</th>\n",
              "      <th>mta_tax</th>\n",
              "      <th>tip_amount</th>\n",
              "      <th>tolls_amount</th>\n",
              "      <th>improvement_surcharge</th>\n",
              "      <th>total_amount</th>\n",
              "      <th>congestion_surcharge</th>\n",
              "    </tr>\n",
              "  </thead>\n",
              "  <tbody>\n",
              "    <tr>\n",
              "      <th>count</th>\n",
              "      <td>7.659247e+06</td>\n",
              "      <td>7.659247e+06</td>\n",
              "      <td>7.659247e+06</td>\n",
              "      <td>7.659247e+06</td>\n",
              "      <td>7.659247e+06</td>\n",
              "      <td>7.659247e+06</td>\n",
              "      <td>7.659247e+06</td>\n",
              "      <td>7.659247e+06</td>\n",
              "      <td>7.659247e+06</td>\n",
              "      <td>7.659247e+06</td>\n",
              "      <td>7.659247e+06</td>\n",
              "      <td>7.659247e+06</td>\n",
              "      <td>7.659247e+06</td>\n",
              "      <td>7.659247e+06</td>\n",
              "      <td>2.808677e+06</td>\n",
              "    </tr>\n",
              "    <tr>\n",
              "      <th>mean</th>\n",
              "      <td>1.636403e+00</td>\n",
              "      <td>1.567111e+00</td>\n",
              "      <td>2.803275e+00</td>\n",
              "      <td>1.057833e+00</td>\n",
              "      <td>1.655016e+02</td>\n",
              "      <td>1.637560e+02</td>\n",
              "      <td>1.289859e+00</td>\n",
              "      <td>1.243253e+01</td>\n",
              "      <td>3.287081e-01</td>\n",
              "      <td>4.978451e-01</td>\n",
              "      <td>1.829424e+00</td>\n",
              "      <td>3.173653e-01</td>\n",
              "      <td>2.999513e-01</td>\n",
              "      <td>1.571014e+01</td>\n",
              "      <td>3.293366e-05</td>\n",
              "    </tr>\n",
              "    <tr>\n",
              "      <th>std</th>\n",
              "      <td>5.399767e-01</td>\n",
              "      <td>1.224464e+00</td>\n",
              "      <td>3.737956e+00</td>\n",
              "      <td>6.597863e-01</td>\n",
              "      <td>6.638726e+01</td>\n",
              "      <td>7.036520e+01</td>\n",
              "      <td>4.691348e-01</td>\n",
              "      <td>2.622166e+02</td>\n",
              "      <td>5.070599e-01</td>\n",
              "      <td>4.371746e-02</td>\n",
              "      <td>2.501727e+00</td>\n",
              "      <td>2.024415e+00</td>\n",
              "      <td>3.824527e-03</td>\n",
              "      <td>2.624374e+02</td>\n",
              "      <td>9.073758e-03</td>\n",
              "    </tr>\n",
              "    <tr>\n",
              "      <th>min</th>\n",
              "      <td>1.000000e+00</td>\n",
              "      <td>0.000000e+00</td>\n",
              "      <td>0.000000e+00</td>\n",
              "      <td>1.000000e+00</td>\n",
              "      <td>1.000000e+00</td>\n",
              "      <td>1.000000e+00</td>\n",
              "      <td>1.000000e+00</td>\n",
              "      <td>0.000000e+00</td>\n",
              "      <td>-6.000000e+01</td>\n",
              "      <td>0.000000e+00</td>\n",
              "      <td>0.000000e+00</td>\n",
              "      <td>0.000000e+00</td>\n",
              "      <td>0.000000e+00</td>\n",
              "      <td>1.100000e-01</td>\n",
              "      <td>0.000000e+00</td>\n",
              "    </tr>\n",
              "    <tr>\n",
              "      <th>25%</th>\n",
              "      <td>1.000000e+00</td>\n",
              "      <td>1.000000e+00</td>\n",
              "      <td>9.000000e-01</td>\n",
              "      <td>1.000000e+00</td>\n",
              "      <td>1.310000e+02</td>\n",
              "      <td>1.130000e+02</td>\n",
              "      <td>1.000000e+00</td>\n",
              "      <td>6.000000e+00</td>\n",
              "      <td>0.000000e+00</td>\n",
              "      <td>5.000000e-01</td>\n",
              "      <td>0.000000e+00</td>\n",
              "      <td>0.000000e+00</td>\n",
              "      <td>3.000000e-01</td>\n",
              "      <td>8.300000e+00</td>\n",
              "      <td>0.000000e+00</td>\n",
              "    </tr>\n",
              "    <tr>\n",
              "      <th>50%</th>\n",
              "      <td>2.000000e+00</td>\n",
              "      <td>1.000000e+00</td>\n",
              "      <td>1.530000e+00</td>\n",
              "      <td>1.000000e+00</td>\n",
              "      <td>1.620000e+02</td>\n",
              "      <td>1.620000e+02</td>\n",
              "      <td>1.000000e+00</td>\n",
              "      <td>8.500000e+00</td>\n",
              "      <td>0.000000e+00</td>\n",
              "      <td>5.000000e-01</td>\n",
              "      <td>1.440000e+00</td>\n",
              "      <td>0.000000e+00</td>\n",
              "      <td>3.000000e-01</td>\n",
              "      <td>1.127000e+01</td>\n",
              "      <td>0.000000e+00</td>\n",
              "    </tr>\n",
              "    <tr>\n",
              "      <th>75%</th>\n",
              "      <td>2.000000e+00</td>\n",
              "      <td>2.000000e+00</td>\n",
              "      <td>2.800000e+00</td>\n",
              "      <td>1.000000e+00</td>\n",
              "      <td>2.340000e+02</td>\n",
              "      <td>2.340000e+02</td>\n",
              "      <td>2.000000e+00</td>\n",
              "      <td>1.350000e+01</td>\n",
              "      <td>5.000000e-01</td>\n",
              "      <td>5.000000e-01</td>\n",
              "      <td>2.340000e+00</td>\n",
              "      <td>0.000000e+00</td>\n",
              "      <td>3.000000e-01</td>\n",
              "      <td>1.656000e+01</td>\n",
              "      <td>0.000000e+00</td>\n",
              "    </tr>\n",
              "    <tr>\n",
              "      <th>max</th>\n",
              "      <td>4.000000e+00</td>\n",
              "      <td>9.000000e+00</td>\n",
              "      <td>8.318000e+02</td>\n",
              "      <td>9.900000e+01</td>\n",
              "      <td>2.650000e+02</td>\n",
              "      <td>2.650000e+02</td>\n",
              "      <td>4.000000e+00</td>\n",
              "      <td>6.232599e+05</td>\n",
              "      <td>5.353800e+02</td>\n",
              "      <td>6.080000e+01</td>\n",
              "      <td>7.872500e+02</td>\n",
              "      <td>3.288000e+03</td>\n",
              "      <td>6.000000e-01</td>\n",
              "      <td>6.232617e+05</td>\n",
              "      <td>2.500000e+00</td>\n",
              "    </tr>\n",
              "  </tbody>\n",
              "</table>\n",
              "</div>"
            ],
            "text/plain": [
              "           VendorID  passenger_count  ...  total_amount  congestion_surcharge\n",
              "count  7.659247e+06     7.659247e+06  ...  7.659247e+06          2.808677e+06\n",
              "mean   1.636403e+00     1.567111e+00  ...  1.571014e+01          3.293366e-05\n",
              "std    5.399767e-01     1.224464e+00  ...  2.624374e+02          9.073758e-03\n",
              "min    1.000000e+00     0.000000e+00  ...  1.100000e-01          0.000000e+00\n",
              "25%    1.000000e+00     1.000000e+00  ...  8.300000e+00          0.000000e+00\n",
              "50%    2.000000e+00     1.000000e+00  ...  1.127000e+01          0.000000e+00\n",
              "75%    2.000000e+00     2.000000e+00  ...  1.656000e+01          0.000000e+00\n",
              "max    4.000000e+00     9.000000e+00  ...  6.232617e+05          2.500000e+00\n",
              "\n",
              "[8 rows x 15 columns]"
            ]
          },
          "metadata": {
            "tags": []
          },
          "execution_count": 80
        }
      ]
    },
    {
      "cell_type": "code",
      "metadata": {
        "id": "v3r9ykNTK9U4"
      },
      "source": [
        "data = data.drop(data[data['total_amount']>100000].index)"
      ],
      "execution_count": null,
      "outputs": []
    },
    {
      "cell_type": "code",
      "metadata": {
        "id": "Etz6zBbtJznb",
        "colab": {
          "base_uri": "https://localhost:8080/",
          "height": 315
        },
        "outputId": "1bcf6119-7dfa-4a03-c9f6-964d687c6794"
      },
      "source": [
        "data.describe()"
      ],
      "execution_count": null,
      "outputs": [
        {
          "output_type": "execute_result",
          "data": {
            "text/html": [
              "<div>\n",
              "<style scoped>\n",
              "    .dataframe tbody tr th:only-of-type {\n",
              "        vertical-align: middle;\n",
              "    }\n",
              "\n",
              "    .dataframe tbody tr th {\n",
              "        vertical-align: top;\n",
              "    }\n",
              "\n",
              "    .dataframe thead th {\n",
              "        text-align: right;\n",
              "    }\n",
              "</style>\n",
              "<table border=\"1\" class=\"dataframe\">\n",
              "  <thead>\n",
              "    <tr style=\"text-align: right;\">\n",
              "      <th></th>\n",
              "      <th>VendorID</th>\n",
              "      <th>passenger_count</th>\n",
              "      <th>trip_distance</th>\n",
              "      <th>RatecodeID</th>\n",
              "      <th>PULocationID</th>\n",
              "      <th>DOLocationID</th>\n",
              "      <th>payment_type</th>\n",
              "      <th>fare_amount</th>\n",
              "      <th>extra</th>\n",
              "      <th>mta_tax</th>\n",
              "      <th>tip_amount</th>\n",
              "      <th>tolls_amount</th>\n",
              "      <th>improvement_surcharge</th>\n",
              "      <th>total_amount</th>\n",
              "      <th>congestion_surcharge</th>\n",
              "    </tr>\n",
              "  </thead>\n",
              "  <tbody>\n",
              "    <tr>\n",
              "      <th>count</th>\n",
              "      <td>7.659245e+06</td>\n",
              "      <td>7.659245e+06</td>\n",
              "      <td>7.659245e+06</td>\n",
              "      <td>7.659245e+06</td>\n",
              "      <td>7.659245e+06</td>\n",
              "      <td>7.659245e+06</td>\n",
              "      <td>7.659245e+06</td>\n",
              "      <td>7.659245e+06</td>\n",
              "      <td>7.659245e+06</td>\n",
              "      <td>7.659245e+06</td>\n",
              "      <td>7.659245e+06</td>\n",
              "      <td>7.659245e+06</td>\n",
              "      <td>7.659245e+06</td>\n",
              "      <td>7.659245e+06</td>\n",
              "      <td>2.808676e+06</td>\n",
              "    </tr>\n",
              "    <tr>\n",
              "      <th>mean</th>\n",
              "      <td>1.636403e+00</td>\n",
              "      <td>1.567111e+00</td>\n",
              "      <td>2.803275e+00</td>\n",
              "      <td>1.057833e+00</td>\n",
              "      <td>1.655016e+02</td>\n",
              "      <td>1.637560e+02</td>\n",
              "      <td>1.289858e+00</td>\n",
              "      <td>1.230472e+01</td>\n",
              "      <td>3.286381e-01</td>\n",
              "      <td>4.978448e-01</td>\n",
              "      <td>1.829424e+00</td>\n",
              "      <td>3.173653e-01</td>\n",
              "      <td>2.999514e-01</td>\n",
              "      <td>1.558227e+01</td>\n",
              "      <td>3.293367e-05</td>\n",
              "    </tr>\n",
              "    <tr>\n",
              "      <th>std</th>\n",
              "      <td>5.399766e-01</td>\n",
              "      <td>1.224464e+00</td>\n",
              "      <td>3.737956e+00</td>\n",
              "      <td>6.597864e-01</td>\n",
              "      <td>6.638725e+01</td>\n",
              "      <td>7.036520e+01</td>\n",
              "      <td>4.691344e-01</td>\n",
              "      <td>3.907797e+01</td>\n",
              "      <td>4.687566e-01</td>\n",
              "      <td>4.371195e-02</td>\n",
              "      <td>2.501727e+00</td>\n",
              "      <td>2.024416e+00</td>\n",
              "      <td>3.822992e-03</td>\n",
              "      <td>3.991839e+01</td>\n",
              "      <td>9.073760e-03</td>\n",
              "    </tr>\n",
              "    <tr>\n",
              "      <th>min</th>\n",
              "      <td>1.000000e+00</td>\n",
              "      <td>0.000000e+00</td>\n",
              "      <td>0.000000e+00</td>\n",
              "      <td>1.000000e+00</td>\n",
              "      <td>1.000000e+00</td>\n",
              "      <td>1.000000e+00</td>\n",
              "      <td>1.000000e+00</td>\n",
              "      <td>0.000000e+00</td>\n",
              "      <td>-6.000000e+01</td>\n",
              "      <td>0.000000e+00</td>\n",
              "      <td>0.000000e+00</td>\n",
              "      <td>0.000000e+00</td>\n",
              "      <td>0.000000e+00</td>\n",
              "      <td>1.100000e-01</td>\n",
              "      <td>0.000000e+00</td>\n",
              "    </tr>\n",
              "    <tr>\n",
              "      <th>25%</th>\n",
              "      <td>1.000000e+00</td>\n",
              "      <td>1.000000e+00</td>\n",
              "      <td>9.000000e-01</td>\n",
              "      <td>1.000000e+00</td>\n",
              "      <td>1.310000e+02</td>\n",
              "      <td>1.130000e+02</td>\n",
              "      <td>1.000000e+00</td>\n",
              "      <td>6.000000e+00</td>\n",
              "      <td>0.000000e+00</td>\n",
              "      <td>5.000000e-01</td>\n",
              "      <td>0.000000e+00</td>\n",
              "      <td>0.000000e+00</td>\n",
              "      <td>3.000000e-01</td>\n",
              "      <td>8.300000e+00</td>\n",
              "      <td>0.000000e+00</td>\n",
              "    </tr>\n",
              "    <tr>\n",
              "      <th>50%</th>\n",
              "      <td>2.000000e+00</td>\n",
              "      <td>1.000000e+00</td>\n",
              "      <td>1.530000e+00</td>\n",
              "      <td>1.000000e+00</td>\n",
              "      <td>1.620000e+02</td>\n",
              "      <td>1.620000e+02</td>\n",
              "      <td>1.000000e+00</td>\n",
              "      <td>8.500000e+00</td>\n",
              "      <td>0.000000e+00</td>\n",
              "      <td>5.000000e-01</td>\n",
              "      <td>1.440000e+00</td>\n",
              "      <td>0.000000e+00</td>\n",
              "      <td>3.000000e-01</td>\n",
              "      <td>1.127000e+01</td>\n",
              "      <td>0.000000e+00</td>\n",
              "    </tr>\n",
              "    <tr>\n",
              "      <th>75%</th>\n",
              "      <td>2.000000e+00</td>\n",
              "      <td>2.000000e+00</td>\n",
              "      <td>2.800000e+00</td>\n",
              "      <td>1.000000e+00</td>\n",
              "      <td>2.340000e+02</td>\n",
              "      <td>2.340000e+02</td>\n",
              "      <td>2.000000e+00</td>\n",
              "      <td>1.350000e+01</td>\n",
              "      <td>5.000000e-01</td>\n",
              "      <td>5.000000e-01</td>\n",
              "      <td>2.340000e+00</td>\n",
              "      <td>0.000000e+00</td>\n",
              "      <td>3.000000e-01</td>\n",
              "      <td>1.656000e+01</td>\n",
              "      <td>0.000000e+00</td>\n",
              "    </tr>\n",
              "    <tr>\n",
              "      <th>max</th>\n",
              "      <td>4.000000e+00</td>\n",
              "      <td>9.000000e+00</td>\n",
              "      <td>8.318000e+02</td>\n",
              "      <td>9.900000e+01</td>\n",
              "      <td>2.650000e+02</td>\n",
              "      <td>2.650000e+02</td>\n",
              "      <td>4.000000e+00</td>\n",
              "      <td>3.609030e+04</td>\n",
              "      <td>2.304000e+01</td>\n",
              "      <td>6.080000e+01</td>\n",
              "      <td>7.872500e+02</td>\n",
              "      <td>3.288000e+03</td>\n",
              "      <td>6.000000e-01</td>\n",
              "      <td>3.609030e+04</td>\n",
              "      <td>2.500000e+00</td>\n",
              "    </tr>\n",
              "  </tbody>\n",
              "</table>\n",
              "</div>"
            ],
            "text/plain": [
              "           VendorID  passenger_count  ...  total_amount  congestion_surcharge\n",
              "count  7.659245e+06     7.659245e+06  ...  7.659245e+06          2.808676e+06\n",
              "mean   1.636403e+00     1.567111e+00  ...  1.558227e+01          3.293367e-05\n",
              "std    5.399766e-01     1.224464e+00  ...  3.991839e+01          9.073760e-03\n",
              "min    1.000000e+00     0.000000e+00  ...  1.100000e-01          0.000000e+00\n",
              "25%    1.000000e+00     1.000000e+00  ...  8.300000e+00          0.000000e+00\n",
              "50%    2.000000e+00     1.000000e+00  ...  1.127000e+01          0.000000e+00\n",
              "75%    2.000000e+00     2.000000e+00  ...  1.656000e+01          0.000000e+00\n",
              "max    4.000000e+00     9.000000e+00  ...  3.609030e+04          2.500000e+00\n",
              "\n",
              "[8 rows x 15 columns]"
            ]
          },
          "metadata": {
            "tags": []
          },
          "execution_count": 8
        }
      ]
    },
    {
      "cell_type": "code",
      "metadata": {
        "id": "J6IIxaTXapU0"
      },
      "source": [
        "data = data.astype({'tpep_pickup_datetime':  'datetime64[ms]',\n",
        "                    'tpep_dropoff_datetime':  'datetime64[ms]'})"
      ],
      "execution_count": null,
      "outputs": []
    },
    {
      "cell_type": "code",
      "metadata": {
        "colab": {
          "base_uri": "https://localhost:8080/"
        },
        "id": "Q0PpOWCqchgk",
        "outputId": "f3ec8be5-1ea3-402e-e973-36ca03e791e5"
      },
      "source": [
        "data.info()"
      ],
      "execution_count": null,
      "outputs": [
        {
          "output_type": "stream",
          "text": [
            "<class 'pandas.core.frame.DataFrame'>\n",
            "Int64Index: 7659245 entries, 0 to 7667787\n",
            "Data columns (total 18 columns):\n",
            " #   Column                 Dtype         \n",
            "---  ------                 -----         \n",
            " 0   VendorID               int64         \n",
            " 1   tpep_pickup_datetime   datetime64[ns]\n",
            " 2   tpep_dropoff_datetime  datetime64[ns]\n",
            " 3   passenger_count        int64         \n",
            " 4   trip_distance          float64       \n",
            " 5   RatecodeID             int64         \n",
            " 6   store_and_fwd_flag     object        \n",
            " 7   PULocationID           int64         \n",
            " 8   DOLocationID           int64         \n",
            " 9   payment_type           int64         \n",
            " 10  fare_amount            float64       \n",
            " 11  extra                  float64       \n",
            " 12  mta_tax                float64       \n",
            " 13  tip_amount             float64       \n",
            " 14  tolls_amount           float64       \n",
            " 15  improvement_surcharge  float64       \n",
            " 16  total_amount           float64       \n",
            " 17  congestion_surcharge   float64       \n",
            "dtypes: datetime64[ns](2), float64(9), int64(6), object(1)\n",
            "memory usage: 1.1+ GB\n"
          ],
          "name": "stdout"
        }
      ]
    },
    {
      "cell_type": "code",
      "metadata": {
        "id": "0tVgCEGqa3R7",
        "colab": {
          "base_uri": "https://localhost:8080/"
        },
        "outputId": "11b1f05d-7b36-408f-d461-71226136eb0d"
      },
      "source": [
        "data['week_number'] = data['tpep_pickup_datetime'].dt.week\n",
        "data['year_number'] = data['tpep_pickup_datetime'].dt.year"
      ],
      "execution_count": null,
      "outputs": [
        {
          "output_type": "stream",
          "text": [
            "/usr/local/lib/python3.7/dist-packages/ipykernel_launcher.py:1: FutureWarning: Series.dt.weekofyear and Series.dt.week have been deprecated.  Please use Series.dt.isocalendar().week instead.\n",
            "  \"\"\"Entry point for launching an IPython kernel.\n"
          ],
          "name": "stderr"
        }
      ]
    },
    {
      "cell_type": "code",
      "metadata": {
        "id": "LekLczbvbEzi",
        "colab": {
          "base_uri": "https://localhost:8080/"
        },
        "outputId": "c30964de-262f-4456-ffc4-95cbe5e23d8d"
      },
      "source": [
        "data['year_number'].unique()"
      ],
      "execution_count": null,
      "outputs": [
        {
          "output_type": "execute_result",
          "data": {
            "text/plain": [
              "array([2019, 2018, 2008, 2009, 2001, 2088])"
            ]
          },
          "metadata": {
            "tags": []
          },
          "execution_count": 12
        }
      ]
    },
    {
      "cell_type": "code",
      "metadata": {
        "id": "4-UD_5vcbQi7"
      },
      "source": [
        "data = data.drop(data[data['year_number'] == 2001].index)\n",
        "data = data.drop(data[data['year_number'] == 2088].index)"
      ],
      "execution_count": null,
      "outputs": []
    },
    {
      "cell_type": "markdown",
      "metadata": {
        "id": "T2_cUqqzqmjt"
      },
      "source": [
        "### **1. АВС-анализ**"
      ]
    },
    {
      "cell_type": "code",
      "metadata": {
        "colab": {
          "base_uri": "https://localhost:8080/"
        },
        "id": "v-tKtYSMP8B5",
        "outputId": "2b6fbc6f-2750-446a-8c45-089ea134178b"
      },
      "source": [
        "summary = data['total_amount'].sum()\n",
        "summary"
      ],
      "execution_count": null,
      "outputs": [
        {
          "output_type": "execute_result",
          "data": {
            "text/plain": [
              "119348376.14000005"
            ]
          },
          "metadata": {
            "tags": []
          },
          "execution_count": 14
        }
      ]
    },
    {
      "cell_type": "code",
      "metadata": {
        "colab": {
          "base_uri": "https://localhost:8080/"
        },
        "id": "uZ3NxM9-KWx_",
        "outputId": "ec0b8956-8d8e-4905-a079-f3ea46f86502"
      },
      "source": [
        "group = data.groupby(['PULocationID', 'DOLocationID'])['total_amount'].sum() / summary\n",
        "group"
      ],
      "execution_count": null,
      "outputs": [
        {
          "output_type": "execute_result",
          "data": {
            "text/plain": [
              "PULocationID  DOLocationID\n",
              "1             1               3.394499e-04\n",
              "              132             2.714909e-06\n",
              "              137             6.944376e-07\n",
              "              142             6.987946e-07\n",
              "              164             7.842587e-08\n",
              "                                  ...     \n",
              "265           259             1.985783e-07\n",
              "              262             1.789719e-07\n",
              "              263             7.700985e-07\n",
              "              264             1.356407e-05\n",
              "              265             2.058253e-03\n",
              "Name: total_amount, Length: 32238, dtype: float64"
            ]
          },
          "metadata": {
            "tags": []
          },
          "execution_count": 15
        }
      ]
    },
    {
      "cell_type": "code",
      "metadata": {
        "colab": {
          "base_uri": "https://localhost:8080/"
        },
        "id": "OUtlAm1fPM1f",
        "outputId": "f418f7f3-4b24-4bce-fd62-971650bc3976"
      },
      "source": [
        "group = group.sort_values(ascending=False)\n",
        "group = group[group >= 0.0]\n",
        "group"
      ],
      "execution_count": null,
      "outputs": [
        {
          "output_type": "execute_result",
          "data": {
            "text/plain": [
              "PULocationID  DOLocationID\n",
              "264           264             2.036767e-02\n",
              "138           230             4.158003e-03\n",
              "132           230             4.035676e-03\n",
              "              265             3.809867e-03\n",
              "237           236             3.591191e-03\n",
              "                                  ...     \n",
              "160           265             2.597438e-09\n",
              "84            84              2.597438e-09\n",
              "241           145             2.513650e-09\n",
              "              264             2.513650e-09\n",
              "70            98              2.513650e-09\n",
              "Name: total_amount, Length: 32238, dtype: float64"
            ]
          },
          "metadata": {
            "tags": []
          },
          "execution_count": 16
        }
      ]
    },
    {
      "cell_type": "code",
      "metadata": {
        "colab": {
          "base_uri": "https://localhost:8080/"
        },
        "id": "btVeAbUFQkJg",
        "outputId": "e4ba447a-6ee0-4738-b8ed-006ec9663a4b"
      },
      "source": [
        "group_cumsum = group.cumsum()\n",
        "group_cumsum"
      ],
      "execution_count": null,
      "outputs": [
        {
          "output_type": "execute_result",
          "data": {
            "text/plain": [
              "PULocationID  DOLocationID\n",
              "264           264             0.020368\n",
              "138           230             0.024526\n",
              "132           230             0.028561\n",
              "              265             0.032371\n",
              "237           236             0.035962\n",
              "                                ...   \n",
              "160           265             1.000000\n",
              "84            84              1.000000\n",
              "241           145             1.000000\n",
              "              264             1.000000\n",
              "70            98              1.000000\n",
              "Name: total_amount, Length: 32238, dtype: float64"
            ]
          },
          "metadata": {
            "tags": []
          },
          "execution_count": 17
        }
      ]
    },
    {
      "cell_type": "code",
      "metadata": {
        "colab": {
          "base_uri": "https://localhost:8080/"
        },
        "id": "nFhem_smQx3D",
        "outputId": "cacd55e8-e5eb-4357-93b6-ef33d8c7bb96"
      },
      "source": [
        "def ABC_segmentation(perc):\n",
        "  if perc < 0.8:\n",
        "    return 'A'\n",
        "  if perc >= 0.8 and perc < 0.95:\n",
        "    return 'B'\n",
        "  if perc >= 0.95:\n",
        "    return 'C'\n",
        "\n",
        "group_abc = group_cumsum.apply(ABC_segmentation)\n",
        "group_abc"
      ],
      "execution_count": null,
      "outputs": [
        {
          "output_type": "execute_result",
          "data": {
            "text/plain": [
              "PULocationID  DOLocationID\n",
              "264           264             A\n",
              "138           230             A\n",
              "132           230             A\n",
              "              265             A\n",
              "237           236             A\n",
              "                             ..\n",
              "160           265             C\n",
              "84            84              C\n",
              "241           145             C\n",
              "              264             C\n",
              "70            98              C\n",
              "Name: total_amount, Length: 32238, dtype: object"
            ]
          },
          "metadata": {
            "tags": []
          },
          "execution_count": 19
        }
      ]
    },
    {
      "cell_type": "code",
      "metadata": {
        "colab": {
          "base_uri": "https://localhost:8080/"
        },
        "id": "mGLH8HW0RD3D",
        "outputId": "a3f2a3e2-32cf-4834-fd20-9307680b5d21"
      },
      "source": [
        "group_abc.value_counts()"
      ],
      "execution_count": null,
      "outputs": [
        {
          "output_type": "execute_result",
          "data": {
            "text/plain": [
              "C    26043\n",
              "B     4150\n",
              "A     2045\n",
              "Name: total_amount, dtype: int64"
            ]
          },
          "metadata": {
            "tags": []
          },
          "execution_count": 20
        }
      ]
    },
    {
      "cell_type": "code",
      "metadata": {
        "colab": {
          "base_uri": "https://localhost:8080/",
          "height": 279
        },
        "id": "NSzEHRhVROXj",
        "outputId": "b4d132fe-22e1-4865-de52-698d7e936782"
      },
      "source": [
        "group_abc.value_counts().plot(kind='bar')"
      ],
      "execution_count": null,
      "outputs": [
        {
          "output_type": "execute_result",
          "data": {
            "text/plain": [
              "<matplotlib.axes._subplots.AxesSubplot at 0x7f1ae707fb90>"
            ]
          },
          "metadata": {
            "tags": []
          },
          "execution_count": 21
        },
        {
          "output_type": "display_data",
          "data": {
            "image/png": "[encoded data removed]",
            "text/plain": [
              "<Figure size 432x288 with 1 Axes>"
            ]
          },
          "metadata": {
            "tags": [],
            "needs_background": "light"
          }
        }
      ]
    },
    {
      "cell_type": "code",
      "metadata": {
        "id": "wks1fPydRbJT",
        "colab": {
          "base_uri": "https://localhost:8080/"
        },
        "outputId": "36ea8522-ece1-42dd-c507-7a8e64d1be4f"
      },
      "source": [
        "2045 / (2045 + 4150 + 26043)"
      ],
      "execution_count": null,
      "outputs": [
        {
          "output_type": "execute_result",
          "data": {
            "text/plain": [
              "0.06343445623177617"
            ]
          },
          "metadata": {
            "tags": []
          },
          "execution_count": 22
        }
      ]
    },
    {
      "cell_type": "code",
      "metadata": {
        "colab": {
          "base_uri": "https://localhost:8080/"
        },
        "id": "dfIJG9pTrajN",
        "outputId": "dcfcd790-a35b-4e66-9ed9-568ede27ad70"
      },
      "source": [
        "4150 / (2045 + 4150 + 26043)"
      ],
      "execution_count": null,
      "outputs": [
        {
          "output_type": "execute_result",
          "data": {
            "text/plain": [
              "0.12873007010360443"
            ]
          },
          "metadata": {
            "tags": []
          },
          "execution_count": 23
        }
      ]
    },
    {
      "cell_type": "code",
      "metadata": {
        "colab": {
          "base_uri": "https://localhost:8080/"
        },
        "id": "zmIsxWBYreBk",
        "outputId": "e83cf6b7-7c90-4052-f4f4-49140c586b7c"
      },
      "source": [
        "26043 / (2045 + 4150 + 26043)"
      ],
      "execution_count": null,
      "outputs": [
        {
          "output_type": "execute_result",
          "data": {
            "text/plain": [
              "0.8078354736646194"
            ]
          },
          "metadata": {
            "tags": []
          },
          "execution_count": 24
        }
      ]
    },
    {
      "cell_type": "markdown",
      "metadata": {
        "id": "jkqYqQWtr67D"
      },
      "source": [
        "Разбиение в целом не очень удачное\n",
        "\n",
        "Рассмотрим разбивку по операторам"
      ]
    },
    {
      "cell_type": "markdown",
      "metadata": {
        "id": "6JYiGd96sIkf"
      },
      "source": [
        "Оператор №1"
      ]
    },
    {
      "cell_type": "code",
      "metadata": {
        "colab": {
          "base_uri": "https://localhost:8080/",
          "height": 437
        },
        "id": "lfW1aTONrkQ0",
        "outputId": "4b744116-291d-4b09-cacb-16902753be3a"
      },
      "source": [
        "data_1 = data[data['VendorID'] == 1]\n",
        "data_1"
      ],
      "execution_count": null,
      "outputs": [
        {
          "output_type": "execute_result",
          "data": {
            "text/html": [
              "<div>\n",
              "<style scoped>\n",
              "    .dataframe tbody tr th:only-of-type {\n",
              "        vertical-align: middle;\n",
              "    }\n",
              "\n",
              "    .dataframe tbody tr th {\n",
              "        vertical-align: top;\n",
              "    }\n",
              "\n",
              "    .dataframe thead th {\n",
              "        text-align: right;\n",
              "    }\n",
              "</style>\n",
              "<table border=\"1\" class=\"dataframe\">\n",
              "  <thead>\n",
              "    <tr style=\"text-align: right;\">\n",
              "      <th></th>\n",
              "      <th>VendorID</th>\n",
              "      <th>tpep_pickup_datetime</th>\n",
              "      <th>tpep_dropoff_datetime</th>\n",
              "      <th>passenger_count</th>\n",
              "      <th>trip_distance</th>\n",
              "      <th>RatecodeID</th>\n",
              "      <th>store_and_fwd_flag</th>\n",
              "      <th>PULocationID</th>\n",
              "      <th>DOLocationID</th>\n",
              "      <th>payment_type</th>\n",
              "      <th>fare_amount</th>\n",
              "      <th>extra</th>\n",
              "      <th>mta_tax</th>\n",
              "      <th>tip_amount</th>\n",
              "      <th>tolls_amount</th>\n",
              "      <th>improvement_surcharge</th>\n",
              "      <th>total_amount</th>\n",
              "      <th>congestion_surcharge</th>\n",
              "      <th>week_number</th>\n",
              "      <th>year_number</th>\n",
              "    </tr>\n",
              "  </thead>\n",
              "  <tbody>\n",
              "    <tr>\n",
              "      <th>0</th>\n",
              "      <td>1</td>\n",
              "      <td>2019-01-01 00:46:40</td>\n",
              "      <td>2019-01-01 00:53:20</td>\n",
              "      <td>1</td>\n",
              "      <td>1.5</td>\n",
              "      <td>1</td>\n",
              "      <td>N</td>\n",
              "      <td>151</td>\n",
              "      <td>239</td>\n",
              "      <td>1</td>\n",
              "      <td>7.0</td>\n",
              "      <td>0.5</td>\n",
              "      <td>0.5</td>\n",
              "      <td>1.65</td>\n",
              "      <td>0.0</td>\n",
              "      <td>0.3</td>\n",
              "      <td>9.95</td>\n",
              "      <td>NaN</td>\n",
              "      <td>1</td>\n",
              "      <td>2019</td>\n",
              "    </tr>\n",
              "    <tr>\n",
              "      <th>1</th>\n",
              "      <td>1</td>\n",
              "      <td>2019-01-01 00:59:47</td>\n",
              "      <td>2019-01-01 01:18:59</td>\n",
              "      <td>1</td>\n",
              "      <td>2.6</td>\n",
              "      <td>1</td>\n",
              "      <td>N</td>\n",
              "      <td>239</td>\n",
              "      <td>246</td>\n",
              "      <td>1</td>\n",
              "      <td>14.0</td>\n",
              "      <td>0.5</td>\n",
              "      <td>0.5</td>\n",
              "      <td>1.00</td>\n",
              "      <td>0.0</td>\n",
              "      <td>0.3</td>\n",
              "      <td>16.30</td>\n",
              "      <td>NaN</td>\n",
              "      <td>1</td>\n",
              "      <td>2019</td>\n",
              "    </tr>\n",
              "    <tr>\n",
              "      <th>7</th>\n",
              "      <td>1</td>\n",
              "      <td>2019-01-01 00:21:28</td>\n",
              "      <td>2019-01-01 00:28:37</td>\n",
              "      <td>1</td>\n",
              "      <td>1.3</td>\n",
              "      <td>1</td>\n",
              "      <td>N</td>\n",
              "      <td>163</td>\n",
              "      <td>229</td>\n",
              "      <td>1</td>\n",
              "      <td>6.5</td>\n",
              "      <td>0.5</td>\n",
              "      <td>0.5</td>\n",
              "      <td>1.25</td>\n",
              "      <td>0.0</td>\n",
              "      <td>0.3</td>\n",
              "      <td>9.05</td>\n",
              "      <td>NaN</td>\n",
              "      <td>1</td>\n",
              "      <td>2019</td>\n",
              "    </tr>\n",
              "    <tr>\n",
              "      <th>8</th>\n",
              "      <td>1</td>\n",
              "      <td>2019-01-01 00:32:01</td>\n",
              "      <td>2019-01-01 00:45:39</td>\n",
              "      <td>1</td>\n",
              "      <td>3.7</td>\n",
              "      <td>1</td>\n",
              "      <td>N</td>\n",
              "      <td>229</td>\n",
              "      <td>7</td>\n",
              "      <td>1</td>\n",
              "      <td>13.5</td>\n",
              "      <td>0.5</td>\n",
              "      <td>0.5</td>\n",
              "      <td>3.70</td>\n",
              "      <td>0.0</td>\n",
              "      <td>0.3</td>\n",
              "      <td>18.50</td>\n",
              "      <td>NaN</td>\n",
              "      <td>1</td>\n",
              "      <td>2019</td>\n",
              "    </tr>\n",
              "    <tr>\n",
              "      <th>9</th>\n",
              "      <td>1</td>\n",
              "      <td>2019-01-01 00:57:32</td>\n",
              "      <td>2019-01-01 01:09:32</td>\n",
              "      <td>2</td>\n",
              "      <td>2.1</td>\n",
              "      <td>1</td>\n",
              "      <td>N</td>\n",
              "      <td>141</td>\n",
              "      <td>234</td>\n",
              "      <td>1</td>\n",
              "      <td>10.0</td>\n",
              "      <td>0.5</td>\n",
              "      <td>0.5</td>\n",
              "      <td>1.70</td>\n",
              "      <td>0.0</td>\n",
              "      <td>0.3</td>\n",
              "      <td>13.00</td>\n",
              "      <td>NaN</td>\n",
              "      <td>1</td>\n",
              "      <td>2019</td>\n",
              "    </tr>\n",
              "    <tr>\n",
              "      <th>...</th>\n",
              "      <td>...</td>\n",
              "      <td>...</td>\n",
              "      <td>...</td>\n",
              "      <td>...</td>\n",
              "      <td>...</td>\n",
              "      <td>...</td>\n",
              "      <td>...</td>\n",
              "      <td>...</td>\n",
              "      <td>...</td>\n",
              "      <td>...</td>\n",
              "      <td>...</td>\n",
              "      <td>...</td>\n",
              "      <td>...</td>\n",
              "      <td>...</td>\n",
              "      <td>...</td>\n",
              "      <td>...</td>\n",
              "      <td>...</td>\n",
              "      <td>...</td>\n",
              "      <td>...</td>\n",
              "      <td>...</td>\n",
              "    </tr>\n",
              "    <tr>\n",
              "      <th>7667774</th>\n",
              "      <td>1</td>\n",
              "      <td>2019-01-31 23:58:24</td>\n",
              "      <td>2019-02-01 00:05:11</td>\n",
              "      <td>1</td>\n",
              "      <td>1.8</td>\n",
              "      <td>1</td>\n",
              "      <td>N</td>\n",
              "      <td>162</td>\n",
              "      <td>142</td>\n",
              "      <td>1</td>\n",
              "      <td>7.5</td>\n",
              "      <td>0.5</td>\n",
              "      <td>0.5</td>\n",
              "      <td>2.20</td>\n",
              "      <td>0.0</td>\n",
              "      <td>0.3</td>\n",
              "      <td>11.00</td>\n",
              "      <td>0.0</td>\n",
              "      <td>5</td>\n",
              "      <td>2019</td>\n",
              "    </tr>\n",
              "    <tr>\n",
              "      <th>7667776</th>\n",
              "      <td>1</td>\n",
              "      <td>2019-01-31 23:13:16</td>\n",
              "      <td>2019-01-31 23:25:28</td>\n",
              "      <td>4</td>\n",
              "      <td>2.6</td>\n",
              "      <td>1</td>\n",
              "      <td>N</td>\n",
              "      <td>87</td>\n",
              "      <td>90</td>\n",
              "      <td>2</td>\n",
              "      <td>11.0</td>\n",
              "      <td>0.5</td>\n",
              "      <td>0.5</td>\n",
              "      <td>0.00</td>\n",
              "      <td>0.0</td>\n",
              "      <td>0.3</td>\n",
              "      <td>12.30</td>\n",
              "      <td>0.0</td>\n",
              "      <td>5</td>\n",
              "      <td>2019</td>\n",
              "    </tr>\n",
              "    <tr>\n",
              "      <th>7667777</th>\n",
              "      <td>1</td>\n",
              "      <td>2019-01-31 23:32:28</td>\n",
              "      <td>2019-01-31 23:42:31</td>\n",
              "      <td>3</td>\n",
              "      <td>1.8</td>\n",
              "      <td>1</td>\n",
              "      <td>N</td>\n",
              "      <td>114</td>\n",
              "      <td>164</td>\n",
              "      <td>1</td>\n",
              "      <td>9.0</td>\n",
              "      <td>0.5</td>\n",
              "      <td>0.5</td>\n",
              "      <td>2.05</td>\n",
              "      <td>0.0</td>\n",
              "      <td>0.3</td>\n",
              "      <td>12.35</td>\n",
              "      <td>0.0</td>\n",
              "      <td>5</td>\n",
              "      <td>2019</td>\n",
              "    </tr>\n",
              "    <tr>\n",
              "      <th>7667778</th>\n",
              "      <td>1</td>\n",
              "      <td>2019-01-31 23:48:29</td>\n",
              "      <td>2019-01-31 23:58:06</td>\n",
              "      <td>2</td>\n",
              "      <td>2.0</td>\n",
              "      <td>1</td>\n",
              "      <td>N</td>\n",
              "      <td>164</td>\n",
              "      <td>229</td>\n",
              "      <td>1</td>\n",
              "      <td>9.0</td>\n",
              "      <td>0.5</td>\n",
              "      <td>0.5</td>\n",
              "      <td>1.03</td>\n",
              "      <td>0.0</td>\n",
              "      <td>0.3</td>\n",
              "      <td>11.33</td>\n",
              "      <td>0.0</td>\n",
              "      <td>5</td>\n",
              "      <td>2019</td>\n",
              "    </tr>\n",
              "    <tr>\n",
              "      <th>7667779</th>\n",
              "      <td>1</td>\n",
              "      <td>2019-01-31 23:50:26</td>\n",
              "      <td>2019-02-01 00:16:18</td>\n",
              "      <td>1</td>\n",
              "      <td>7.5</td>\n",
              "      <td>1</td>\n",
              "      <td>N</td>\n",
              "      <td>164</td>\n",
              "      <td>25</td>\n",
              "      <td>1</td>\n",
              "      <td>24.5</td>\n",
              "      <td>0.5</td>\n",
              "      <td>0.5</td>\n",
              "      <td>1.00</td>\n",
              "      <td>0.0</td>\n",
              "      <td>0.3</td>\n",
              "      <td>26.80</td>\n",
              "      <td>0.0</td>\n",
              "      <td>5</td>\n",
              "      <td>2019</td>\n",
              "    </tr>\n",
              "  </tbody>\n",
              "</table>\n",
              "<p>2938522 rows × 20 columns</p>\n",
              "</div>"
            ],
            "text/plain": [
              "         VendorID tpep_pickup_datetime  ... week_number  year_number\n",
              "0               1  2019-01-01 00:46:40  ...           1         2019\n",
              "1               1  2019-01-01 00:59:47  ...           1         2019\n",
              "7               1  2019-01-01 00:21:28  ...           1         2019\n",
              "8               1  2019-01-01 00:32:01  ...           1         2019\n",
              "9               1  2019-01-01 00:57:32  ...           1         2019\n",
              "...           ...                  ...  ...         ...          ...\n",
              "7667774         1  2019-01-31 23:58:24  ...           5         2019\n",
              "7667776         1  2019-01-31 23:13:16  ...           5         2019\n",
              "7667777         1  2019-01-31 23:32:28  ...           5         2019\n",
              "7667778         1  2019-01-31 23:48:29  ...           5         2019\n",
              "7667779         1  2019-01-31 23:50:26  ...           5         2019\n",
              "\n",
              "[2938522 rows x 20 columns]"
            ]
          },
          "metadata": {
            "tags": []
          },
          "execution_count": 25
        }
      ]
    },
    {
      "cell_type": "code",
      "metadata": {
        "colab": {
          "base_uri": "https://localhost:8080/"
        },
        "id": "4uG3sCBwsgKz",
        "outputId": "61049433-6bef-452a-aea7-55b2a86189db"
      },
      "source": [
        "summary_1 = data_1['total_amount'].sum()\n",
        "summary_1"
      ],
      "execution_count": null,
      "outputs": [
        {
          "output_type": "execute_result",
          "data": {
            "text/plain": [
              "44438762.390000015"
            ]
          },
          "metadata": {
            "tags": []
          },
          "execution_count": 26
        }
      ]
    },
    {
      "cell_type": "code",
      "metadata": {
        "colab": {
          "base_uri": "https://localhost:8080/"
        },
        "id": "FdN0I8Z_s3Ds",
        "outputId": "ecedd519-c0a0-4ec0-81e8-20531e026f28"
      },
      "source": [
        "group_1 = data_1.groupby(['PULocationID', 'DOLocationID'])['total_amount'].sum() / summary_1\n",
        "group_1"
      ],
      "execution_count": null,
      "outputs": [
        {
          "output_type": "execute_result",
          "data": {
            "text/plain": [
              "PULocationID  DOLocationID\n",
              "1             1               3.699932e-04\n",
              "              264             1.912745e-06\n",
              "              265             1.273663e-06\n",
              "2             65              1.520069e-06\n",
              "              107             1.581052e-06\n",
              "                                  ...     \n",
              "265           239             3.049140e-07\n",
              "              249             1.154398e-06\n",
              "              255             1.801580e-06\n",
              "              264             1.098028e-05\n",
              "              265             2.150523e-03\n",
              "Name: total_amount, Length: 21000, dtype: float64"
            ]
          },
          "metadata": {
            "tags": []
          },
          "execution_count": 27
        }
      ]
    },
    {
      "cell_type": "code",
      "metadata": {
        "colab": {
          "base_uri": "https://localhost:8080/"
        },
        "id": "7Y-y4tpmxMQA",
        "outputId": "dcba5bb7-c4de-417d-b78a-0e61e17e633c"
      },
      "source": [
        "group_1 = group_1.sort_values(ascending=False)\n",
        "group_1 = group_1[group_1 >= 0.0]\n",
        "group_1"
      ],
      "execution_count": null,
      "outputs": [
        {
          "output_type": "execute_result",
          "data": {
            "text/plain": [
              "PULocationID  DOLocationID\n",
              "264           264             4.187568e-02\n",
              "138           230             3.963185e-03\n",
              "237           236             3.899068e-03\n",
              "132           230             3.733076e-03\n",
              "236           237             3.621850e-03\n",
              "                                  ...     \n",
              "35            265             6.750863e-09\n",
              "241           145             6.750863e-09\n",
              "216           130             6.750863e-09\n",
              "134           93              6.750863e-09\n",
              "93            223             6.750863e-09\n",
              "Name: total_amount, Length: 21000, dtype: float64"
            ]
          },
          "metadata": {
            "tags": []
          },
          "execution_count": 28
        }
      ]
    },
    {
      "cell_type": "code",
      "metadata": {
        "colab": {
          "base_uri": "https://localhost:8080/"
        },
        "id": "W2CBX5dks92r",
        "outputId": "a4ed1162-b5e9-44d3-e938-1e3195313072"
      },
      "source": [
        "group_1_cumsum = group_1.cumsum()\n",
        "group_1_cumsum"
      ],
      "execution_count": null,
      "outputs": [
        {
          "output_type": "execute_result",
          "data": {
            "text/plain": [
              "PULocationID  DOLocationID\n",
              "264           264             0.041876\n",
              "138           230             0.045839\n",
              "237           236             0.049738\n",
              "132           230             0.053471\n",
              "236           237             0.057093\n",
              "                                ...   \n",
              "35            265             1.000000\n",
              "241           145             1.000000\n",
              "216           130             1.000000\n",
              "134           93              1.000000\n",
              "93            223             1.000000\n",
              "Name: total_amount, Length: 21000, dtype: float64"
            ]
          },
          "metadata": {
            "tags": []
          },
          "execution_count": 29
        }
      ]
    },
    {
      "cell_type": "code",
      "metadata": {
        "colab": {
          "base_uri": "https://localhost:8080/"
        },
        "id": "Pe1dJWAVtFTr",
        "outputId": "7a59e9a7-24b9-4800-acee-35b1387b0b29"
      },
      "source": [
        "group_1_abc = group_1_cumsum.apply(ABC_segmentation)\n",
        "group_1_abc"
      ],
      "execution_count": null,
      "outputs": [
        {
          "output_type": "execute_result",
          "data": {
            "text/plain": [
              "PULocationID  DOLocationID\n",
              "264           264             A\n",
              "138           230             A\n",
              "237           236             A\n",
              "132           230             A\n",
              "236           237             A\n",
              "                             ..\n",
              "35            265             C\n",
              "241           145             C\n",
              "216           130             C\n",
              "134           93              C\n",
              "93            223             C\n",
              "Name: total_amount, Length: 21000, dtype: object"
            ]
          },
          "metadata": {
            "tags": []
          },
          "execution_count": 30
        }
      ]
    },
    {
      "cell_type": "code",
      "metadata": {
        "colab": {
          "base_uri": "https://localhost:8080/"
        },
        "id": "NZ9KGzeAtMYz",
        "outputId": "85b3a466-6c03-4130-ee52-8e26805f66ef"
      },
      "source": [
        "group_1_abc.value_counts()"
      ],
      "execution_count": null,
      "outputs": [
        {
          "output_type": "execute_result",
          "data": {
            "text/plain": [
              "C    15803\n",
              "B     3293\n",
              "A     1904\n",
              "Name: total_amount, dtype: int64"
            ]
          },
          "metadata": {
            "tags": []
          },
          "execution_count": 31
        }
      ]
    },
    {
      "cell_type": "code",
      "metadata": {
        "colab": {
          "base_uri": "https://localhost:8080/"
        },
        "id": "8EH9cZD_tTBL",
        "outputId": "8f685c19-d4da-4dec-c150-a61e05914b67"
      },
      "source": [
        "1904 / (1904 + 3293 + 15803)"
      ],
      "execution_count": null,
      "outputs": [
        {
          "output_type": "execute_result",
          "data": {
            "text/plain": [
              "0.09066666666666667"
            ]
          },
          "metadata": {
            "tags": []
          },
          "execution_count": 32
        }
      ]
    },
    {
      "cell_type": "code",
      "metadata": {
        "colab": {
          "base_uri": "https://localhost:8080/"
        },
        "id": "6upx12UytYIb",
        "outputId": "1114b298-c8cc-49ab-a833-9481153196eb"
      },
      "source": [
        "3293 / (1904 + 3293 + 15803)"
      ],
      "execution_count": null,
      "outputs": [
        {
          "output_type": "execute_result",
          "data": {
            "text/plain": [
              "0.15680952380952382"
            ]
          },
          "metadata": {
            "tags": []
          },
          "execution_count": 33
        }
      ]
    },
    {
      "cell_type": "code",
      "metadata": {
        "colab": {
          "base_uri": "https://localhost:8080/"
        },
        "id": "Z4XuXMG-tb8b",
        "outputId": "53e8b47c-ae22-4693-9635-b636c1b66523"
      },
      "source": [
        "15803 / (1904 + 3293 + 15803)"
      ],
      "execution_count": null,
      "outputs": [
        {
          "output_type": "execute_result",
          "data": {
            "text/plain": [
              "0.7525238095238095"
            ]
          },
          "metadata": {
            "tags": []
          },
          "execution_count": 34
        }
      ]
    },
    {
      "cell_type": "markdown",
      "metadata": {
        "id": "-FuBlUVltrax"
      },
      "source": [
        "Оператор №2"
      ]
    },
    {
      "cell_type": "code",
      "metadata": {
        "colab": {
          "base_uri": "https://localhost:8080/",
          "height": 437
        },
        "id": "9Fv0c71yteGL",
        "outputId": "2776f96c-c378-4d07-fbb2-87bab5801fc5"
      },
      "source": [
        "data_2 = data[data['VendorID'] == 2]\n",
        "data_2"
      ],
      "execution_count": null,
      "outputs": [
        {
          "output_type": "execute_result",
          "data": {
            "text/html": [
              "<div>\n",
              "<style scoped>\n",
              "    .dataframe tbody tr th:only-of-type {\n",
              "        vertical-align: middle;\n",
              "    }\n",
              "\n",
              "    .dataframe tbody tr th {\n",
              "        vertical-align: top;\n",
              "    }\n",
              "\n",
              "    .dataframe thead th {\n",
              "        text-align: right;\n",
              "    }\n",
              "</style>\n",
              "<table border=\"1\" class=\"dataframe\">\n",
              "  <thead>\n",
              "    <tr style=\"text-align: right;\">\n",
              "      <th></th>\n",
              "      <th>VendorID</th>\n",
              "      <th>tpep_pickup_datetime</th>\n",
              "      <th>tpep_dropoff_datetime</th>\n",
              "      <th>passenger_count</th>\n",
              "      <th>trip_distance</th>\n",
              "      <th>RatecodeID</th>\n",
              "      <th>store_and_fwd_flag</th>\n",
              "      <th>PULocationID</th>\n",
              "      <th>DOLocationID</th>\n",
              "      <th>payment_type</th>\n",
              "      <th>fare_amount</th>\n",
              "      <th>extra</th>\n",
              "      <th>mta_tax</th>\n",
              "      <th>tip_amount</th>\n",
              "      <th>tolls_amount</th>\n",
              "      <th>improvement_surcharge</th>\n",
              "      <th>total_amount</th>\n",
              "      <th>congestion_surcharge</th>\n",
              "      <th>week_number</th>\n",
              "      <th>year_number</th>\n",
              "    </tr>\n",
              "  </thead>\n",
              "  <tbody>\n",
              "    <tr>\n",
              "      <th>2</th>\n",
              "      <td>2</td>\n",
              "      <td>2018-12-21 13:48:30</td>\n",
              "      <td>2018-12-21 13:52:40</td>\n",
              "      <td>3</td>\n",
              "      <td>0.00</td>\n",
              "      <td>1</td>\n",
              "      <td>N</td>\n",
              "      <td>236</td>\n",
              "      <td>236</td>\n",
              "      <td>1</td>\n",
              "      <td>4.5</td>\n",
              "      <td>0.5</td>\n",
              "      <td>0.5</td>\n",
              "      <td>0.00</td>\n",
              "      <td>0.00</td>\n",
              "      <td>0.3</td>\n",
              "      <td>5.80</td>\n",
              "      <td>NaN</td>\n",
              "      <td>51</td>\n",
              "      <td>2018</td>\n",
              "    </tr>\n",
              "    <tr>\n",
              "      <th>3</th>\n",
              "      <td>2</td>\n",
              "      <td>2018-11-28 15:52:25</td>\n",
              "      <td>2018-11-28 15:55:45</td>\n",
              "      <td>5</td>\n",
              "      <td>0.00</td>\n",
              "      <td>1</td>\n",
              "      <td>N</td>\n",
              "      <td>193</td>\n",
              "      <td>193</td>\n",
              "      <td>2</td>\n",
              "      <td>3.5</td>\n",
              "      <td>0.5</td>\n",
              "      <td>0.5</td>\n",
              "      <td>0.00</td>\n",
              "      <td>0.00</td>\n",
              "      <td>0.3</td>\n",
              "      <td>7.55</td>\n",
              "      <td>NaN</td>\n",
              "      <td>48</td>\n",
              "      <td>2018</td>\n",
              "    </tr>\n",
              "    <tr>\n",
              "      <th>4</th>\n",
              "      <td>2</td>\n",
              "      <td>2018-11-28 15:56:57</td>\n",
              "      <td>2018-11-28 15:58:33</td>\n",
              "      <td>5</td>\n",
              "      <td>0.00</td>\n",
              "      <td>2</td>\n",
              "      <td>N</td>\n",
              "      <td>193</td>\n",
              "      <td>193</td>\n",
              "      <td>2</td>\n",
              "      <td>52.0</td>\n",
              "      <td>0.0</td>\n",
              "      <td>0.5</td>\n",
              "      <td>0.00</td>\n",
              "      <td>0.00</td>\n",
              "      <td>0.3</td>\n",
              "      <td>55.55</td>\n",
              "      <td>NaN</td>\n",
              "      <td>48</td>\n",
              "      <td>2018</td>\n",
              "    </tr>\n",
              "    <tr>\n",
              "      <th>5</th>\n",
              "      <td>2</td>\n",
              "      <td>2018-11-28 16:25:49</td>\n",
              "      <td>2018-11-28 16:28:26</td>\n",
              "      <td>5</td>\n",
              "      <td>0.00</td>\n",
              "      <td>1</td>\n",
              "      <td>N</td>\n",
              "      <td>193</td>\n",
              "      <td>193</td>\n",
              "      <td>2</td>\n",
              "      <td>3.5</td>\n",
              "      <td>0.5</td>\n",
              "      <td>0.5</td>\n",
              "      <td>0.00</td>\n",
              "      <td>5.76</td>\n",
              "      <td>0.3</td>\n",
              "      <td>13.31</td>\n",
              "      <td>NaN</td>\n",
              "      <td>48</td>\n",
              "      <td>2018</td>\n",
              "    </tr>\n",
              "    <tr>\n",
              "      <th>6</th>\n",
              "      <td>2</td>\n",
              "      <td>2018-11-28 16:29:37</td>\n",
              "      <td>2018-11-28 16:33:43</td>\n",
              "      <td>5</td>\n",
              "      <td>0.00</td>\n",
              "      <td>2</td>\n",
              "      <td>N</td>\n",
              "      <td>193</td>\n",
              "      <td>193</td>\n",
              "      <td>2</td>\n",
              "      <td>52.0</td>\n",
              "      <td>0.0</td>\n",
              "      <td>0.5</td>\n",
              "      <td>0.00</td>\n",
              "      <td>0.00</td>\n",
              "      <td>0.3</td>\n",
              "      <td>55.55</td>\n",
              "      <td>NaN</td>\n",
              "      <td>48</td>\n",
              "      <td>2018</td>\n",
              "    </tr>\n",
              "    <tr>\n",
              "      <th>...</th>\n",
              "      <td>...</td>\n",
              "      <td>...</td>\n",
              "      <td>...</td>\n",
              "      <td>...</td>\n",
              "      <td>...</td>\n",
              "      <td>...</td>\n",
              "      <td>...</td>\n",
              "      <td>...</td>\n",
              "      <td>...</td>\n",
              "      <td>...</td>\n",
              "      <td>...</td>\n",
              "      <td>...</td>\n",
              "      <td>...</td>\n",
              "      <td>...</td>\n",
              "      <td>...</td>\n",
              "      <td>...</td>\n",
              "      <td>...</td>\n",
              "      <td>...</td>\n",
              "      <td>...</td>\n",
              "      <td>...</td>\n",
              "    </tr>\n",
              "    <tr>\n",
              "      <th>7667783</th>\n",
              "      <td>2</td>\n",
              "      <td>2019-01-31 23:04:25</td>\n",
              "      <td>2019-01-31 23:17:09</td>\n",
              "      <td>2</td>\n",
              "      <td>4.15</td>\n",
              "      <td>1</td>\n",
              "      <td>N</td>\n",
              "      <td>186</td>\n",
              "      <td>13</td>\n",
              "      <td>2</td>\n",
              "      <td>14.5</td>\n",
              "      <td>0.5</td>\n",
              "      <td>0.5</td>\n",
              "      <td>0.00</td>\n",
              "      <td>0.00</td>\n",
              "      <td>0.3</td>\n",
              "      <td>15.80</td>\n",
              "      <td>0.0</td>\n",
              "      <td>5</td>\n",
              "      <td>2019</td>\n",
              "    </tr>\n",
              "    <tr>\n",
              "      <th>7667784</th>\n",
              "      <td>2</td>\n",
              "      <td>2019-01-31 23:32:34</td>\n",
              "      <td>2019-01-31 23:41:40</td>\n",
              "      <td>1</td>\n",
              "      <td>1.34</td>\n",
              "      <td>1</td>\n",
              "      <td>N</td>\n",
              "      <td>68</td>\n",
              "      <td>233</td>\n",
              "      <td>2</td>\n",
              "      <td>8.0</td>\n",
              "      <td>0.5</td>\n",
              "      <td>0.5</td>\n",
              "      <td>0.00</td>\n",
              "      <td>0.00</td>\n",
              "      <td>0.3</td>\n",
              "      <td>9.30</td>\n",
              "      <td>0.0</td>\n",
              "      <td>5</td>\n",
              "      <td>2019</td>\n",
              "    </tr>\n",
              "    <tr>\n",
              "      <th>7667785</th>\n",
              "      <td>2</td>\n",
              "      <td>2019-01-31 23:47:48</td>\n",
              "      <td>2019-02-01 00:01:08</td>\n",
              "      <td>1</td>\n",
              "      <td>1.45</td>\n",
              "      <td>1</td>\n",
              "      <td>N</td>\n",
              "      <td>161</td>\n",
              "      <td>229</td>\n",
              "      <td>1</td>\n",
              "      <td>10.5</td>\n",
              "      <td>0.5</td>\n",
              "      <td>0.5</td>\n",
              "      <td>2.36</td>\n",
              "      <td>0.00</td>\n",
              "      <td>0.3</td>\n",
              "      <td>14.16</td>\n",
              "      <td>0.0</td>\n",
              "      <td>5</td>\n",
              "      <td>2019</td>\n",
              "    </tr>\n",
              "    <tr>\n",
              "      <th>7667786</th>\n",
              "      <td>2</td>\n",
              "      <td>2019-01-31 23:31:54</td>\n",
              "      <td>2019-01-31 23:50:36</td>\n",
              "      <td>2</td>\n",
              "      <td>4.28</td>\n",
              "      <td>1</td>\n",
              "      <td>N</td>\n",
              "      <td>186</td>\n",
              "      <td>262</td>\n",
              "      <td>1</td>\n",
              "      <td>17.0</td>\n",
              "      <td>0.5</td>\n",
              "      <td>0.5</td>\n",
              "      <td>3.66</td>\n",
              "      <td>0.00</td>\n",
              "      <td>0.3</td>\n",
              "      <td>21.96</td>\n",
              "      <td>0.0</td>\n",
              "      <td>5</td>\n",
              "      <td>2019</td>\n",
              "    </tr>\n",
              "    <tr>\n",
              "      <th>7667787</th>\n",
              "      <td>2</td>\n",
              "      <td>2019-01-31 23:57:36</td>\n",
              "      <td>2019-02-01 00:18:39</td>\n",
              "      <td>1</td>\n",
              "      <td>4.79</td>\n",
              "      <td>1</td>\n",
              "      <td>N</td>\n",
              "      <td>263</td>\n",
              "      <td>4</td>\n",
              "      <td>1</td>\n",
              "      <td>18.0</td>\n",
              "      <td>0.5</td>\n",
              "      <td>0.5</td>\n",
              "      <td>3.86</td>\n",
              "      <td>0.00</td>\n",
              "      <td>0.3</td>\n",
              "      <td>23.16</td>\n",
              "      <td>0.0</td>\n",
              "      <td>5</td>\n",
              "      <td>2019</td>\n",
              "    </tr>\n",
              "  </tbody>\n",
              "</table>\n",
              "<p>4643897 rows × 20 columns</p>\n",
              "</div>"
            ],
            "text/plain": [
              "         VendorID tpep_pickup_datetime  ... week_number  year_number\n",
              "2               2  2018-12-21 13:48:30  ...          51         2018\n",
              "3               2  2018-11-28 15:52:25  ...          48         2018\n",
              "4               2  2018-11-28 15:56:57  ...          48         2018\n",
              "5               2  2018-11-28 16:25:49  ...          48         2018\n",
              "6               2  2018-11-28 16:29:37  ...          48         2018\n",
              "...           ...                  ...  ...         ...          ...\n",
              "7667783         2  2019-01-31 23:04:25  ...           5         2019\n",
              "7667784         2  2019-01-31 23:32:34  ...           5         2019\n",
              "7667785         2  2019-01-31 23:47:48  ...           5         2019\n",
              "7667786         2  2019-01-31 23:31:54  ...           5         2019\n",
              "7667787         2  2019-01-31 23:57:36  ...           5         2019\n",
              "\n",
              "[4643897 rows x 20 columns]"
            ]
          },
          "metadata": {
            "tags": []
          },
          "execution_count": 35
        }
      ]
    },
    {
      "cell_type": "code",
      "metadata": {
        "colab": {
          "base_uri": "https://localhost:8080/"
        },
        "id": "nT0Pp4RItwpz",
        "outputId": "bf830161-79a4-4262-d360-974e109bc99e"
      },
      "source": [
        "summary_2 = data_2['total_amount'].sum()\n",
        "summary_2"
      ],
      "execution_count": null,
      "outputs": [
        {
          "output_type": "execute_result",
          "data": {
            "text/plain": [
              "73771173.52999993"
            ]
          },
          "metadata": {
            "tags": []
          },
          "execution_count": 36
        }
      ]
    },
    {
      "cell_type": "code",
      "metadata": {
        "colab": {
          "base_uri": "https://localhost:8080/"
        },
        "id": "CI7pBWU_t2cL",
        "outputId": "e246a3a1-e24c-4056-c9da-21dfa503f22f"
      },
      "source": [
        "group_2 = data_2.groupby(['PULocationID', 'DOLocationID'])['total_amount'].sum() / summary_2\n",
        "group_2"
      ],
      "execution_count": null,
      "outputs": [
        {
          "output_type": "execute_result",
          "data": {
            "text/plain": [
              "PULocationID  DOLocationID\n",
              "1             1               3.230582e-04\n",
              "              132             4.392231e-06\n",
              "              137             1.123474e-06\n",
              "              142             1.130523e-06\n",
              "              164             1.268788e-07\n",
              "                                  ...     \n",
              "265           259             3.212637e-07\n",
              "              262             2.895440e-07\n",
              "              263             1.245880e-06\n",
              "              264             1.532984e-05\n",
              "              265             2.023627e-03\n",
              "Name: total_amount, Length: 29958, dtype: float64"
            ]
          },
          "metadata": {
            "tags": []
          },
          "execution_count": 37
        }
      ]
    },
    {
      "cell_type": "code",
      "metadata": {
        "colab": {
          "base_uri": "https://localhost:8080/"
        },
        "id": "lan_BXnKxr_m",
        "outputId": "65de0a68-6d03-488e-a05d-b86f67f3587f"
      },
      "source": [
        "group_2 = group_2.sort_values(ascending=False)\n",
        "group_2 = group_2[group_2 >= 0.0]\n",
        "group_2"
      ],
      "execution_count": null,
      "outputs": [
        {
          "output_type": "execute_result",
          "data": {
            "text/plain": [
              "PULocationID  DOLocationID\n",
              "264           264             7.725456e-03\n",
              "132           265             4.418477e-03\n",
              "138           230             4.261159e-03\n",
              "132           230             4.235149e-03\n",
              "237           236             3.394400e-03\n",
              "                                  ...     \n",
              "97            264             1.084434e-08\n",
              "182           10              5.422172e-09\n",
              "188           264             5.422172e-09\n",
              "264           11              4.202183e-09\n",
              "185           31              4.202183e-09\n",
              "Name: total_amount, Length: 29958, dtype: float64"
            ]
          },
          "metadata": {
            "tags": []
          },
          "execution_count": 38
        }
      ]
    },
    {
      "cell_type": "code",
      "metadata": {
        "colab": {
          "base_uri": "https://localhost:8080/"
        },
        "id": "CMyO-OE4t7dC",
        "outputId": "7359268d-a0b6-475e-ca56-18d72d0179af"
      },
      "source": [
        "group_2_cumsum = group_2.cumsum()\n",
        "group_2_cumsum"
      ],
      "execution_count": null,
      "outputs": [
        {
          "output_type": "execute_result",
          "data": {
            "text/plain": [
              "PULocationID  DOLocationID\n",
              "264           264             0.007725\n",
              "132           265             0.012144\n",
              "138           230             0.016405\n",
              "132           230             0.020640\n",
              "237           236             0.024035\n",
              "                                ...   \n",
              "97            264             1.000000\n",
              "182           10              1.000000\n",
              "188           264             1.000000\n",
              "264           11              1.000000\n",
              "185           31              1.000000\n",
              "Name: total_amount, Length: 29958, dtype: float64"
            ]
          },
          "metadata": {
            "tags": []
          },
          "execution_count": 39
        }
      ]
    },
    {
      "cell_type": "code",
      "metadata": {
        "colab": {
          "base_uri": "https://localhost:8080/"
        },
        "id": "YbQPT1HzuA7q",
        "outputId": "16f81128-39e8-41a9-c31e-ea7e42cbcd88"
      },
      "source": [
        "group_2_abc = group_2_cumsum.apply(ABC_segmentation)\n",
        "group_2_abc"
      ],
      "execution_count": null,
      "outputs": [
        {
          "output_type": "execute_result",
          "data": {
            "text/plain": [
              "PULocationID  DOLocationID\n",
              "264           264             A\n",
              "132           265             A\n",
              "138           230             A\n",
              "132           230             A\n",
              "237           236             A\n",
              "                             ..\n",
              "97            264             C\n",
              "182           10              C\n",
              "188           264             C\n",
              "264           11              C\n",
              "185           31              C\n",
              "Name: total_amount, Length: 29958, dtype: object"
            ]
          },
          "metadata": {
            "tags": []
          },
          "execution_count": 40
        }
      ]
    },
    {
      "cell_type": "code",
      "metadata": {
        "colab": {
          "base_uri": "https://localhost:8080/"
        },
        "id": "aTGCDi8ouF-a",
        "outputId": "2d68ed26-7334-4682-9fa6-180967b76dbb"
      },
      "source": [
        "group_2_abc.value_counts()"
      ],
      "execution_count": null,
      "outputs": [
        {
          "output_type": "execute_result",
          "data": {
            "text/plain": [
              "C    23229\n",
              "B     4595\n",
              "A     2134\n",
              "Name: total_amount, dtype: int64"
            ]
          },
          "metadata": {
            "tags": []
          },
          "execution_count": 41
        }
      ]
    },
    {
      "cell_type": "code",
      "metadata": {
        "colab": {
          "base_uri": "https://localhost:8080/"
        },
        "id": "V7ejXt06xypO",
        "outputId": "67c62135-ba32-472f-fd7c-93bcdc20ba66"
      },
      "source": [
        "2134 / (2134 + 4595 + 23229)"
      ],
      "execution_count": null,
      "outputs": [
        {
          "output_type": "execute_result",
          "data": {
            "text/plain": [
              "0.07123305961679685"
            ]
          },
          "metadata": {
            "tags": []
          },
          "execution_count": 42
        }
      ]
    },
    {
      "cell_type": "code",
      "metadata": {
        "colab": {
          "base_uri": "https://localhost:8080/"
        },
        "id": "vMHZUdRFyD4t",
        "outputId": "f334aa3a-9d44-48bf-bb96-6a90960f62a8"
      },
      "source": [
        "4595 / (2134 + 4595 + 23229)"
      ],
      "execution_count": null,
      "outputs": [
        {
          "output_type": "execute_result",
          "data": {
            "text/plain": [
              "0.15338140062754524"
            ]
          },
          "metadata": {
            "tags": []
          },
          "execution_count": 43
        }
      ]
    },
    {
      "cell_type": "code",
      "metadata": {
        "colab": {
          "base_uri": "https://localhost:8080/"
        },
        "id": "Y0fcVwoCyIKg",
        "outputId": "804c3e47-9205-4168-a4e1-a988e71f680a"
      },
      "source": [
        "23229 / (2134 + 4595 + 23229)"
      ],
      "execution_count": null,
      "outputs": [
        {
          "output_type": "execute_result",
          "data": {
            "text/plain": [
              "0.7753855397556579"
            ]
          },
          "metadata": {
            "tags": []
          },
          "execution_count": 45
        }
      ]
    },
    {
      "cell_type": "markdown",
      "metadata": {
        "id": "7ZZD2KR3yj1O"
      },
      "source": [
        "По операторам №1 и №2 разбиение не отличается существенно от общего."
      ]
    },
    {
      "cell_type": "markdown",
      "metadata": {
        "id": "TS6tcSlmNch7"
      },
      "source": [
        "### **2. XYZ-анализ**"
      ]
    },
    {
      "cell_type": "code",
      "metadata": {
        "colab": {
          "base_uri": "https://localhost:8080/"
        },
        "id": "Gg5kbGkfQ7VI",
        "outputId": "e34df189-389f-417a-b8ee-e4ed68d3f5fa"
      },
      "source": [
        "data_num = data[['PULocationID', 'DOLocationID', 'year_number', 'week_number', 'tpep_pickup_datetime']]\n",
        "orders = data_num.groupby(['year_number', 'week_number', 'PULocationID', 'DOLocationID']).size()\n",
        "orders"
      ],
      "execution_count": null,
      "outputs": [
        {
          "output_type": "execute_result",
          "data": {
            "text/plain": [
              "year_number  week_number  PULocationID  DOLocationID\n",
              "2008         1            7             140             1\n",
              "                          68            88              1\n",
              "                          107           107             1\n",
              "                                        249             1\n",
              "                          132           181             1\n",
              "                                                       ..\n",
              "2019         27           142           43              1\n",
              "                          246           50              1\n",
              "             30           148           234             1\n",
              "             33           114           181             1\n",
              "             36           148           79              1\n",
              "Length: 102015, dtype: int64"
            ]
          },
          "metadata": {
            "tags": []
          },
          "execution_count": 47
        }
      ]
    },
    {
      "cell_type": "code",
      "metadata": {
        "colab": {
          "base_uri": "https://localhost:8080/",
          "height": 417
        },
        "id": "z6zogtJwTN4R",
        "outputId": "4b48780d-de52-44a5-e4c7-8ce59b289259"
      },
      "source": [
        "orders = orders.reset_index().iloc[:,2:].rename({0: 'orders'}, axis=1)\n",
        "orders"
      ],
      "execution_count": null,
      "outputs": [
        {
          "output_type": "execute_result",
          "data": {
            "text/html": [
              "<div>\n",
              "<style scoped>\n",
              "    .dataframe tbody tr th:only-of-type {\n",
              "        vertical-align: middle;\n",
              "    }\n",
              "\n",
              "    .dataframe tbody tr th {\n",
              "        vertical-align: top;\n",
              "    }\n",
              "\n",
              "    .dataframe thead th {\n",
              "        text-align: right;\n",
              "    }\n",
              "</style>\n",
              "<table border=\"1\" class=\"dataframe\">\n",
              "  <thead>\n",
              "    <tr style=\"text-align: right;\">\n",
              "      <th></th>\n",
              "      <th>PULocationID</th>\n",
              "      <th>DOLocationID</th>\n",
              "      <th>orders</th>\n",
              "    </tr>\n",
              "  </thead>\n",
              "  <tbody>\n",
              "    <tr>\n",
              "      <th>0</th>\n",
              "      <td>7</td>\n",
              "      <td>140</td>\n",
              "      <td>1</td>\n",
              "    </tr>\n",
              "    <tr>\n",
              "      <th>1</th>\n",
              "      <td>68</td>\n",
              "      <td>88</td>\n",
              "      <td>1</td>\n",
              "    </tr>\n",
              "    <tr>\n",
              "      <th>2</th>\n",
              "      <td>107</td>\n",
              "      <td>107</td>\n",
              "      <td>1</td>\n",
              "    </tr>\n",
              "    <tr>\n",
              "      <th>3</th>\n",
              "      <td>107</td>\n",
              "      <td>249</td>\n",
              "      <td>1</td>\n",
              "    </tr>\n",
              "    <tr>\n",
              "      <th>4</th>\n",
              "      <td>132</td>\n",
              "      <td>181</td>\n",
              "      <td>1</td>\n",
              "    </tr>\n",
              "    <tr>\n",
              "      <th>...</th>\n",
              "      <td>...</td>\n",
              "      <td>...</td>\n",
              "      <td>...</td>\n",
              "    </tr>\n",
              "    <tr>\n",
              "      <th>102010</th>\n",
              "      <td>142</td>\n",
              "      <td>43</td>\n",
              "      <td>1</td>\n",
              "    </tr>\n",
              "    <tr>\n",
              "      <th>102011</th>\n",
              "      <td>246</td>\n",
              "      <td>50</td>\n",
              "      <td>1</td>\n",
              "    </tr>\n",
              "    <tr>\n",
              "      <th>102012</th>\n",
              "      <td>148</td>\n",
              "      <td>234</td>\n",
              "      <td>1</td>\n",
              "    </tr>\n",
              "    <tr>\n",
              "      <th>102013</th>\n",
              "      <td>114</td>\n",
              "      <td>181</td>\n",
              "      <td>1</td>\n",
              "    </tr>\n",
              "    <tr>\n",
              "      <th>102014</th>\n",
              "      <td>148</td>\n",
              "      <td>79</td>\n",
              "      <td>1</td>\n",
              "    </tr>\n",
              "  </tbody>\n",
              "</table>\n",
              "<p>102015 rows × 3 columns</p>\n",
              "</div>"
            ],
            "text/plain": [
              "        PULocationID  DOLocationID  orders\n",
              "0                  7           140       1\n",
              "1                 68            88       1\n",
              "2                107           107       1\n",
              "3                107           249       1\n",
              "4                132           181       1\n",
              "...              ...           ...     ...\n",
              "102010           142            43       1\n",
              "102011           246            50       1\n",
              "102012           148           234       1\n",
              "102013           114           181       1\n",
              "102014           148            79       1\n",
              "\n",
              "[102015 rows x 3 columns]"
            ]
          },
          "metadata": {
            "tags": []
          },
          "execution_count": 48
        }
      ]
    },
    {
      "cell_type": "code",
      "metadata": {
        "colab": {
          "base_uri": "https://localhost:8080/",
          "height": 447
        },
        "id": "BtxCX32dUu04",
        "outputId": "3fb1f65d-7d95-4ca5-936c-c5dd1d26865f"
      },
      "source": [
        "orders_std = orders.groupby(['PULocationID', 'DOLocationID']).std().dropna()\n",
        "orders_std"
      ],
      "execution_count": null,
      "outputs": [
        {
          "output_type": "execute_result",
          "data": {
            "text/html": [
              "<div>\n",
              "<style scoped>\n",
              "    .dataframe tbody tr th:only-of-type {\n",
              "        vertical-align: middle;\n",
              "    }\n",
              "\n",
              "    .dataframe tbody tr th {\n",
              "        vertical-align: top;\n",
              "    }\n",
              "\n",
              "    .dataframe thead th {\n",
              "        text-align: right;\n",
              "    }\n",
              "</style>\n",
              "<table border=\"1\" class=\"dataframe\">\n",
              "  <thead>\n",
              "    <tr style=\"text-align: right;\">\n",
              "      <th></th>\n",
              "      <th></th>\n",
              "      <th>orders</th>\n",
              "    </tr>\n",
              "    <tr>\n",
              "      <th>PULocationID</th>\n",
              "      <th>DOLocationID</th>\n",
              "      <th></th>\n",
              "    </tr>\n",
              "  </thead>\n",
              "  <tbody>\n",
              "    <tr>\n",
              "      <th rowspan=\"3\" valign=\"top\">1</th>\n",
              "      <th>1</th>\n",
              "      <td>26.092144</td>\n",
              "    </tr>\n",
              "    <tr>\n",
              "      <th>132</th>\n",
              "      <td>0.707107</td>\n",
              "    </tr>\n",
              "    <tr>\n",
              "      <th>265</th>\n",
              "      <td>0.957427</td>\n",
              "    </tr>\n",
              "    <tr>\n",
              "      <th>2</th>\n",
              "      <th>2</th>\n",
              "      <td>0.000000</td>\n",
              "    </tr>\n",
              "    <tr>\n",
              "      <th>3</th>\n",
              "      <th>3</th>\n",
              "      <td>1.788854</td>\n",
              "    </tr>\n",
              "    <tr>\n",
              "      <th>...</th>\n",
              "      <th>...</th>\n",
              "      <td>...</td>\n",
              "    </tr>\n",
              "    <tr>\n",
              "      <th rowspan=\"5\" valign=\"top\">265</th>\n",
              "      <th>259</th>\n",
              "      <td>0.000000</td>\n",
              "    </tr>\n",
              "    <tr>\n",
              "      <th>262</th>\n",
              "      <td>0.000000</td>\n",
              "    </tr>\n",
              "    <tr>\n",
              "      <th>263</th>\n",
              "      <td>0.547723</td>\n",
              "    </tr>\n",
              "    <tr>\n",
              "      <th>264</th>\n",
              "      <td>0.707107</td>\n",
              "    </tr>\n",
              "    <tr>\n",
              "      <th>265</th>\n",
              "      <td>72.316665</td>\n",
              "    </tr>\n",
              "  </tbody>\n",
              "</table>\n",
              "<p>23645 rows × 1 columns</p>\n",
              "</div>"
            ],
            "text/plain": [
              "                              orders\n",
              "PULocationID DOLocationID           \n",
              "1            1             26.092144\n",
              "             132            0.707107\n",
              "             265            0.957427\n",
              "2            2              0.000000\n",
              "3            3              1.788854\n",
              "...                              ...\n",
              "265          259            0.000000\n",
              "             262            0.000000\n",
              "             263            0.547723\n",
              "             264            0.707107\n",
              "             265           72.316665\n",
              "\n",
              "[23645 rows x 1 columns]"
            ]
          },
          "metadata": {
            "tags": []
          },
          "execution_count": 49
        }
      ]
    },
    {
      "cell_type": "code",
      "metadata": {
        "colab": {
          "base_uri": "https://localhost:8080/",
          "height": 447
        },
        "id": "H5sBjGaqVAZv",
        "outputId": "1cf3e43e-503a-4e0d-f6dc-9f67fd599d98"
      },
      "source": [
        "orders_mean = orders.groupby(['PULocationID', 'DOLocationID']).mean().dropna()\n",
        "orders_mean"
      ],
      "execution_count": null,
      "outputs": [
        {
          "output_type": "execute_result",
          "data": {
            "text/html": [
              "<div>\n",
              "<style scoped>\n",
              "    .dataframe tbody tr th:only-of-type {\n",
              "        vertical-align: middle;\n",
              "    }\n",
              "\n",
              "    .dataframe tbody tr th {\n",
              "        vertical-align: top;\n",
              "    }\n",
              "\n",
              "    .dataframe thead th {\n",
              "        text-align: right;\n",
              "    }\n",
              "</style>\n",
              "<table border=\"1\" class=\"dataframe\">\n",
              "  <thead>\n",
              "    <tr style=\"text-align: right;\">\n",
              "      <th></th>\n",
              "      <th></th>\n",
              "      <th>orders</th>\n",
              "    </tr>\n",
              "    <tr>\n",
              "      <th>PULocationID</th>\n",
              "      <th>DOLocationID</th>\n",
              "      <th></th>\n",
              "    </tr>\n",
              "  </thead>\n",
              "  <tbody>\n",
              "    <tr>\n",
              "      <th rowspan=\"5\" valign=\"top\">1</th>\n",
              "      <th>1</th>\n",
              "      <td>84.4</td>\n",
              "    </tr>\n",
              "    <tr>\n",
              "      <th>132</th>\n",
              "      <td>1.5</td>\n",
              "    </tr>\n",
              "    <tr>\n",
              "      <th>137</th>\n",
              "      <td>1.0</td>\n",
              "    </tr>\n",
              "    <tr>\n",
              "      <th>142</th>\n",
              "      <td>1.0</td>\n",
              "    </tr>\n",
              "    <tr>\n",
              "      <th>164</th>\n",
              "      <td>1.0</td>\n",
              "    </tr>\n",
              "    <tr>\n",
              "      <th>...</th>\n",
              "      <th>...</th>\n",
              "      <td>...</td>\n",
              "    </tr>\n",
              "    <tr>\n",
              "      <th rowspan=\"5\" valign=\"top\">265</th>\n",
              "      <th>259</th>\n",
              "      <td>2.0</td>\n",
              "    </tr>\n",
              "    <tr>\n",
              "      <th>262</th>\n",
              "      <td>1.0</td>\n",
              "    </tr>\n",
              "    <tr>\n",
              "      <th>263</th>\n",
              "      <td>1.4</td>\n",
              "    </tr>\n",
              "    <tr>\n",
              "      <th>264</th>\n",
              "      <td>4.0</td>\n",
              "    </tr>\n",
              "    <tr>\n",
              "      <th>265</th>\n",
              "      <td>598.8</td>\n",
              "    </tr>\n",
              "  </tbody>\n",
              "</table>\n",
              "<p>32238 rows × 1 columns</p>\n",
              "</div>"
            ],
            "text/plain": [
              "                           orders\n",
              "PULocationID DOLocationID        \n",
              "1            1               84.4\n",
              "             132              1.5\n",
              "             137              1.0\n",
              "             142              1.0\n",
              "             164              1.0\n",
              "...                           ...\n",
              "265          259              2.0\n",
              "             262              1.0\n",
              "             263              1.4\n",
              "             264              4.0\n",
              "             265            598.8\n",
              "\n",
              "[32238 rows x 1 columns]"
            ]
          },
          "metadata": {
            "tags": []
          },
          "execution_count": 50
        }
      ]
    },
    {
      "cell_type": "code",
      "metadata": {
        "colab": {
          "base_uri": "https://localhost:8080/",
          "height": 447
        },
        "id": "CPR95LsgVIXn",
        "outputId": "1d70e8be-0a30-4f38-838d-b71c3f4f688d"
      },
      "source": [
        "volatility = (orders_std / orders_mean).dropna()\n",
        "volatility"
      ],
      "execution_count": null,
      "outputs": [
        {
          "output_type": "execute_result",
          "data": {
            "text/html": [
              "<div>\n",
              "<style scoped>\n",
              "    .dataframe tbody tr th:only-of-type {\n",
              "        vertical-align: middle;\n",
              "    }\n",
              "\n",
              "    .dataframe tbody tr th {\n",
              "        vertical-align: top;\n",
              "    }\n",
              "\n",
              "    .dataframe thead th {\n",
              "        text-align: right;\n",
              "    }\n",
              "</style>\n",
              "<table border=\"1\" class=\"dataframe\">\n",
              "  <thead>\n",
              "    <tr style=\"text-align: right;\">\n",
              "      <th></th>\n",
              "      <th></th>\n",
              "      <th>orders</th>\n",
              "    </tr>\n",
              "    <tr>\n",
              "      <th>PULocationID</th>\n",
              "      <th>DOLocationID</th>\n",
              "      <th></th>\n",
              "    </tr>\n",
              "  </thead>\n",
              "  <tbody>\n",
              "    <tr>\n",
              "      <th rowspan=\"3\" valign=\"top\">1</th>\n",
              "      <th>1</th>\n",
              "      <td>0.309149</td>\n",
              "    </tr>\n",
              "    <tr>\n",
              "      <th>132</th>\n",
              "      <td>0.471405</td>\n",
              "    </tr>\n",
              "    <tr>\n",
              "      <th>265</th>\n",
              "      <td>0.547101</td>\n",
              "    </tr>\n",
              "    <tr>\n",
              "      <th>2</th>\n",
              "      <th>2</th>\n",
              "      <td>0.000000</td>\n",
              "    </tr>\n",
              "    <tr>\n",
              "      <th>3</th>\n",
              "      <th>3</th>\n",
              "      <td>0.638877</td>\n",
              "    </tr>\n",
              "    <tr>\n",
              "      <th>...</th>\n",
              "      <th>...</th>\n",
              "      <td>...</td>\n",
              "    </tr>\n",
              "    <tr>\n",
              "      <th rowspan=\"5\" valign=\"top\">265</th>\n",
              "      <th>259</th>\n",
              "      <td>0.000000</td>\n",
              "    </tr>\n",
              "    <tr>\n",
              "      <th>262</th>\n",
              "      <td>0.000000</td>\n",
              "    </tr>\n",
              "    <tr>\n",
              "      <th>263</th>\n",
              "      <td>0.391230</td>\n",
              "    </tr>\n",
              "    <tr>\n",
              "      <th>264</th>\n",
              "      <td>0.176777</td>\n",
              "    </tr>\n",
              "    <tr>\n",
              "      <th>265</th>\n",
              "      <td>0.120769</td>\n",
              "    </tr>\n",
              "  </tbody>\n",
              "</table>\n",
              "<p>23645 rows × 1 columns</p>\n",
              "</div>"
            ],
            "text/plain": [
              "                             orders\n",
              "PULocationID DOLocationID          \n",
              "1            1             0.309149\n",
              "             132           0.471405\n",
              "             265           0.547101\n",
              "2            2             0.000000\n",
              "3            3             0.638877\n",
              "...                             ...\n",
              "265          259           0.000000\n",
              "             262           0.000000\n",
              "             263           0.391230\n",
              "             264           0.176777\n",
              "             265           0.120769\n",
              "\n",
              "[23645 rows x 1 columns]"
            ]
          },
          "metadata": {
            "tags": []
          },
          "execution_count": 51
        }
      ]
    },
    {
      "cell_type": "code",
      "metadata": {
        "colab": {
          "base_uri": "https://localhost:8080/",
          "height": 348
        },
        "id": "MDuzw2pQVMMX",
        "outputId": "598c7e69-7ce2-4746-bcf5-6c18d1cd4a7c"
      },
      "source": [
        "plt.figure()\n",
        "plt.title('volatility')\n",
        "plt.hist(volatility['orders'])"
      ],
      "execution_count": null,
      "outputs": [
        {
          "output_type": "execute_result",
          "data": {
            "text/plain": [
              "(array([4860., 2368., 4677., 6153., 2869., 1873.,  447.,  328.,   58.,\n",
              "          12.]),\n",
              " array([0.  , 0.12, 0.24, 0.36, 0.48, 0.6 , 0.72, 0.84, 0.96, 1.08, 1.2 ]),\n",
              " <a list of 10 Patch objects>)"
            ]
          },
          "metadata": {
            "tags": []
          },
          "execution_count": 52
        },
        {
          "output_type": "display_data",
          "data": {
            "image/png": "[encoded data removed]",
            "text/plain": [
              "<Figure size 432x288 with 1 Axes>"
            ]
          },
          "metadata": {
            "tags": [],
            "needs_background": "light"
          }
        }
      ]
    },
    {
      "cell_type": "code",
      "metadata": {
        "colab": {
          "base_uri": "https://localhost:8080/"
        },
        "id": "hlwdsDoOVTJQ",
        "outputId": "882ce3cc-b0c9-4920-d603-0b16d73ae3cc"
      },
      "source": [
        "def XYZ_segmentation(vol):\n",
        "  if vol < 0.25:\n",
        "    return 'X'\n",
        "  if vol >= 0.25 and vol < 0.5:\n",
        "    return 'Y'\n",
        "  if vol >= 0.5:\n",
        "    return 'Z'\n",
        "\n",
        "group_xyz = volatility['orders'].apply(XYZ_segmentation)\n",
        "group_xyz"
      ],
      "execution_count": null,
      "outputs": [
        {
          "output_type": "execute_result",
          "data": {
            "text/plain": [
              "PULocationID  DOLocationID\n",
              "1             1               Y\n",
              "              132             Y\n",
              "              265             Z\n",
              "2             2               X\n",
              "3             3               Z\n",
              "                             ..\n",
              "265           259             X\n",
              "              262             X\n",
              "              263             Y\n",
              "              264             X\n",
              "              265             X\n",
              "Name: orders, Length: 23645, dtype: object"
            ]
          },
          "metadata": {
            "tags": []
          },
          "execution_count": 53
        }
      ]
    },
    {
      "cell_type": "code",
      "metadata": {
        "colab": {
          "base_uri": "https://localhost:8080/",
          "height": 548
        },
        "id": "JuFRAsFTWChA",
        "outputId": "860a55fe-8b1e-412d-ad09-4d49569239f5"
      },
      "source": [
        "group_abc = pd.DataFrame(group_abc).rename({'total_amount': 'ABC_seg'}, axis=1)\n",
        "group_abc['XYZ_seg'] = volatility['orders'].apply(XYZ_segmentation)\n",
        "group_class = group_abc.dropna()\n",
        "group_class['class'] = group_abc['ABC_seg'] + group_abc['XYZ_seg']\n",
        "group_class"
      ],
      "execution_count": null,
      "outputs": [
        {
          "output_type": "stream",
          "text": [
            "/usr/local/lib/python3.7/dist-packages/ipykernel_launcher.py:4: SettingWithCopyWarning: \n",
            "A value is trying to be set on a copy of a slice from a DataFrame.\n",
            "Try using .loc[row_indexer,col_indexer] = value instead\n",
            "\n",
            "See the caveats in the documentation: https://pandas.pydata.org/pandas-docs/stable/user_guide/indexing.html#returning-a-view-versus-a-copy\n",
            "  after removing the cwd from sys.path.\n"
          ],
          "name": "stderr"
        },
        {
          "output_type": "execute_result",
          "data": {
            "text/html": [
              "<div>\n",
              "<style scoped>\n",
              "    .dataframe tbody tr th:only-of-type {\n",
              "        vertical-align: middle;\n",
              "    }\n",
              "\n",
              "    .dataframe tbody tr th {\n",
              "        vertical-align: top;\n",
              "    }\n",
              "\n",
              "    .dataframe thead th {\n",
              "        text-align: right;\n",
              "    }\n",
              "</style>\n",
              "<table border=\"1\" class=\"dataframe\">\n",
              "  <thead>\n",
              "    <tr style=\"text-align: right;\">\n",
              "      <th></th>\n",
              "      <th></th>\n",
              "      <th>ABC_seg</th>\n",
              "      <th>XYZ_seg</th>\n",
              "      <th>class</th>\n",
              "    </tr>\n",
              "    <tr>\n",
              "      <th>PULocationID</th>\n",
              "      <th>DOLocationID</th>\n",
              "      <th></th>\n",
              "      <th></th>\n",
              "      <th></th>\n",
              "    </tr>\n",
              "  </thead>\n",
              "  <tbody>\n",
              "    <tr>\n",
              "      <th>264</th>\n",
              "      <th>264</th>\n",
              "      <td>A</td>\n",
              "      <td>Z</td>\n",
              "      <td>AZ</td>\n",
              "    </tr>\n",
              "    <tr>\n",
              "      <th>138</th>\n",
              "      <th>230</th>\n",
              "      <td>A</td>\n",
              "      <td>Y</td>\n",
              "      <td>AY</td>\n",
              "    </tr>\n",
              "    <tr>\n",
              "      <th rowspan=\"2\" valign=\"top\">132</th>\n",
              "      <th>230</th>\n",
              "      <td>A</td>\n",
              "      <td>Y</td>\n",
              "      <td>AY</td>\n",
              "    </tr>\n",
              "    <tr>\n",
              "      <th>265</th>\n",
              "      <td>A</td>\n",
              "      <td>Z</td>\n",
              "      <td>AZ</td>\n",
              "    </tr>\n",
              "    <tr>\n",
              "      <th>237</th>\n",
              "      <th>236</th>\n",
              "      <td>A</td>\n",
              "      <td>Z</td>\n",
              "      <td>AZ</td>\n",
              "    </tr>\n",
              "    <tr>\n",
              "      <th>...</th>\n",
              "      <th>...</th>\n",
              "      <td>...</td>\n",
              "      <td>...</td>\n",
              "      <td>...</td>\n",
              "    </tr>\n",
              "    <tr>\n",
              "      <th>259</th>\n",
              "      <th>240</th>\n",
              "      <td>C</td>\n",
              "      <td>X</td>\n",
              "      <td>CX</td>\n",
              "    </tr>\n",
              "    <tr>\n",
              "      <th>47</th>\n",
              "      <th>264</th>\n",
              "      <td>C</td>\n",
              "      <td>X</td>\n",
              "      <td>CX</td>\n",
              "    </tr>\n",
              "    <tr>\n",
              "      <th>63</th>\n",
              "      <th>180</th>\n",
              "      <td>C</td>\n",
              "      <td>Y</td>\n",
              "      <td>CY</td>\n",
              "    </tr>\n",
              "    <tr>\n",
              "      <th>29</th>\n",
              "      <th>264</th>\n",
              "      <td>C</td>\n",
              "      <td>X</td>\n",
              "      <td>CX</td>\n",
              "    </tr>\n",
              "    <tr>\n",
              "      <th>19</th>\n",
              "      <th>264</th>\n",
              "      <td>C</td>\n",
              "      <td>X</td>\n",
              "      <td>CX</td>\n",
              "    </tr>\n",
              "  </tbody>\n",
              "</table>\n",
              "<p>23645 rows × 3 columns</p>\n",
              "</div>"
            ],
            "text/plain": [
              "                          ABC_seg XYZ_seg class\n",
              "PULocationID DOLocationID                      \n",
              "264          264                A       Z    AZ\n",
              "138          230                A       Y    AY\n",
              "132          230                A       Y    AY\n",
              "             265                A       Z    AZ\n",
              "237          236                A       Z    AZ\n",
              "...                           ...     ...   ...\n",
              "259          240                C       X    CX\n",
              "47           264                C       X    CX\n",
              "63           180                C       Y    CY\n",
              "29           264                C       X    CX\n",
              "19           264                C       X    CX\n",
              "\n",
              "[23645 rows x 3 columns]"
            ]
          },
          "metadata": {
            "tags": []
          },
          "execution_count": 54
        }
      ]
    },
    {
      "cell_type": "code",
      "metadata": {
        "colab": {
          "base_uri": "https://localhost:8080/"
        },
        "id": "9KUAcFiMW4Kf",
        "outputId": "d8b03e53-46d6-405f-dfde-e211b07c3530"
      },
      "source": [
        "group_class['class'].value_counts()"
      ],
      "execution_count": null,
      "outputs": [
        {
          "output_type": "execute_result",
          "data": {
            "text/plain": [
              "CY    7287\n",
              "CX    5539\n",
              "CZ    4624\n",
              "BY    2542\n",
              "BX    1236\n",
              "AX     948\n",
              "AY     804\n",
              "BZ     372\n",
              "AZ     293\n",
              "Name: class, dtype: int64"
            ]
          },
          "metadata": {
            "tags": []
          },
          "execution_count": 55
        }
      ]
    },
    {
      "cell_type": "code",
      "metadata": {
        "colab": {
          "base_uri": "https://localhost:8080/",
          "height": 286
        },
        "id": "FtxDhhojXDkf",
        "outputId": "edff1260-ff8a-4350-bc24-07b4772470df"
      },
      "source": [
        "group_class['class'].value_counts().plot(kind='bar')"
      ],
      "execution_count": null,
      "outputs": [
        {
          "output_type": "execute_result",
          "data": {
            "text/plain": [
              "<matplotlib.axes._subplots.AxesSubplot at 0x7f1ae7074b90>"
            ]
          },
          "metadata": {
            "tags": []
          },
          "execution_count": 56
        },
        {
          "output_type": "display_data",
          "data": {
            "image/png": "[encoded data removed]",
            "text/plain": [
              "<Figure size 432x288 with 1 Axes>"
            ]
          },
          "metadata": {
            "tags": [],
            "needs_background": "light"
          }
        }
      ]
    },
    {
      "cell_type": "markdown",
      "metadata": {
        "id": "AqzQM4vsYnP0"
      },
      "source": [
        "Оператор №1"
      ]
    },
    {
      "cell_type": "code",
      "metadata": {
        "colab": {
          "base_uri": "https://localhost:8080/"
        },
        "id": "MpT8D0VuY75I",
        "outputId": "ef56724e-8323-4e6b-c089-90dd375e7a2e"
      },
      "source": [
        "data_1_num = data_1[['PULocationID', 'DOLocationID', 'year_number', 'week_number', 'tpep_pickup_datetime']]\n",
        "orders_1 = data_1_num.groupby(['year_number', 'week_number', 'PULocationID', 'DOLocationID']).size()\n",
        "orders_1"
      ],
      "execution_count": null,
      "outputs": [
        {
          "output_type": "execute_result",
          "data": {
            "text/plain": [
              "year_number  week_number  PULocationID  DOLocationID\n",
              "2019         1            1             1                40\n",
              "                                        264               1\n",
              "                          2             65                1\n",
              "                                        107               1\n",
              "                          3             169               1\n",
              "                                                       ... \n",
              "             5            265           130               1\n",
              "                                        164               1\n",
              "                                        231               1\n",
              "                                        264               3\n",
              "                                        265             192\n",
              "Length: 63192, dtype: int64"
            ]
          },
          "metadata": {
            "tags": []
          },
          "execution_count": 57
        }
      ]
    },
    {
      "cell_type": "code",
      "metadata": {
        "colab": {
          "base_uri": "https://localhost:8080/",
          "height": 417
        },
        "id": "GcWgEdbcZIte",
        "outputId": "4a6abcd1-b0a8-4b10-b961-4e24c6dfd7e7"
      },
      "source": [
        "orders_1 = orders_1.reset_index().iloc[:,2:].rename({0: 'orders'}, axis=1)\n",
        "orders_1"
      ],
      "execution_count": null,
      "outputs": [
        {
          "output_type": "execute_result",
          "data": {
            "text/html": [
              "<div>\n",
              "<style scoped>\n",
              "    .dataframe tbody tr th:only-of-type {\n",
              "        vertical-align: middle;\n",
              "    }\n",
              "\n",
              "    .dataframe tbody tr th {\n",
              "        vertical-align: top;\n",
              "    }\n",
              "\n",
              "    .dataframe thead th {\n",
              "        text-align: right;\n",
              "    }\n",
              "</style>\n",
              "<table border=\"1\" class=\"dataframe\">\n",
              "  <thead>\n",
              "    <tr style=\"text-align: right;\">\n",
              "      <th></th>\n",
              "      <th>PULocationID</th>\n",
              "      <th>DOLocationID</th>\n",
              "      <th>orders</th>\n",
              "    </tr>\n",
              "  </thead>\n",
              "  <tbody>\n",
              "    <tr>\n",
              "      <th>0</th>\n",
              "      <td>1</td>\n",
              "      <td>1</td>\n",
              "      <td>40</td>\n",
              "    </tr>\n",
              "    <tr>\n",
              "      <th>1</th>\n",
              "      <td>1</td>\n",
              "      <td>264</td>\n",
              "      <td>1</td>\n",
              "    </tr>\n",
              "    <tr>\n",
              "      <th>2</th>\n",
              "      <td>2</td>\n",
              "      <td>65</td>\n",
              "      <td>1</td>\n",
              "    </tr>\n",
              "    <tr>\n",
              "      <th>3</th>\n",
              "      <td>2</td>\n",
              "      <td>107</td>\n",
              "      <td>1</td>\n",
              "    </tr>\n",
              "    <tr>\n",
              "      <th>4</th>\n",
              "      <td>3</td>\n",
              "      <td>169</td>\n",
              "      <td>1</td>\n",
              "    </tr>\n",
              "    <tr>\n",
              "      <th>...</th>\n",
              "      <td>...</td>\n",
              "      <td>...</td>\n",
              "      <td>...</td>\n",
              "    </tr>\n",
              "    <tr>\n",
              "      <th>63187</th>\n",
              "      <td>265</td>\n",
              "      <td>130</td>\n",
              "      <td>1</td>\n",
              "    </tr>\n",
              "    <tr>\n",
              "      <th>63188</th>\n",
              "      <td>265</td>\n",
              "      <td>164</td>\n",
              "      <td>1</td>\n",
              "    </tr>\n",
              "    <tr>\n",
              "      <th>63189</th>\n",
              "      <td>265</td>\n",
              "      <td>231</td>\n",
              "      <td>1</td>\n",
              "    </tr>\n",
              "    <tr>\n",
              "      <th>63190</th>\n",
              "      <td>265</td>\n",
              "      <td>264</td>\n",
              "      <td>3</td>\n",
              "    </tr>\n",
              "    <tr>\n",
              "      <th>63191</th>\n",
              "      <td>265</td>\n",
              "      <td>265</td>\n",
              "      <td>192</td>\n",
              "    </tr>\n",
              "  </tbody>\n",
              "</table>\n",
              "<p>63192 rows × 3 columns</p>\n",
              "</div>"
            ],
            "text/plain": [
              "       PULocationID  DOLocationID  orders\n",
              "0                 1             1      40\n",
              "1                 1           264       1\n",
              "2                 2            65       1\n",
              "3                 2           107       1\n",
              "4                 3           169       1\n",
              "...             ...           ...     ...\n",
              "63187           265           130       1\n",
              "63188           265           164       1\n",
              "63189           265           231       1\n",
              "63190           265           264       3\n",
              "63191           265           265     192\n",
              "\n",
              "[63192 rows x 3 columns]"
            ]
          },
          "metadata": {
            "tags": []
          },
          "execution_count": 58
        }
      ]
    },
    {
      "cell_type": "code",
      "metadata": {
        "colab": {
          "base_uri": "https://localhost:8080/",
          "height": 447
        },
        "id": "Hlhf9G55ZRbH",
        "outputId": "ac6345f8-55bd-451b-dc0a-fad45f48fb8c"
      },
      "source": [
        "orders_1_std = orders_1.groupby(['PULocationID', 'DOLocationID']).std().dropna()\n",
        "orders_1_std"
      ],
      "execution_count": null,
      "outputs": [
        {
          "output_type": "execute_result",
          "data": {
            "text/html": [
              "<div>\n",
              "<style scoped>\n",
              "    .dataframe tbody tr th:only-of-type {\n",
              "        vertical-align: middle;\n",
              "    }\n",
              "\n",
              "    .dataframe tbody tr th {\n",
              "        vertical-align: top;\n",
              "    }\n",
              "\n",
              "    .dataframe thead th {\n",
              "        text-align: right;\n",
              "    }\n",
              "</style>\n",
              "<table border=\"1\" class=\"dataframe\">\n",
              "  <thead>\n",
              "    <tr style=\"text-align: right;\">\n",
              "      <th></th>\n",
              "      <th></th>\n",
              "      <th>orders</th>\n",
              "    </tr>\n",
              "    <tr>\n",
              "      <th>PULocationID</th>\n",
              "      <th>DOLocationID</th>\n",
              "      <th></th>\n",
              "    </tr>\n",
              "  </thead>\n",
              "  <tbody>\n",
              "    <tr>\n",
              "      <th rowspan=\"2\" valign=\"top\">1</th>\n",
              "      <th>1</th>\n",
              "      <td>13.583078</td>\n",
              "    </tr>\n",
              "    <tr>\n",
              "      <th>265</th>\n",
              "      <td>0.000000</td>\n",
              "    </tr>\n",
              "    <tr>\n",
              "      <th rowspan=\"2\" valign=\"top\">3</th>\n",
              "      <th>200</th>\n",
              "      <td>0.000000</td>\n",
              "    </tr>\n",
              "    <tr>\n",
              "      <th>233</th>\n",
              "      <td>0.957427</td>\n",
              "    </tr>\n",
              "    <tr>\n",
              "      <th>4</th>\n",
              "      <th>1</th>\n",
              "      <td>0.000000</td>\n",
              "    </tr>\n",
              "    <tr>\n",
              "      <th>...</th>\n",
              "      <th>...</th>\n",
              "      <td>...</td>\n",
              "    </tr>\n",
              "    <tr>\n",
              "      <th rowspan=\"5\" valign=\"top\">265</th>\n",
              "      <th>191</th>\n",
              "      <td>0.000000</td>\n",
              "    </tr>\n",
              "    <tr>\n",
              "      <th>203</th>\n",
              "      <td>0.000000</td>\n",
              "    </tr>\n",
              "    <tr>\n",
              "      <th>231</th>\n",
              "      <td>1.140175</td>\n",
              "    </tr>\n",
              "    <tr>\n",
              "      <th>264</th>\n",
              "      <td>0.836660</td>\n",
              "    </tr>\n",
              "    <tr>\n",
              "      <th>265</th>\n",
              "      <td>32.959066</td>\n",
              "    </tr>\n",
              "  </tbody>\n",
              "</table>\n",
              "<p>14471 rows × 1 columns</p>\n",
              "</div>"
            ],
            "text/plain": [
              "                              orders\n",
              "PULocationID DOLocationID           \n",
              "1            1             13.583078\n",
              "             265            0.000000\n",
              "3            200            0.000000\n",
              "             233            0.957427\n",
              "4            1              0.000000\n",
              "...                              ...\n",
              "265          191            0.000000\n",
              "             203            0.000000\n",
              "             231            1.140175\n",
              "             264            0.836660\n",
              "             265           32.959066\n",
              "\n",
              "[14471 rows x 1 columns]"
            ]
          },
          "metadata": {
            "tags": []
          },
          "execution_count": 59
        }
      ]
    },
    {
      "cell_type": "code",
      "metadata": {
        "colab": {
          "base_uri": "https://localhost:8080/",
          "height": 447
        },
        "id": "uH__JrcaZ1gP",
        "outputId": "33e8724d-850b-43e0-8467-1daf68f3ef61"
      },
      "source": [
        "orders_1_mean = orders_1.groupby(['PULocationID', 'DOLocationID']).mean().dropna()\n",
        "orders_1_mean"
      ],
      "execution_count": null,
      "outputs": [
        {
          "output_type": "execute_result",
          "data": {
            "text/html": [
              "<div>\n",
              "<style scoped>\n",
              "    .dataframe tbody tr th:only-of-type {\n",
              "        vertical-align: middle;\n",
              "    }\n",
              "\n",
              "    .dataframe tbody tr th {\n",
              "        vertical-align: top;\n",
              "    }\n",
              "\n",
              "    .dataframe thead th {\n",
              "        text-align: right;\n",
              "    }\n",
              "</style>\n",
              "<table border=\"1\" class=\"dataframe\">\n",
              "  <thead>\n",
              "    <tr style=\"text-align: right;\">\n",
              "      <th></th>\n",
              "      <th></th>\n",
              "      <th>orders</th>\n",
              "    </tr>\n",
              "    <tr>\n",
              "      <th>PULocationID</th>\n",
              "      <th>DOLocationID</th>\n",
              "      <th></th>\n",
              "    </tr>\n",
              "  </thead>\n",
              "  <tbody>\n",
              "    <tr>\n",
              "      <th rowspan=\"3\" valign=\"top\">1</th>\n",
              "      <th>1</th>\n",
              "      <td>38.0</td>\n",
              "    </tr>\n",
              "    <tr>\n",
              "      <th>264</th>\n",
              "      <td>1.0</td>\n",
              "    </tr>\n",
              "    <tr>\n",
              "      <th>265</th>\n",
              "      <td>1.0</td>\n",
              "    </tr>\n",
              "    <tr>\n",
              "      <th rowspan=\"2\" valign=\"top\">2</th>\n",
              "      <th>65</th>\n",
              "      <td>1.0</td>\n",
              "    </tr>\n",
              "    <tr>\n",
              "      <th>107</th>\n",
              "      <td>1.0</td>\n",
              "    </tr>\n",
              "    <tr>\n",
              "      <th>...</th>\n",
              "      <th>...</th>\n",
              "      <td>...</td>\n",
              "    </tr>\n",
              "    <tr>\n",
              "      <th rowspan=\"5\" valign=\"top\">265</th>\n",
              "      <th>239</th>\n",
              "      <td>1.0</td>\n",
              "    </tr>\n",
              "    <tr>\n",
              "      <th>249</th>\n",
              "      <td>1.0</td>\n",
              "    </tr>\n",
              "    <tr>\n",
              "      <th>255</th>\n",
              "      <td>1.0</td>\n",
              "    </tr>\n",
              "    <tr>\n",
              "      <th>264</th>\n",
              "      <td>2.2</td>\n",
              "    </tr>\n",
              "    <tr>\n",
              "      <th>265</th>\n",
              "      <td>233.6</td>\n",
              "    </tr>\n",
              "  </tbody>\n",
              "</table>\n",
              "<p>21000 rows × 1 columns</p>\n",
              "</div>"
            ],
            "text/plain": [
              "                           orders\n",
              "PULocationID DOLocationID        \n",
              "1            1               38.0\n",
              "             264              1.0\n",
              "             265              1.0\n",
              "2            65               1.0\n",
              "             107              1.0\n",
              "...                           ...\n",
              "265          239              1.0\n",
              "             249              1.0\n",
              "             255              1.0\n",
              "             264              2.2\n",
              "             265            233.6\n",
              "\n",
              "[21000 rows x 1 columns]"
            ]
          },
          "metadata": {
            "tags": []
          },
          "execution_count": 60
        }
      ]
    },
    {
      "cell_type": "code",
      "metadata": {
        "colab": {
          "base_uri": "https://localhost:8080/",
          "height": 447
        },
        "id": "aiq-OGwEZ8nf",
        "outputId": "87aae85d-0966-4f4d-aa3c-846e4e73b435"
      },
      "source": [
        "volatility_1 = (orders_1_std / orders_1_mean).dropna()\n",
        "volatility_1"
      ],
      "execution_count": null,
      "outputs": [
        {
          "output_type": "execute_result",
          "data": {
            "text/html": [
              "<div>\n",
              "<style scoped>\n",
              "    .dataframe tbody tr th:only-of-type {\n",
              "        vertical-align: middle;\n",
              "    }\n",
              "\n",
              "    .dataframe tbody tr th {\n",
              "        vertical-align: top;\n",
              "    }\n",
              "\n",
              "    .dataframe thead th {\n",
              "        text-align: right;\n",
              "    }\n",
              "</style>\n",
              "<table border=\"1\" class=\"dataframe\">\n",
              "  <thead>\n",
              "    <tr style=\"text-align: right;\">\n",
              "      <th></th>\n",
              "      <th></th>\n",
              "      <th>orders</th>\n",
              "    </tr>\n",
              "    <tr>\n",
              "      <th>PULocationID</th>\n",
              "      <th>DOLocationID</th>\n",
              "      <th></th>\n",
              "    </tr>\n",
              "  </thead>\n",
              "  <tbody>\n",
              "    <tr>\n",
              "      <th rowspan=\"2\" valign=\"top\">1</th>\n",
              "      <th>1</th>\n",
              "      <td>0.357449</td>\n",
              "    </tr>\n",
              "    <tr>\n",
              "      <th>265</th>\n",
              "      <td>0.000000</td>\n",
              "    </tr>\n",
              "    <tr>\n",
              "      <th rowspan=\"2\" valign=\"top\">3</th>\n",
              "      <th>200</th>\n",
              "      <td>0.000000</td>\n",
              "    </tr>\n",
              "    <tr>\n",
              "      <th>233</th>\n",
              "      <td>0.348155</td>\n",
              "    </tr>\n",
              "    <tr>\n",
              "      <th>4</th>\n",
              "      <th>1</th>\n",
              "      <td>0.000000</td>\n",
              "    </tr>\n",
              "    <tr>\n",
              "      <th>...</th>\n",
              "      <th>...</th>\n",
              "      <td>...</td>\n",
              "    </tr>\n",
              "    <tr>\n",
              "      <th rowspan=\"5\" valign=\"top\">265</th>\n",
              "      <th>191</th>\n",
              "      <td>0.000000</td>\n",
              "    </tr>\n",
              "    <tr>\n",
              "      <th>203</th>\n",
              "      <td>0.000000</td>\n",
              "    </tr>\n",
              "    <tr>\n",
              "      <th>231</th>\n",
              "      <td>0.475073</td>\n",
              "    </tr>\n",
              "    <tr>\n",
              "      <th>264</th>\n",
              "      <td>0.380300</td>\n",
              "    </tr>\n",
              "    <tr>\n",
              "      <th>265</th>\n",
              "      <td>0.141092</td>\n",
              "    </tr>\n",
              "  </tbody>\n",
              "</table>\n",
              "<p>14471 rows × 1 columns</p>\n",
              "</div>"
            ],
            "text/plain": [
              "                             orders\n",
              "PULocationID DOLocationID          \n",
              "1            1             0.357449\n",
              "             265           0.000000\n",
              "3            200           0.000000\n",
              "             233           0.348155\n",
              "4            1             0.000000\n",
              "...                             ...\n",
              "265          191           0.000000\n",
              "             203           0.000000\n",
              "             231           0.475073\n",
              "             264           0.380300\n",
              "             265           0.141092\n",
              "\n",
              "[14471 rows x 1 columns]"
            ]
          },
          "metadata": {
            "tags": []
          },
          "execution_count": 61
        }
      ]
    },
    {
      "cell_type": "code",
      "metadata": {
        "colab": {
          "base_uri": "https://localhost:8080/",
          "height": 382
        },
        "id": "0DF79jBUaD9v",
        "outputId": "6a136bc8-8ba0-46d1-e791-a8a229f4701d"
      },
      "source": [
        "plt.figure()\n",
        "plt.title('volatility_1')\n",
        "plt.hist(volatility_1['orders'])"
      ],
      "execution_count": null,
      "outputs": [
        {
          "output_type": "execute_result",
          "data": {
            "text/plain": [
              "(array([3.281e+03, 3.470e+03, 4.744e+03, 1.757e+03, 9.180e+02, 2.540e+02,\n",
              "        4.200e+01, 4.000e+00, 0.000e+00, 1.000e+00]),\n",
              " array([0.        , 0.16064387, 0.32128773, 0.4819316 , 0.64257546,\n",
              "        0.80321933, 0.96386319, 1.12450706, 1.28515093, 1.44579479,\n",
              "        1.60643866]),\n",
              " <a list of 10 Patch objects>)"
            ]
          },
          "metadata": {
            "tags": []
          },
          "execution_count": 62
        },
        {
          "output_type": "display_data",
          "data": {
            "image/png": "[encoded data removed]",
            "text/plain": [
              "<Figure size 432x288 with 1 Axes>"
            ]
          },
          "metadata": {
            "tags": [],
            "needs_background": "light"
          }
        }
      ]
    },
    {
      "cell_type": "code",
      "metadata": {
        "colab": {
          "base_uri": "https://localhost:8080/"
        },
        "id": "0DllOmLbaKbH",
        "outputId": "7efe0d62-1a27-40f8-862c-373b1fb6fcf5"
      },
      "source": [
        "def XYZ_segmentation_1(vol):\n",
        "  if vol < 0.2:\n",
        "    return 'X'\n",
        "  if vol >= 0.2 and vol < 0.5:\n",
        "    return 'Y'\n",
        "  if vol >= 0.5:\n",
        "    return 'Z'\n",
        "\n",
        "group_1_xyz = volatility_1['orders'].apply(XYZ_segmentation_1)\n",
        "group_1_xyz"
      ],
      "execution_count": null,
      "outputs": [
        {
          "output_type": "execute_result",
          "data": {
            "text/plain": [
              "PULocationID  DOLocationID\n",
              "1             1               Y\n",
              "              265             X\n",
              "3             200             X\n",
              "              233             Y\n",
              "4             1               X\n",
              "                             ..\n",
              "265           191             X\n",
              "              203             X\n",
              "              231             Y\n",
              "              264             Y\n",
              "              265             X\n",
              "Name: orders, Length: 14471, dtype: object"
            ]
          },
          "metadata": {
            "tags": []
          },
          "execution_count": 72
        }
      ]
    },
    {
      "cell_type": "code",
      "metadata": {
        "id": "k6Xq2txhaXw4",
        "colab": {
          "base_uri": "https://localhost:8080/",
          "height": 548
        },
        "outputId": "be58b7a7-585e-4ae9-ebd4-7b5ace7aea46"
      },
      "source": [
        "group_1_abc = pd.DataFrame(group_1_abc).rename({'total_amount': 'ABC_seg'}, axis=1)\n",
        "group_1_abc['XYZ_seg'] = group_1_xyz\n",
        "group_1_class = group_1_abc.dropna()\n",
        "group_1_class['class'] = group_1_abc['ABC_seg'] + group_1_abc['XYZ_seg']\n",
        "group_1_class"
      ],
      "execution_count": null,
      "outputs": [
        {
          "output_type": "stream",
          "text": [
            "/usr/local/lib/python3.7/dist-packages/ipykernel_launcher.py:4: SettingWithCopyWarning: \n",
            "A value is trying to be set on a copy of a slice from a DataFrame.\n",
            "Try using .loc[row_indexer,col_indexer] = value instead\n",
            "\n",
            "See the caveats in the documentation: https://pandas.pydata.org/pandas-docs/stable/user_guide/indexing.html#returning-a-view-versus-a-copy\n",
            "  after removing the cwd from sys.path.\n"
          ],
          "name": "stderr"
        },
        {
          "output_type": "execute_result",
          "data": {
            "text/html": [
              "<div>\n",
              "<style scoped>\n",
              "    .dataframe tbody tr th:only-of-type {\n",
              "        vertical-align: middle;\n",
              "    }\n",
              "\n",
              "    .dataframe tbody tr th {\n",
              "        vertical-align: top;\n",
              "    }\n",
              "\n",
              "    .dataframe thead th {\n",
              "        text-align: right;\n",
              "    }\n",
              "</style>\n",
              "<table border=\"1\" class=\"dataframe\">\n",
              "  <thead>\n",
              "    <tr style=\"text-align: right;\">\n",
              "      <th></th>\n",
              "      <th></th>\n",
              "      <th>ABC_seg</th>\n",
              "      <th>XYZ_seg</th>\n",
              "      <th>class</th>\n",
              "    </tr>\n",
              "    <tr>\n",
              "      <th>PULocationID</th>\n",
              "      <th>DOLocationID</th>\n",
              "      <th></th>\n",
              "      <th></th>\n",
              "      <th></th>\n",
              "    </tr>\n",
              "  </thead>\n",
              "  <tbody>\n",
              "    <tr>\n",
              "      <th>264</th>\n",
              "      <th>264</th>\n",
              "      <td>A</td>\n",
              "      <td>Y</td>\n",
              "      <td>AY</td>\n",
              "    </tr>\n",
              "    <tr>\n",
              "      <th>138</th>\n",
              "      <th>230</th>\n",
              "      <td>A</td>\n",
              "      <td>Y</td>\n",
              "      <td>AY</td>\n",
              "    </tr>\n",
              "    <tr>\n",
              "      <th>237</th>\n",
              "      <th>236</th>\n",
              "      <td>A</td>\n",
              "      <td>Y</td>\n",
              "      <td>AY</td>\n",
              "    </tr>\n",
              "    <tr>\n",
              "      <th>132</th>\n",
              "      <th>230</th>\n",
              "      <td>A</td>\n",
              "      <td>Y</td>\n",
              "      <td>AY</td>\n",
              "    </tr>\n",
              "    <tr>\n",
              "      <th>236</th>\n",
              "      <th>237</th>\n",
              "      <td>A</td>\n",
              "      <td>Y</td>\n",
              "      <td>AY</td>\n",
              "    </tr>\n",
              "    <tr>\n",
              "      <th>...</th>\n",
              "      <th>...</th>\n",
              "      <td>...</td>\n",
              "      <td>...</td>\n",
              "      <td>...</td>\n",
              "    </tr>\n",
              "    <tr>\n",
              "      <th>126</th>\n",
              "      <th>147</th>\n",
              "      <td>C</td>\n",
              "      <td>X</td>\n",
              "      <td>CX</td>\n",
              "    </tr>\n",
              "    <tr>\n",
              "      <th>178</th>\n",
              "      <th>21</th>\n",
              "      <td>C</td>\n",
              "      <td>X</td>\n",
              "      <td>CX</td>\n",
              "    </tr>\n",
              "    <tr>\n",
              "      <th>70</th>\n",
              "      <th>264</th>\n",
              "      <td>C</td>\n",
              "      <td>X</td>\n",
              "      <td>CX</td>\n",
              "    </tr>\n",
              "    <tr>\n",
              "      <th>248</th>\n",
              "      <th>182</th>\n",
              "      <td>C</td>\n",
              "      <td>X</td>\n",
              "      <td>CX</td>\n",
              "    </tr>\n",
              "    <tr>\n",
              "      <th>245</th>\n",
              "      <th>245</th>\n",
              "      <td>C</td>\n",
              "      <td>X</td>\n",
              "      <td>CX</td>\n",
              "    </tr>\n",
              "  </tbody>\n",
              "</table>\n",
              "<p>14471 rows × 3 columns</p>\n",
              "</div>"
            ],
            "text/plain": [
              "                          ABC_seg XYZ_seg class\n",
              "PULocationID DOLocationID                      \n",
              "264          264                A       Y    AY\n",
              "138          230                A       Y    AY\n",
              "237          236                A       Y    AY\n",
              "132          230                A       Y    AY\n",
              "236          237                A       Y    AY\n",
              "...                           ...     ...   ...\n",
              "126          147                C       X    CX\n",
              "178          21                 C       X    CX\n",
              "70           264                C       X    CX\n",
              "248          182                C       X    CX\n",
              "245          245                C       X    CX\n",
              "\n",
              "[14471 rows x 3 columns]"
            ]
          },
          "metadata": {
            "tags": []
          },
          "execution_count": 73
        }
      ]
    },
    {
      "cell_type": "code",
      "metadata": {
        "colab": {
          "base_uri": "https://localhost:8080/"
        },
        "id": "Cx8WzHxveDve",
        "outputId": "e3dbc638-d346-4214-c4e9-1977ed940d3c"
      },
      "source": [
        "group_1_class['class'].value_counts()"
      ],
      "execution_count": null,
      "outputs": [
        {
          "output_type": "execute_result",
          "data": {
            "text/plain": [
              "CY    3803\n",
              "CX    3178\n",
              "BY    2503\n",
              "CZ    2293\n",
              "AY    1702\n",
              "BZ     502\n",
              "BX     288\n",
              "AX     195\n",
              "AZ       7\n",
              "Name: class, dtype: int64"
            ]
          },
          "metadata": {
            "tags": []
          },
          "execution_count": 74
        }
      ]
    },
    {
      "cell_type": "code",
      "metadata": {
        "colab": {
          "base_uri": "https://localhost:8080/",
          "height": 286
        },
        "id": "7zB7YECBeJDv",
        "outputId": "c15056b8-0fc9-4b17-bfd8-4a49596e5608"
      },
      "source": [
        "group_1_class['class'].value_counts().plot(kind='bar')"
      ],
      "execution_count": null,
      "outputs": [
        {
          "output_type": "execute_result",
          "data": {
            "text/plain": [
              "<matplotlib.axes._subplots.AxesSubplot at 0x7f1ae512c810>"
            ]
          },
          "metadata": {
            "tags": []
          },
          "execution_count": 75
        },
        {
          "output_type": "display_data",
          "data": {
            "image/png": "[encoded data removed]",
            "text/plain": [
              "<Figure size 432x288 with 1 Axes>"
            ]
          },
          "metadata": {
            "tags": [],
            "needs_background": "light"
          }
        }
      ]
    },
    {
      "cell_type": "markdown",
      "metadata": {
        "id": "z6NlHJ8Fe3u-"
      },
      "source": [
        "Оператор №2"
      ]
    },
    {
      "cell_type": "code",
      "metadata": {
        "colab": {
          "base_uri": "https://localhost:8080/"
        },
        "id": "JAEr3NrPet5o",
        "outputId": "c0692cea-8eb3-463b-a3ce-f467ff9c28df"
      },
      "source": [
        "data_2_num = data_2[['PULocationID', 'DOLocationID', 'year_number', 'week_number', 'tpep_pickup_datetime']]\n",
        "orders_2 = data_2_num.groupby(['year_number', 'week_number', 'PULocationID', 'DOLocationID']).size()\n",
        "orders_2"
      ],
      "execution_count": null,
      "outputs": [
        {
          "output_type": "execute_result",
          "data": {
            "text/plain": [
              "year_number  week_number  PULocationID  DOLocationID\n",
              "2008         1            7             140             1\n",
              "                          68            88              1\n",
              "                          107           107             1\n",
              "                                        249             1\n",
              "                          132           181             1\n",
              "                                                       ..\n",
              "2019         27           142           43              1\n",
              "                          246           50              1\n",
              "             30           148           234             1\n",
              "             33           114           181             1\n",
              "             36           148           79              1\n",
              "Length: 91345, dtype: int64"
            ]
          },
          "metadata": {
            "tags": []
          },
          "execution_count": 76
        }
      ]
    },
    {
      "cell_type": "code",
      "metadata": {
        "colab": {
          "base_uri": "https://localhost:8080/",
          "height": 417
        },
        "id": "Gv9Fg_PFe_AP",
        "outputId": "ff0badec-3f56-4b99-c620-63ad140d564a"
      },
      "source": [
        "orders_2 = orders_2.reset_index().iloc[:,2:].rename({0: 'orders'}, axis=1)\n",
        "orders_2"
      ],
      "execution_count": null,
      "outputs": [
        {
          "output_type": "execute_result",
          "data": {
            "text/html": [
              "<div>\n",
              "<style scoped>\n",
              "    .dataframe tbody tr th:only-of-type {\n",
              "        vertical-align: middle;\n",
              "    }\n",
              "\n",
              "    .dataframe tbody tr th {\n",
              "        vertical-align: top;\n",
              "    }\n",
              "\n",
              "    .dataframe thead th {\n",
              "        text-align: right;\n",
              "    }\n",
              "</style>\n",
              "<table border=\"1\" class=\"dataframe\">\n",
              "  <thead>\n",
              "    <tr style=\"text-align: right;\">\n",
              "      <th></th>\n",
              "      <th>PULocationID</th>\n",
              "      <th>DOLocationID</th>\n",
              "      <th>orders</th>\n",
              "    </tr>\n",
              "  </thead>\n",
              "  <tbody>\n",
              "    <tr>\n",
              "      <th>0</th>\n",
              "      <td>7</td>\n",
              "      <td>140</td>\n",
              "      <td>1</td>\n",
              "    </tr>\n",
              "    <tr>\n",
              "      <th>1</th>\n",
              "      <td>68</td>\n",
              "      <td>88</td>\n",
              "      <td>1</td>\n",
              "    </tr>\n",
              "    <tr>\n",
              "      <th>2</th>\n",
              "      <td>107</td>\n",
              "      <td>107</td>\n",
              "      <td>1</td>\n",
              "    </tr>\n",
              "    <tr>\n",
              "      <th>3</th>\n",
              "      <td>107</td>\n",
              "      <td>249</td>\n",
              "      <td>1</td>\n",
              "    </tr>\n",
              "    <tr>\n",
              "      <th>4</th>\n",
              "      <td>132</td>\n",
              "      <td>181</td>\n",
              "      <td>1</td>\n",
              "    </tr>\n",
              "    <tr>\n",
              "      <th>...</th>\n",
              "      <td>...</td>\n",
              "      <td>...</td>\n",
              "      <td>...</td>\n",
              "    </tr>\n",
              "    <tr>\n",
              "      <th>91340</th>\n",
              "      <td>142</td>\n",
              "      <td>43</td>\n",
              "      <td>1</td>\n",
              "    </tr>\n",
              "    <tr>\n",
              "      <th>91341</th>\n",
              "      <td>246</td>\n",
              "      <td>50</td>\n",
              "      <td>1</td>\n",
              "    </tr>\n",
              "    <tr>\n",
              "      <th>91342</th>\n",
              "      <td>148</td>\n",
              "      <td>234</td>\n",
              "      <td>1</td>\n",
              "    </tr>\n",
              "    <tr>\n",
              "      <th>91343</th>\n",
              "      <td>114</td>\n",
              "      <td>181</td>\n",
              "      <td>1</td>\n",
              "    </tr>\n",
              "    <tr>\n",
              "      <th>91344</th>\n",
              "      <td>148</td>\n",
              "      <td>79</td>\n",
              "      <td>1</td>\n",
              "    </tr>\n",
              "  </tbody>\n",
              "</table>\n",
              "<p>91345 rows × 3 columns</p>\n",
              "</div>"
            ],
            "text/plain": [
              "       PULocationID  DOLocationID  orders\n",
              "0                 7           140       1\n",
              "1                68            88       1\n",
              "2               107           107       1\n",
              "3               107           249       1\n",
              "4               132           181       1\n",
              "...             ...           ...     ...\n",
              "91340           142            43       1\n",
              "91341           246            50       1\n",
              "91342           148           234       1\n",
              "91343           114           181       1\n",
              "91344           148            79       1\n",
              "\n",
              "[91345 rows x 3 columns]"
            ]
          },
          "metadata": {
            "tags": []
          },
          "execution_count": 77
        }
      ]
    },
    {
      "cell_type": "code",
      "metadata": {
        "colab": {
          "base_uri": "https://localhost:8080/",
          "height": 447
        },
        "id": "PJZ7MNkWfEwG",
        "outputId": "8546e498-5143-43a0-8951-e09b544e4fb5"
      },
      "source": [
        "orders_2_std = orders_2.groupby(['PULocationID', 'DOLocationID']).std().dropna()\n",
        "orders_2_std"
      ],
      "execution_count": null,
      "outputs": [
        {
          "output_type": "execute_result",
          "data": {
            "text/html": [
              "<div>\n",
              "<style scoped>\n",
              "    .dataframe tbody tr th:only-of-type {\n",
              "        vertical-align: middle;\n",
              "    }\n",
              "\n",
              "    .dataframe tbody tr th {\n",
              "        vertical-align: top;\n",
              "    }\n",
              "\n",
              "    .dataframe thead th {\n",
              "        text-align: right;\n",
              "    }\n",
              "</style>\n",
              "<table border=\"1\" class=\"dataframe\">\n",
              "  <thead>\n",
              "    <tr style=\"text-align: right;\">\n",
              "      <th></th>\n",
              "      <th></th>\n",
              "      <th>orders</th>\n",
              "    </tr>\n",
              "    <tr>\n",
              "      <th>PULocationID</th>\n",
              "      <th>DOLocationID</th>\n",
              "      <th></th>\n",
              "    </tr>\n",
              "  </thead>\n",
              "  <tbody>\n",
              "    <tr>\n",
              "      <th rowspan=\"3\" valign=\"top\">1</th>\n",
              "      <th>1</th>\n",
              "      <td>17.880157</td>\n",
              "    </tr>\n",
              "    <tr>\n",
              "      <th>132</th>\n",
              "      <td>0.707107</td>\n",
              "    </tr>\n",
              "    <tr>\n",
              "      <th>265</th>\n",
              "      <td>0.577350</td>\n",
              "    </tr>\n",
              "    <tr>\n",
              "      <th>2</th>\n",
              "      <th>2</th>\n",
              "      <td>0.000000</td>\n",
              "    </tr>\n",
              "    <tr>\n",
              "      <th>3</th>\n",
              "      <th>3</th>\n",
              "      <td>1.816590</td>\n",
              "    </tr>\n",
              "    <tr>\n",
              "      <th>...</th>\n",
              "      <th>...</th>\n",
              "      <td>...</td>\n",
              "    </tr>\n",
              "    <tr>\n",
              "      <th rowspan=\"5\" valign=\"top\">265</th>\n",
              "      <th>259</th>\n",
              "      <td>0.000000</td>\n",
              "    </tr>\n",
              "    <tr>\n",
              "      <th>262</th>\n",
              "      <td>0.000000</td>\n",
              "    </tr>\n",
              "    <tr>\n",
              "      <th>263</th>\n",
              "      <td>0.547723</td>\n",
              "    </tr>\n",
              "    <tr>\n",
              "      <th>264</th>\n",
              "      <td>0.500000</td>\n",
              "    </tr>\n",
              "    <tr>\n",
              "      <th>265</th>\n",
              "      <td>50.958807</td>\n",
              "    </tr>\n",
              "  </tbody>\n",
              "</table>\n",
              "<p>21276 rows × 1 columns</p>\n",
              "</div>"
            ],
            "text/plain": [
              "                              orders\n",
              "PULocationID DOLocationID           \n",
              "1            1             17.880157\n",
              "             132            0.707107\n",
              "             265            0.577350\n",
              "2            2              0.000000\n",
              "3            3              1.816590\n",
              "...                              ...\n",
              "265          259            0.000000\n",
              "             262            0.000000\n",
              "             263            0.547723\n",
              "             264            0.500000\n",
              "             265           50.958807\n",
              "\n",
              "[21276 rows x 1 columns]"
            ]
          },
          "metadata": {
            "tags": []
          },
          "execution_count": 78
        }
      ]
    },
    {
      "cell_type": "code",
      "metadata": {
        "colab": {
          "base_uri": "https://localhost:8080/",
          "height": 447
        },
        "id": "h8t9tMGOfL9O",
        "outputId": "167d3d8c-7592-44c9-c703-e9a5f9818dbf"
      },
      "source": [
        "orders_2_mean = orders_2.groupby(['PULocationID', 'DOLocationID']).mean().dropna()\n",
        "orders_2_mean"
      ],
      "execution_count": null,
      "outputs": [
        {
          "output_type": "execute_result",
          "data": {
            "text/html": [
              "<div>\n",
              "<style scoped>\n",
              "    .dataframe tbody tr th:only-of-type {\n",
              "        vertical-align: middle;\n",
              "    }\n",
              "\n",
              "    .dataframe tbody tr th {\n",
              "        vertical-align: top;\n",
              "    }\n",
              "\n",
              "    .dataframe thead th {\n",
              "        text-align: right;\n",
              "    }\n",
              "</style>\n",
              "<table border=\"1\" class=\"dataframe\">\n",
              "  <thead>\n",
              "    <tr style=\"text-align: right;\">\n",
              "      <th></th>\n",
              "      <th></th>\n",
              "      <th>orders</th>\n",
              "    </tr>\n",
              "    <tr>\n",
              "      <th>PULocationID</th>\n",
              "      <th>DOLocationID</th>\n",
              "      <th></th>\n",
              "    </tr>\n",
              "  </thead>\n",
              "  <tbody>\n",
              "    <tr>\n",
              "      <th rowspan=\"5\" valign=\"top\">1</th>\n",
              "      <th>1</th>\n",
              "      <td>45.80</td>\n",
              "    </tr>\n",
              "    <tr>\n",
              "      <th>132</th>\n",
              "      <td>1.50</td>\n",
              "    </tr>\n",
              "    <tr>\n",
              "      <th>137</th>\n",
              "      <td>1.00</td>\n",
              "    </tr>\n",
              "    <tr>\n",
              "      <th>142</th>\n",
              "      <td>1.00</td>\n",
              "    </tr>\n",
              "    <tr>\n",
              "      <th>164</th>\n",
              "      <td>1.00</td>\n",
              "    </tr>\n",
              "    <tr>\n",
              "      <th>...</th>\n",
              "      <th>...</th>\n",
              "      <td>...</td>\n",
              "    </tr>\n",
              "    <tr>\n",
              "      <th rowspan=\"5\" valign=\"top\">265</th>\n",
              "      <th>259</th>\n",
              "      <td>2.00</td>\n",
              "    </tr>\n",
              "    <tr>\n",
              "      <th>262</th>\n",
              "      <td>1.00</td>\n",
              "    </tr>\n",
              "    <tr>\n",
              "      <th>263</th>\n",
              "      <td>1.40</td>\n",
              "    </tr>\n",
              "    <tr>\n",
              "      <th>264</th>\n",
              "      <td>2.25</td>\n",
              "    </tr>\n",
              "    <tr>\n",
              "      <th>265</th>\n",
              "      <td>362.60</td>\n",
              "    </tr>\n",
              "  </tbody>\n",
              "</table>\n",
              "<p>29958 rows × 1 columns</p>\n",
              "</div>"
            ],
            "text/plain": [
              "                           orders\n",
              "PULocationID DOLocationID        \n",
              "1            1              45.80\n",
              "             132             1.50\n",
              "             137             1.00\n",
              "             142             1.00\n",
              "             164             1.00\n",
              "...                           ...\n",
              "265          259             2.00\n",
              "             262             1.00\n",
              "             263             1.40\n",
              "             264             2.25\n",
              "             265           362.60\n",
              "\n",
              "[29958 rows x 1 columns]"
            ]
          },
          "metadata": {
            "tags": []
          },
          "execution_count": 79
        }
      ]
    },
    {
      "cell_type": "code",
      "metadata": {
        "colab": {
          "base_uri": "https://localhost:8080/",
          "height": 447
        },
        "id": "TKxoskaBfRee",
        "outputId": "20cc30b4-dba1-494c-8e47-4864a983d28f"
      },
      "source": [
        "volatility_2 = (orders_2_std / orders_2_mean).dropna()\n",
        "volatility_2"
      ],
      "execution_count": null,
      "outputs": [
        {
          "output_type": "execute_result",
          "data": {
            "text/html": [
              "<div>\n",
              "<style scoped>\n",
              "    .dataframe tbody tr th:only-of-type {\n",
              "        vertical-align: middle;\n",
              "    }\n",
              "\n",
              "    .dataframe tbody tr th {\n",
              "        vertical-align: top;\n",
              "    }\n",
              "\n",
              "    .dataframe thead th {\n",
              "        text-align: right;\n",
              "    }\n",
              "</style>\n",
              "<table border=\"1\" class=\"dataframe\">\n",
              "  <thead>\n",
              "    <tr style=\"text-align: right;\">\n",
              "      <th></th>\n",
              "      <th></th>\n",
              "      <th>orders</th>\n",
              "    </tr>\n",
              "    <tr>\n",
              "      <th>PULocationID</th>\n",
              "      <th>DOLocationID</th>\n",
              "      <th></th>\n",
              "    </tr>\n",
              "  </thead>\n",
              "  <tbody>\n",
              "    <tr>\n",
              "      <th rowspan=\"3\" valign=\"top\">1</th>\n",
              "      <th>1</th>\n",
              "      <td>0.390396</td>\n",
              "    </tr>\n",
              "    <tr>\n",
              "      <th>132</th>\n",
              "      <td>0.471405</td>\n",
              "    </tr>\n",
              "    <tr>\n",
              "      <th>265</th>\n",
              "      <td>0.346410</td>\n",
              "    </tr>\n",
              "    <tr>\n",
              "      <th>2</th>\n",
              "      <th>2</th>\n",
              "      <td>0.000000</td>\n",
              "    </tr>\n",
              "    <tr>\n",
              "      <th>3</th>\n",
              "      <th>3</th>\n",
              "      <td>0.698689</td>\n",
              "    </tr>\n",
              "    <tr>\n",
              "      <th>...</th>\n",
              "      <th>...</th>\n",
              "      <td>...</td>\n",
              "    </tr>\n",
              "    <tr>\n",
              "      <th rowspan=\"5\" valign=\"top\">265</th>\n",
              "      <th>259</th>\n",
              "      <td>0.000000</td>\n",
              "    </tr>\n",
              "    <tr>\n",
              "      <th>262</th>\n",
              "      <td>0.000000</td>\n",
              "    </tr>\n",
              "    <tr>\n",
              "      <th>263</th>\n",
              "      <td>0.391230</td>\n",
              "    </tr>\n",
              "    <tr>\n",
              "      <th>264</th>\n",
              "      <td>0.222222</td>\n",
              "    </tr>\n",
              "    <tr>\n",
              "      <th>265</th>\n",
              "      <td>0.140537</td>\n",
              "    </tr>\n",
              "  </tbody>\n",
              "</table>\n",
              "<p>21276 rows × 1 columns</p>\n",
              "</div>"
            ],
            "text/plain": [
              "                             orders\n",
              "PULocationID DOLocationID          \n",
              "1            1             0.390396\n",
              "             132           0.471405\n",
              "             265           0.346410\n",
              "2            2             0.000000\n",
              "3            3             0.698689\n",
              "...                             ...\n",
              "265          259           0.000000\n",
              "             262           0.000000\n",
              "             263           0.391230\n",
              "             264           0.222222\n",
              "             265           0.140537\n",
              "\n",
              "[21276 rows x 1 columns]"
            ]
          },
          "metadata": {
            "tags": []
          },
          "execution_count": 80
        }
      ]
    },
    {
      "cell_type": "code",
      "metadata": {
        "colab": {
          "base_uri": "https://localhost:8080/",
          "height": 382
        },
        "id": "pFE0-OIbfX7u",
        "outputId": "d56178f7-e382-4cce-f649-82deb9228c46"
      },
      "source": [
        "plt.figure()\n",
        "plt.title('volatility_2')\n",
        "plt.hist(volatility_2['orders'])"
      ],
      "execution_count": null,
      "outputs": [
        {
          "output_type": "execute_result",
          "data": {
            "text/plain": [
              "(array([4.801e+03, 2.907e+03, 4.832e+03, 4.896e+03, 2.253e+03, 1.152e+03,\n",
              "        3.200e+02, 9.200e+01, 2.000e+01, 3.000e+00]),\n",
              " array([0.        , 0.13462912, 0.26925824, 0.40388736, 0.53851648,\n",
              "        0.6731456 , 0.80777472, 0.94240384, 1.07703296, 1.21166208,\n",
              "        1.3462912 ]),\n",
              " <a list of 10 Patch objects>)"
            ]
          },
          "metadata": {
            "tags": []
          },
          "execution_count": 81
        },
        {
          "output_type": "display_data",
          "data": {
            "image/png": "[encoded data removed]",
            "text/plain": [
              "<Figure size 432x288 with 1 Axes>"
            ]
          },
          "metadata": {
            "tags": [],
            "needs_background": "light"
          }
        }
      ]
    },
    {
      "cell_type": "code",
      "metadata": {
        "colab": {
          "base_uri": "https://localhost:8080/"
        },
        "id": "LneRL846feVW",
        "outputId": "82a6c79b-b85c-4a72-e3de-4920ea2fe545"
      },
      "source": [
        "def XYZ_segmentation_2(vol):\n",
        "  if vol < 0.2:\n",
        "    return 'X'\n",
        "  if vol >= 0.2 and vol < 0.5:\n",
        "    return 'Y'\n",
        "  if vol >= 0.5:\n",
        "    return 'Z'\n",
        "\n",
        "group_2_xyz = volatility_2['orders'].apply(XYZ_segmentation_2)\n",
        "group_2_xyz"
      ],
      "execution_count": null,
      "outputs": [
        {
          "output_type": "execute_result",
          "data": {
            "text/plain": [
              "PULocationID  DOLocationID\n",
              "1             1               Y\n",
              "              132             Y\n",
              "              265             Y\n",
              "2             2               X\n",
              "3             3               Z\n",
              "                             ..\n",
              "265           259             X\n",
              "              262             X\n",
              "              263             Y\n",
              "              264             Y\n",
              "              265             X\n",
              "Name: orders, Length: 21276, dtype: object"
            ]
          },
          "metadata": {
            "tags": []
          },
          "execution_count": 82
        }
      ]
    },
    {
      "cell_type": "code",
      "metadata": {
        "colab": {
          "base_uri": "https://localhost:8080/",
          "height": 548
        },
        "id": "HD6xBoFqfqOu",
        "outputId": "8f1b8050-edbd-47e9-a4c2-b6395a9733bc"
      },
      "source": [
        "group_2_abc = pd.DataFrame(group_2_abc).rename({'total_amount': 'ABC_seg'}, axis=1)\n",
        "group_2_abc['XYZ_seg'] = group_2_xyz\n",
        "group_2_class = group_2_abc.dropna()\n",
        "group_2_class['class'] = group_2_abc['ABC_seg'] + group_2_abc['XYZ_seg']\n",
        "group_2_class"
      ],
      "execution_count": null,
      "outputs": [
        {
          "output_type": "stream",
          "text": [
            "/usr/local/lib/python3.7/dist-packages/ipykernel_launcher.py:4: SettingWithCopyWarning: \n",
            "A value is trying to be set on a copy of a slice from a DataFrame.\n",
            "Try using .loc[row_indexer,col_indexer] = value instead\n",
            "\n",
            "See the caveats in the documentation: https://pandas.pydata.org/pandas-docs/stable/user_guide/indexing.html#returning-a-view-versus-a-copy\n",
            "  after removing the cwd from sys.path.\n"
          ],
          "name": "stderr"
        },
        {
          "output_type": "execute_result",
          "data": {
            "text/html": [
              "<div>\n",
              "<style scoped>\n",
              "    .dataframe tbody tr th:only-of-type {\n",
              "        vertical-align: middle;\n",
              "    }\n",
              "\n",
              "    .dataframe tbody tr th {\n",
              "        vertical-align: top;\n",
              "    }\n",
              "\n",
              "    .dataframe thead th {\n",
              "        text-align: right;\n",
              "    }\n",
              "</style>\n",
              "<table border=\"1\" class=\"dataframe\">\n",
              "  <thead>\n",
              "    <tr style=\"text-align: right;\">\n",
              "      <th></th>\n",
              "      <th></th>\n",
              "      <th>ABC_seg</th>\n",
              "      <th>XYZ_seg</th>\n",
              "      <th>class</th>\n",
              "    </tr>\n",
              "    <tr>\n",
              "      <th>PULocationID</th>\n",
              "      <th>DOLocationID</th>\n",
              "      <th></th>\n",
              "      <th></th>\n",
              "      <th></th>\n",
              "    </tr>\n",
              "  </thead>\n",
              "  <tbody>\n",
              "    <tr>\n",
              "      <th>264</th>\n",
              "      <th>264</th>\n",
              "      <td>A</td>\n",
              "      <td>Z</td>\n",
              "      <td>AZ</td>\n",
              "    </tr>\n",
              "    <tr>\n",
              "      <th>132</th>\n",
              "      <th>265</th>\n",
              "      <td>A</td>\n",
              "      <td>Z</td>\n",
              "      <td>AZ</td>\n",
              "    </tr>\n",
              "    <tr>\n",
              "      <th>138</th>\n",
              "      <th>230</th>\n",
              "      <td>A</td>\n",
              "      <td>Y</td>\n",
              "      <td>AY</td>\n",
              "    </tr>\n",
              "    <tr>\n",
              "      <th>132</th>\n",
              "      <th>230</th>\n",
              "      <td>A</td>\n",
              "      <td>Y</td>\n",
              "      <td>AY</td>\n",
              "    </tr>\n",
              "    <tr>\n",
              "      <th>237</th>\n",
              "      <th>236</th>\n",
              "      <td>A</td>\n",
              "      <td>Z</td>\n",
              "      <td>AZ</td>\n",
              "    </tr>\n",
              "    <tr>\n",
              "      <th>...</th>\n",
              "      <th>...</th>\n",
              "      <td>...</td>\n",
              "      <td>...</td>\n",
              "      <td>...</td>\n",
              "    </tr>\n",
              "    <tr>\n",
              "      <th>47</th>\n",
              "      <th>264</th>\n",
              "      <td>C</td>\n",
              "      <td>X</td>\n",
              "      <td>CX</td>\n",
              "    </tr>\n",
              "    <tr>\n",
              "      <th>63</th>\n",
              "      <th>180</th>\n",
              "      <td>C</td>\n",
              "      <td>Y</td>\n",
              "      <td>CY</td>\n",
              "    </tr>\n",
              "    <tr>\n",
              "      <th>29</th>\n",
              "      <th>264</th>\n",
              "      <td>C</td>\n",
              "      <td>X</td>\n",
              "      <td>CX</td>\n",
              "    </tr>\n",
              "    <tr>\n",
              "      <th>264</th>\n",
              "      <th>18</th>\n",
              "      <td>C</td>\n",
              "      <td>X</td>\n",
              "      <td>CX</td>\n",
              "    </tr>\n",
              "    <tr>\n",
              "      <th>19</th>\n",
              "      <th>264</th>\n",
              "      <td>C</td>\n",
              "      <td>X</td>\n",
              "      <td>CX</td>\n",
              "    </tr>\n",
              "  </tbody>\n",
              "</table>\n",
              "<p>21276 rows × 3 columns</p>\n",
              "</div>"
            ],
            "text/plain": [
              "                          ABC_seg XYZ_seg class\n",
              "PULocationID DOLocationID                      \n",
              "264          264                A       Z    AZ\n",
              "132          265                A       Z    AZ\n",
              "138          230                A       Y    AY\n",
              "132          230                A       Y    AY\n",
              "237          236                A       Z    AZ\n",
              "...                           ...     ...   ...\n",
              "47           264                C       X    CX\n",
              "63           180                C       Y    CY\n",
              "29           264                C       X    CX\n",
              "264          18                 C       X    CX\n",
              "19           264                C       X    CX\n",
              "\n",
              "[21276 rows x 3 columns]"
            ]
          },
          "metadata": {
            "tags": []
          },
          "execution_count": 83
        }
      ]
    },
    {
      "cell_type": "code",
      "metadata": {
        "colab": {
          "base_uri": "https://localhost:8080/"
        },
        "id": "qyk5c6Jkf06v",
        "outputId": "72b2b9f4-1c3d-4af6-9483-d33a81b6a927"
      },
      "source": [
        "group_2_class['class'].value_counts()"
      ],
      "execution_count": null,
      "outputs": [
        {
          "output_type": "execute_result",
          "data": {
            "text/plain": [
              "CY    6116\n",
              "CX    4798\n",
              "CZ    3633\n",
              "BY    3365\n",
              "AY    1586\n",
              "BZ     810\n",
              "BX     420\n",
              "AZ     301\n",
              "AX     247\n",
              "Name: class, dtype: int64"
            ]
          },
          "metadata": {
            "tags": []
          },
          "execution_count": 84
        }
      ]
    },
    {
      "cell_type": "code",
      "metadata": {
        "colab": {
          "base_uri": "https://localhost:8080/",
          "height": 286
        },
        "id": "f7fRpf5Of5qv",
        "outputId": "b88b82d2-2465-474e-f622-11cd13ba92a3"
      },
      "source": [
        "group_2_class['class'].value_counts().plot(kind='bar')"
      ],
      "execution_count": null,
      "outputs": [
        {
          "output_type": "execute_result",
          "data": {
            "text/plain": [
              "<matplotlib.axes._subplots.AxesSubplot at 0x7f1ae502a310>"
            ]
          },
          "metadata": {
            "tags": []
          },
          "execution_count": 85
        },
        {
          "output_type": "display_data",
          "data": {
            "image/png": "[encoded data removed]",
            "text/plain": [
              "<Figure size 432x288 with 1 Axes>"
            ]
          },
          "metadata": {
            "tags": [],
            "needs_background": "light"
          }
        }
      ]
    },
    {
      "cell_type": "markdown",
      "metadata": {
        "id": "D606OOgiq7LN"
      },
      "source": [
        "### **3. Проверка гипотез**"
      ]
    },
    {
      "cell_type": "code",
      "metadata": {
        "id": "SJ_sJFrW3z-s"
      },
      "source": [
        "from scipy import stats"
      ],
      "execution_count": null,
      "outputs": []
    },
    {
      "cell_type": "code",
      "metadata": {
        "colab": {
          "base_uri": "https://localhost:8080/",
          "height": 417
        },
        "id": "m1Ta8BDggAu_",
        "outputId": "9d2dd7f6-e983-43bd-cf35-1061fbdaf24e"
      },
      "source": [
        "data_hyp = data[['VendorID', 'PULocationID', 'DOLocationID', 'fare_amount']][data['VendorID']!=4]\n",
        "data_hyp"
      ],
      "execution_count": null,
      "outputs": [
        {
          "output_type": "execute_result",
          "data": {
            "text/html": [
              "<div>\n",
              "<style scoped>\n",
              "    .dataframe tbody tr th:only-of-type {\n",
              "        vertical-align: middle;\n",
              "    }\n",
              "\n",
              "    .dataframe tbody tr th {\n",
              "        vertical-align: top;\n",
              "    }\n",
              "\n",
              "    .dataframe thead th {\n",
              "        text-align: right;\n",
              "    }\n",
              "</style>\n",
              "<table border=\"1\" class=\"dataframe\">\n",
              "  <thead>\n",
              "    <tr style=\"text-align: right;\">\n",
              "      <th></th>\n",
              "      <th>VendorID</th>\n",
              "      <th>PULocationID</th>\n",
              "      <th>DOLocationID</th>\n",
              "      <th>fare_amount</th>\n",
              "    </tr>\n",
              "  </thead>\n",
              "  <tbody>\n",
              "    <tr>\n",
              "      <th>0</th>\n",
              "      <td>1</td>\n",
              "      <td>151</td>\n",
              "      <td>239</td>\n",
              "      <td>7.0</td>\n",
              "    </tr>\n",
              "    <tr>\n",
              "      <th>1</th>\n",
              "      <td>1</td>\n",
              "      <td>239</td>\n",
              "      <td>246</td>\n",
              "      <td>14.0</td>\n",
              "    </tr>\n",
              "    <tr>\n",
              "      <th>2</th>\n",
              "      <td>2</td>\n",
              "      <td>236</td>\n",
              "      <td>236</td>\n",
              "      <td>4.5</td>\n",
              "    </tr>\n",
              "    <tr>\n",
              "      <th>3</th>\n",
              "      <td>2</td>\n",
              "      <td>193</td>\n",
              "      <td>193</td>\n",
              "      <td>3.5</td>\n",
              "    </tr>\n",
              "    <tr>\n",
              "      <th>4</th>\n",
              "      <td>2</td>\n",
              "      <td>193</td>\n",
              "      <td>193</td>\n",
              "      <td>52.0</td>\n",
              "    </tr>\n",
              "    <tr>\n",
              "      <th>...</th>\n",
              "      <td>...</td>\n",
              "      <td>...</td>\n",
              "      <td>...</td>\n",
              "      <td>...</td>\n",
              "    </tr>\n",
              "    <tr>\n",
              "      <th>7667783</th>\n",
              "      <td>2</td>\n",
              "      <td>186</td>\n",
              "      <td>13</td>\n",
              "      <td>14.5</td>\n",
              "    </tr>\n",
              "    <tr>\n",
              "      <th>7667784</th>\n",
              "      <td>2</td>\n",
              "      <td>68</td>\n",
              "      <td>233</td>\n",
              "      <td>8.0</td>\n",
              "    </tr>\n",
              "    <tr>\n",
              "      <th>7667785</th>\n",
              "      <td>2</td>\n",
              "      <td>161</td>\n",
              "      <td>229</td>\n",
              "      <td>10.5</td>\n",
              "    </tr>\n",
              "    <tr>\n",
              "      <th>7667786</th>\n",
              "      <td>2</td>\n",
              "      <td>186</td>\n",
              "      <td>262</td>\n",
              "      <td>17.0</td>\n",
              "    </tr>\n",
              "    <tr>\n",
              "      <th>7667787</th>\n",
              "      <td>2</td>\n",
              "      <td>263</td>\n",
              "      <td>4</td>\n",
              "      <td>18.0</td>\n",
              "    </tr>\n",
              "  </tbody>\n",
              "</table>\n",
              "<p>7582419 rows × 4 columns</p>\n",
              "</div>"
            ],
            "text/plain": [
              "         VendorID  PULocationID  DOLocationID  fare_amount\n",
              "0               1           151           239          7.0\n",
              "1               1           239           246         14.0\n",
              "2               2           236           236          4.5\n",
              "3               2           193           193          3.5\n",
              "4               2           193           193         52.0\n",
              "...           ...           ...           ...          ...\n",
              "7667783         2           186            13         14.5\n",
              "7667784         2            68           233          8.0\n",
              "7667785         2           161           229         10.5\n",
              "7667786         2           186           262         17.0\n",
              "7667787         2           263             4         18.0\n",
              "\n",
              "[7582419 rows x 4 columns]"
            ]
          },
          "metadata": {
            "tags": []
          },
          "execution_count": 108
        }
      ]
    },
    {
      "cell_type": "code",
      "metadata": {
        "colab": {
          "base_uri": "https://localhost:8080/"
        },
        "id": "b8EIKfK1rV5_",
        "outputId": "078f2901-ce82-4502-c823-98d7c48d050a"
      },
      "source": [
        "group_hyp_size = data_hyp.groupby(['PULocationID', 'DOLocationID']).size()\n",
        "group_hyp_size = group_hyp_size.sort_values(ascending=False)\n",
        "group_hyp_size.head()"
      ],
      "execution_count": null,
      "outputs": [
        {
          "output_type": "execute_result",
          "data": {
            "text/plain": [
              "PULocationID  DOLocationID\n",
              "264           264             138451\n",
              "237           236              50459\n",
              "236           236              47146\n",
              "              237              42867\n",
              "237           237              39304\n",
              "dtype: int64"
            ]
          },
          "metadata": {
            "tags": []
          },
          "execution_count": 109
        }
      ]
    },
    {
      "cell_type": "code",
      "metadata": {
        "id": "LFFtIEPussxN"
      },
      "source": [
        "data_top_5 = data_hyp[(data_hyp['PULocationID']==264) & (data_hyp['DOLocationID']==264) |\n",
        "                      (data_hyp['PULocationID']==237) & (data_hyp['DOLocationID']==236) |\n",
        "                      (data_hyp['PULocationID']==236) & (data_hyp['DOLocationID']==236) |\n",
        "                      (data_hyp['PULocationID']==236) & (data_hyp['DOLocationID']==237) |\n",
        "                      (data_hyp['PULocationID']==237) & (data_hyp['DOLocationID']==237) ]"
      ],
      "execution_count": null,
      "outputs": []
    },
    {
      "cell_type": "code",
      "metadata": {
        "colab": {
          "base_uri": "https://localhost:8080/",
          "height": 388
        },
        "id": "8nrg8sFetHe2",
        "outputId": "2be2aed4-f54d-4c6a-c784-6cfd4e80d6f5"
      },
      "source": [
        "group_top_5 = data_top_5.groupby(['PULocationID', 'DOLocationID', 'VendorID']).mean()\n",
        "group_top_5"
      ],
      "execution_count": null,
      "outputs": [
        {
          "output_type": "execute_result",
          "data": {
            "text/html": [
              "<div>\n",
              "<style scoped>\n",
              "    .dataframe tbody tr th:only-of-type {\n",
              "        vertical-align: middle;\n",
              "    }\n",
              "\n",
              "    .dataframe tbody tr th {\n",
              "        vertical-align: top;\n",
              "    }\n",
              "\n",
              "    .dataframe thead th {\n",
              "        text-align: right;\n",
              "    }\n",
              "</style>\n",
              "<table border=\"1\" class=\"dataframe\">\n",
              "  <thead>\n",
              "    <tr style=\"text-align: right;\">\n",
              "      <th></th>\n",
              "      <th></th>\n",
              "      <th></th>\n",
              "      <th>fare_amount</th>\n",
              "    </tr>\n",
              "    <tr>\n",
              "      <th>PULocationID</th>\n",
              "      <th>DOLocationID</th>\n",
              "      <th>VendorID</th>\n",
              "      <th></th>\n",
              "    </tr>\n",
              "  </thead>\n",
              "  <tbody>\n",
              "    <tr>\n",
              "      <th rowspan=\"4\" valign=\"top\">236</th>\n",
              "      <th rowspan=\"2\" valign=\"top\">236</th>\n",
              "      <th>1</th>\n",
              "      <td>4.968908</td>\n",
              "    </tr>\n",
              "    <tr>\n",
              "      <th>2</th>\n",
              "      <td>5.203442</td>\n",
              "    </tr>\n",
              "    <tr>\n",
              "      <th rowspan=\"2\" valign=\"top\">237</th>\n",
              "      <th>1</th>\n",
              "      <td>6.869761</td>\n",
              "    </tr>\n",
              "    <tr>\n",
              "      <th>2</th>\n",
              "      <td>6.890603</td>\n",
              "    </tr>\n",
              "    <tr>\n",
              "      <th rowspan=\"4\" valign=\"top\">237</th>\n",
              "      <th rowspan=\"2\" valign=\"top\">236</th>\n",
              "      <th>1</th>\n",
              "      <td>6.251920</td>\n",
              "    </tr>\n",
              "    <tr>\n",
              "      <th>2</th>\n",
              "      <td>6.274501</td>\n",
              "    </tr>\n",
              "    <tr>\n",
              "      <th rowspan=\"2\" valign=\"top\">237</th>\n",
              "      <th>1</th>\n",
              "      <td>5.370145</td>\n",
              "    </tr>\n",
              "    <tr>\n",
              "      <th>2</th>\n",
              "      <td>5.537154</td>\n",
              "    </tr>\n",
              "    <tr>\n",
              "      <th rowspan=\"2\" valign=\"top\">264</th>\n",
              "      <th rowspan=\"2\" valign=\"top\">264</th>\n",
              "      <th>1</th>\n",
              "      <td>15.378081</td>\n",
              "    </tr>\n",
              "    <tr>\n",
              "      <th>2</th>\n",
              "      <td>11.971343</td>\n",
              "    </tr>\n",
              "  </tbody>\n",
              "</table>\n",
              "</div>"
            ],
            "text/plain": [
              "                                    fare_amount\n",
              "PULocationID DOLocationID VendorID             \n",
              "236          236          1            4.968908\n",
              "                          2            5.203442\n",
              "             237          1            6.869761\n",
              "                          2            6.890603\n",
              "237          236          1            6.251920\n",
              "                          2            6.274501\n",
              "             237          1            5.370145\n",
              "                          2            5.537154\n",
              "264          264          1           15.378081\n",
              "                          2           11.971343"
            ]
          },
          "metadata": {
            "tags": []
          },
          "execution_count": 111
        }
      ]
    },
    {
      "cell_type": "code",
      "metadata": {
        "colab": {
          "base_uri": "https://localhost:8080/"
        },
        "id": "CY1fiHUB0Px-",
        "outputId": "15f8dad0-c1ad-47a0-85e2-207c254a18a5"
      },
      "source": [
        "data_top_0 = data_top_5[(data_top_5['PULocationID']==236) & (data_top_5['DOLocationID']==236)]\n",
        "stats.ttest_ind(data_top_0[data_top_0['VendorID']==1], data_top_0[data_top_0['VendorID']==2])"
      ],
      "execution_count": null,
      "outputs": [
        {
          "output_type": "execute_result",
          "data": {
            "text/plain": [
              "Ttest_indResult(statistic=array([       -inf,         nan,         nan, -6.58249148]), pvalue=array([0.00000000e+00,            nan,            nan, 4.67467898e-11]))"
            ]
          },
          "metadata": {
            "tags": []
          },
          "execution_count": 123
        }
      ]
    },
    {
      "cell_type": "code",
      "metadata": {
        "colab": {
          "base_uri": "https://localhost:8080/"
        },
        "id": "_EIRUTpA4ShT",
        "outputId": "18394c88-ab81-44e4-e998-8545c841a5e8"
      },
      "source": [
        "data_top_1 = data_top_5[(data_top_5['PULocationID']==236) & (data_top_5['DOLocationID']==237)]\n",
        "stats.ttest_ind(data_top_1[data_top_1['VendorID']==1], data_top_1[data_top_1['VendorID']==2])"
      ],
      "execution_count": null,
      "outputs": [
        {
          "output_type": "execute_result",
          "data": {
            "text/plain": [
              "Ttest_indResult(statistic=array([      -inf,        nan,        nan, -0.9692263]), pvalue=array([0.        ,        nan,        nan, 0.33243776]))"
            ]
          },
          "metadata": {
            "tags": []
          },
          "execution_count": 124
        }
      ]
    },
    {
      "cell_type": "code",
      "metadata": {
        "colab": {
          "base_uri": "https://localhost:8080/"
        },
        "id": "vuLf7M1N5FiV",
        "outputId": "90307bd8-7137-4721-875f-1dd13b74fb02"
      },
      "source": [
        "data_top_2 = data_top_5[(data_top_5['PULocationID']==237) & (data_top_5['DOLocationID']==236)]\n",
        "stats.ttest_ind(data_top_2[data_top_2['VendorID']==1], data_top_2[data_top_2['VendorID']==2])"
      ],
      "execution_count": null,
      "outputs": [
        {
          "output_type": "execute_result",
          "data": {
            "text/plain": [
              "Ttest_indResult(statistic=array([       -inf,         nan,         nan, -1.32617406]), pvalue=array([0.        ,        nan,        nan, 0.18478805]))"
            ]
          },
          "metadata": {
            "tags": []
          },
          "execution_count": 125
        }
      ]
    },
    {
      "cell_type": "code",
      "metadata": {
        "colab": {
          "base_uri": "https://localhost:8080/"
        },
        "id": "zHJ28C1N5_YG",
        "outputId": "70655422-67f4-4d64-b8a4-302d6a1ae19e"
      },
      "source": [
        "data_top_3 = data_top_5[(data_top_5['PULocationID']==237) & (data_top_5['DOLocationID']==237)]\n",
        "stats.ttest_ind(data_top_3[data_top_3['VendorID']==1], data_top_3[data_top_3['VendorID']==2])"
      ],
      "execution_count": null,
      "outputs": [
        {
          "output_type": "execute_result",
          "data": {
            "text/plain": [
              "Ttest_indResult(statistic=array([      -inf,        nan,        nan, -3.9779471]), pvalue=array([0.00000000e+00,            nan,            nan, 6.96373348e-05]))"
            ]
          },
          "metadata": {
            "tags": []
          },
          "execution_count": 126
        }
      ]
    },
    {
      "cell_type": "code",
      "metadata": {
        "colab": {
          "base_uri": "https://localhost:8080/"
        },
        "id": "_oO1fQFf6I1c",
        "outputId": "9c17a260-edf7-4a52-d81d-992585662700"
      },
      "source": [
        "data_top_4 = data_top_5[(data_top_5['PULocationID']==264) & (data_top_5['DOLocationID']==264)]\n",
        "stats.ttest_ind(data_top_4[data_top_4['VendorID']==1], data_top_4[data_top_4['VendorID']==2])"
      ],
      "execution_count": null,
      "outputs": [
        {
          "output_type": "execute_result",
          "data": {
            "text/plain": [
              "Ttest_indResult(statistic=array([      -inf,        nan,        nan, 2.03153073]), pvalue=array([0.        ,        nan,        nan, 0.04220309]))"
            ]
          },
          "metadata": {
            "tags": []
          },
          "execution_count": 127
        }
      ]
    },
    {
      "cell_type": "markdown",
      "metadata": {
        "id": "Vac-EAkm6YOl"
      },
      "source": [
        "Если выбрать уровень значимости 0,05, то для пар зон посадок и высадок 236-236, 237-237, 264-264 гипотеза о равенстве среднего времени поездок отвергается, так как p-value < 0,05,\n",
        "а для пар зон 236-237 и 237-236 гипотеза о равенстве среднего времени поездок подтверждается, так как p-value > 0,05"
      ]
    },
    {
      "cell_type": "code",
      "metadata": {
        "id": "1mSstxKZ7OOD"
      },
      "source": [],
      "execution_count": null,
      "outputs": []
    },
    {
      "cell_type": "markdown",
      "metadata": {
        "id": "0Hl9yg7s7QH4"
      },
      "source": [
        "### **4. постройте дэшборд**"
      ]
    },
    {
      "cell_type": "markdown",
      "metadata": {
        "id": "PstaTkLM_qzy"
      },
      "source": [
        "Сделать не успел. Не хватило практики по работе с базами данных. ((("
      ]
    },
    {
      "cell_type": "code",
      "metadata": {
        "id": "elck5agI7Zuh"
      },
      "source": [],
      "execution_count": null,
      "outputs": []
    }
  ]
}